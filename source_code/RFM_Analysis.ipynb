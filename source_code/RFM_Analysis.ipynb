{
 "cells": [
  {
   "cell_type": "markdown",
   "metadata": {},
   "source": [
    "# RFM 분석 및 고객 세그멘테이션"
   ]
  },
  {
   "cell_type": "code",
   "execution_count": 1,
   "metadata": {},
   "outputs": [],
   "source": [
    "import pandas as pd\n",
    "import numpy as np\n",
    "import datetime as dt\n",
    "import matplotlib.pyplot as plt\n",
    "import seaborn as sns\n",
    "import warnings\n",
    "warnings.filterwarnings(action='ignore')\n",
    "\n",
    "customer = pd.read_csv(\"./olist_customers_dataset.csv\")\n",
    "orders = pd.read_csv('./olist_orders_dataset.csv')\n",
    "order_payments = pd.read_csv('./olist_order_payments_dataset.csv')\n",
    "order_items = pd.read_csv('./olist_order_items_dataset.csv')"
   ]
  },
  {
   "cell_type": "markdown",
   "metadata": {},
   "source": [
    "## 데이터 확인"
   ]
  },
  {
   "cell_type": "code",
   "execution_count": 2,
   "metadata": {},
   "outputs": [
    {
     "data": {
      "text/html": [
       "<div>\n",
       "<style scoped>\n",
       "    .dataframe tbody tr th:only-of-type {\n",
       "        vertical-align: middle;\n",
       "    }\n",
       "\n",
       "    .dataframe tbody tr th {\n",
       "        vertical-align: top;\n",
       "    }\n",
       "\n",
       "    .dataframe thead th {\n",
       "        text-align: right;\n",
       "    }\n",
       "</style>\n",
       "<table border=\"1\" class=\"dataframe\">\n",
       "  <thead>\n",
       "    <tr style=\"text-align: right;\">\n",
       "      <th></th>\n",
       "      <th>order_id</th>\n",
       "      <th>customer_id</th>\n",
       "      <th>order_status</th>\n",
       "      <th>order_purchase_timestamp</th>\n",
       "      <th>order_approved_at</th>\n",
       "      <th>order_delivered_carrier_date</th>\n",
       "      <th>order_delivered_customer_date</th>\n",
       "      <th>order_estimated_delivery_date</th>\n",
       "    </tr>\n",
       "  </thead>\n",
       "  <tbody>\n",
       "    <tr>\n",
       "      <th>61990</th>\n",
       "      <td>fffb9224b6fc7c43ebb0904318b10b5f</td>\n",
       "      <td>4d3abb73ceb86353aeadbe698aa9d5cb</td>\n",
       "      <td>delivered</td>\n",
       "      <td>2017-10-27 16:51:00</td>\n",
       "      <td>2017-10-28 02:55:58</td>\n",
       "      <td>2017-11-10 19:31:52</td>\n",
       "      <td>2017-11-17 19:41:42</td>\n",
       "      <td>2017-11-27 00:00:00</td>\n",
       "    </tr>\n",
       "  </tbody>\n",
       "</table>\n",
       "</div>"
      ],
      "text/plain": [
       "                               order_id                       customer_id  \\\n",
       "61990  fffb9224b6fc7c43ebb0904318b10b5f  4d3abb73ceb86353aeadbe698aa9d5cb   \n",
       "\n",
       "      order_status order_purchase_timestamp    order_approved_at  \\\n",
       "61990    delivered      2017-10-27 16:51:00  2017-10-28 02:55:58   \n",
       "\n",
       "      order_delivered_carrier_date order_delivered_customer_date  \\\n",
       "61990          2017-11-10 19:31:52           2017-11-17 19:41:42   \n",
       "\n",
       "      order_estimated_delivery_date  \n",
       "61990           2017-11-27 00:00:00  "
      ]
     },
     "execution_count": 2,
     "metadata": {},
     "output_type": "execute_result"
    }
   ],
   "source": [
    "# orders[orders['order_id'].duplicated()]\n",
    "orders[orders['order_id'] == 'fffb9224b6fc7c43ebb0904318b10b5f']"
   ]
  },
  {
   "cell_type": "code",
   "execution_count": 3,
   "metadata": {},
   "outputs": [
    {
     "data": {
      "text/html": [
       "<div>\n",
       "<style scoped>\n",
       "    .dataframe tbody tr th:only-of-type {\n",
       "        vertical-align: middle;\n",
       "    }\n",
       "\n",
       "    .dataframe tbody tr th {\n",
       "        vertical-align: top;\n",
       "    }\n",
       "\n",
       "    .dataframe thead th {\n",
       "        text-align: right;\n",
       "    }\n",
       "</style>\n",
       "<table border=\"1\" class=\"dataframe\">\n",
       "  <thead>\n",
       "    <tr style=\"text-align: right;\">\n",
       "      <th></th>\n",
       "      <th>order_id</th>\n",
       "      <th>payment_sequential</th>\n",
       "      <th>payment_type</th>\n",
       "      <th>payment_installments</th>\n",
       "      <th>payment_value</th>\n",
       "    </tr>\n",
       "  </thead>\n",
       "  <tbody>\n",
       "    <tr>\n",
       "      <th>91871</th>\n",
       "      <td>fffb9224b6fc7c43ebb0904318b10b5f</td>\n",
       "      <td>1</td>\n",
       "      <td>boleto</td>\n",
       "      <td>1</td>\n",
       "      <td>356.76</td>\n",
       "    </tr>\n",
       "  </tbody>\n",
       "</table>\n",
       "</div>"
      ],
      "text/plain": [
       "                               order_id  payment_sequential payment_type  \\\n",
       "91871  fffb9224b6fc7c43ebb0904318b10b5f                   1       boleto   \n",
       "\n",
       "       payment_installments  payment_value  \n",
       "91871                     1         356.76  "
      ]
     },
     "execution_count": 3,
     "metadata": {},
     "output_type": "execute_result"
    }
   ],
   "source": [
    "order_payments[order_payments['order_id'] == 'fffb9224b6fc7c43ebb0904318b10b5f']"
   ]
  },
  {
   "cell_type": "code",
   "execution_count": 4,
   "metadata": {},
   "outputs": [
    {
     "data": {
      "text/html": [
       "<div>\n",
       "<style scoped>\n",
       "    .dataframe tbody tr th:only-of-type {\n",
       "        vertical-align: middle;\n",
       "    }\n",
       "\n",
       "    .dataframe tbody tr th {\n",
       "        vertical-align: top;\n",
       "    }\n",
       "\n",
       "    .dataframe thead th {\n",
       "        text-align: right;\n",
       "    }\n",
       "</style>\n",
       "<table border=\"1\" class=\"dataframe\">\n",
       "  <thead>\n",
       "    <tr style=\"text-align: right;\">\n",
       "      <th></th>\n",
       "      <th>order_id</th>\n",
       "      <th>order_item_id</th>\n",
       "      <th>product_id</th>\n",
       "      <th>seller_id</th>\n",
       "      <th>shipping_limit_date</th>\n",
       "      <th>price</th>\n",
       "      <th>freight_value</th>\n",
       "    </tr>\n",
       "  </thead>\n",
       "  <tbody>\n",
       "    <tr>\n",
       "      <th>112640</th>\n",
       "      <td>fffb9224b6fc7c43ebb0904318b10b5f</td>\n",
       "      <td>1</td>\n",
       "      <td>43423cdffde7fda63d0414ed38c11a73</td>\n",
       "      <td>b1fc4f64df5a0e8b6913ab38803c57a9</td>\n",
       "      <td>2017-11-03 02:55:58</td>\n",
       "      <td>55.0</td>\n",
       "      <td>34.19</td>\n",
       "    </tr>\n",
       "    <tr>\n",
       "      <th>112641</th>\n",
       "      <td>fffb9224b6fc7c43ebb0904318b10b5f</td>\n",
       "      <td>2</td>\n",
       "      <td>43423cdffde7fda63d0414ed38c11a73</td>\n",
       "      <td>b1fc4f64df5a0e8b6913ab38803c57a9</td>\n",
       "      <td>2017-11-03 02:55:58</td>\n",
       "      <td>55.0</td>\n",
       "      <td>34.19</td>\n",
       "    </tr>\n",
       "    <tr>\n",
       "      <th>112642</th>\n",
       "      <td>fffb9224b6fc7c43ebb0904318b10b5f</td>\n",
       "      <td>3</td>\n",
       "      <td>43423cdffde7fda63d0414ed38c11a73</td>\n",
       "      <td>b1fc4f64df5a0e8b6913ab38803c57a9</td>\n",
       "      <td>2017-11-03 02:55:58</td>\n",
       "      <td>55.0</td>\n",
       "      <td>34.19</td>\n",
       "    </tr>\n",
       "    <tr>\n",
       "      <th>112643</th>\n",
       "      <td>fffb9224b6fc7c43ebb0904318b10b5f</td>\n",
       "      <td>4</td>\n",
       "      <td>43423cdffde7fda63d0414ed38c11a73</td>\n",
       "      <td>b1fc4f64df5a0e8b6913ab38803c57a9</td>\n",
       "      <td>2017-11-03 02:55:58</td>\n",
       "      <td>55.0</td>\n",
       "      <td>34.19</td>\n",
       "    </tr>\n",
       "  </tbody>\n",
       "</table>\n",
       "</div>"
      ],
      "text/plain": [
       "                                order_id  order_item_id  \\\n",
       "112640  fffb9224b6fc7c43ebb0904318b10b5f              1   \n",
       "112641  fffb9224b6fc7c43ebb0904318b10b5f              2   \n",
       "112642  fffb9224b6fc7c43ebb0904318b10b5f              3   \n",
       "112643  fffb9224b6fc7c43ebb0904318b10b5f              4   \n",
       "\n",
       "                              product_id                         seller_id  \\\n",
       "112640  43423cdffde7fda63d0414ed38c11a73  b1fc4f64df5a0e8b6913ab38803c57a9   \n",
       "112641  43423cdffde7fda63d0414ed38c11a73  b1fc4f64df5a0e8b6913ab38803c57a9   \n",
       "112642  43423cdffde7fda63d0414ed38c11a73  b1fc4f64df5a0e8b6913ab38803c57a9   \n",
       "112643  43423cdffde7fda63d0414ed38c11a73  b1fc4f64df5a0e8b6913ab38803c57a9   \n",
       "\n",
       "        shipping_limit_date  price  freight_value  \n",
       "112640  2017-11-03 02:55:58   55.0          34.19  \n",
       "112641  2017-11-03 02:55:58   55.0          34.19  \n",
       "112642  2017-11-03 02:55:58   55.0          34.19  \n",
       "112643  2017-11-03 02:55:58   55.0          34.19  "
      ]
     },
     "execution_count": 4,
     "metadata": {},
     "output_type": "execute_result"
    }
   ],
   "source": [
    "order_items[order_items['order_id'] == 'fffb9224b6fc7c43ebb0904318b10b5f']\n",
    "# order_items2 = order_items[['order_id', 'price','freight_value']].groupby('order_id').sum()\n",
    "# order_items2\n",
    "# order_items = order_items.reset_index()\n",
    "# order_items2 = order_items2.reset_index()\n",
    "# order_items2\n",
    "# order_items[['price','freight_value']] = order_items2\n",
    "# order_items\n",
    "# order_items = order_items.drop_duplicates(['order_id'])\n",
    "# order_items"
   ]
  },
  {
   "cell_type": "code",
   "execution_count": 5,
   "metadata": {},
   "outputs": [
    {
     "data": {
      "text/html": [
       "<div>\n",
       "<style scoped>\n",
       "    .dataframe tbody tr th:only-of-type {\n",
       "        vertical-align: middle;\n",
       "    }\n",
       "\n",
       "    .dataframe tbody tr th {\n",
       "        vertical-align: top;\n",
       "    }\n",
       "\n",
       "    .dataframe thead th {\n",
       "        text-align: right;\n",
       "    }\n",
       "</style>\n",
       "<table border=\"1\" class=\"dataframe\">\n",
       "  <thead>\n",
       "    <tr style=\"text-align: right;\">\n",
       "      <th></th>\n",
       "      <th>order_id</th>\n",
       "      <th>customer_id</th>\n",
       "      <th>order_status</th>\n",
       "      <th>order_purchase_timestamp</th>\n",
       "      <th>order_approved_at</th>\n",
       "      <th>order_delivered_carrier_date</th>\n",
       "      <th>order_delivered_customer_date</th>\n",
       "      <th>order_estimated_delivery_date</th>\n",
       "      <th>customer_unique_id</th>\n",
       "      <th>customer_zip_code_prefix</th>\n",
       "      <th>...</th>\n",
       "      <th>order_item_id</th>\n",
       "      <th>product_id</th>\n",
       "      <th>seller_id</th>\n",
       "      <th>shipping_limit_date</th>\n",
       "      <th>price</th>\n",
       "      <th>freight_value</th>\n",
       "      <th>payment_sequential</th>\n",
       "      <th>payment_type</th>\n",
       "      <th>payment_installments</th>\n",
       "      <th>payment_value</th>\n",
       "    </tr>\n",
       "  </thead>\n",
       "  <tbody>\n",
       "    <tr>\n",
       "      <th>0</th>\n",
       "      <td>e481f51cbdc54678b7cc49136f2d6af7</td>\n",
       "      <td>9ef432eb6251297304e76186b10a928d</td>\n",
       "      <td>delivered</td>\n",
       "      <td>2017-10-02 10:56:33</td>\n",
       "      <td>2017-10-02 11:07:15</td>\n",
       "      <td>2017-10-04 19:55:00</td>\n",
       "      <td>2017-10-10 21:25:13</td>\n",
       "      <td>2017-10-18 00:00:00</td>\n",
       "      <td>7c396fd4830fd04220f754e42b4e5bff</td>\n",
       "      <td>3149</td>\n",
       "      <td>...</td>\n",
       "      <td>1</td>\n",
       "      <td>87285b34884572647811a353c7ac498a</td>\n",
       "      <td>3504c0cb71d7fa48d967e0e4c94d59d9</td>\n",
       "      <td>2017-10-06 11:07:15</td>\n",
       "      <td>29.99</td>\n",
       "      <td>8.72</td>\n",
       "      <td>1</td>\n",
       "      <td>credit_card</td>\n",
       "      <td>1</td>\n",
       "      <td>18.12</td>\n",
       "    </tr>\n",
       "    <tr>\n",
       "      <th>1</th>\n",
       "      <td>e481f51cbdc54678b7cc49136f2d6af7</td>\n",
       "      <td>9ef432eb6251297304e76186b10a928d</td>\n",
       "      <td>delivered</td>\n",
       "      <td>2017-10-02 10:56:33</td>\n",
       "      <td>2017-10-02 11:07:15</td>\n",
       "      <td>2017-10-04 19:55:00</td>\n",
       "      <td>2017-10-10 21:25:13</td>\n",
       "      <td>2017-10-18 00:00:00</td>\n",
       "      <td>7c396fd4830fd04220f754e42b4e5bff</td>\n",
       "      <td>3149</td>\n",
       "      <td>...</td>\n",
       "      <td>1</td>\n",
       "      <td>87285b34884572647811a353c7ac498a</td>\n",
       "      <td>3504c0cb71d7fa48d967e0e4c94d59d9</td>\n",
       "      <td>2017-10-06 11:07:15</td>\n",
       "      <td>29.99</td>\n",
       "      <td>8.72</td>\n",
       "      <td>3</td>\n",
       "      <td>voucher</td>\n",
       "      <td>1</td>\n",
       "      <td>2.00</td>\n",
       "    </tr>\n",
       "    <tr>\n",
       "      <th>2</th>\n",
       "      <td>e481f51cbdc54678b7cc49136f2d6af7</td>\n",
       "      <td>9ef432eb6251297304e76186b10a928d</td>\n",
       "      <td>delivered</td>\n",
       "      <td>2017-10-02 10:56:33</td>\n",
       "      <td>2017-10-02 11:07:15</td>\n",
       "      <td>2017-10-04 19:55:00</td>\n",
       "      <td>2017-10-10 21:25:13</td>\n",
       "      <td>2017-10-18 00:00:00</td>\n",
       "      <td>7c396fd4830fd04220f754e42b4e5bff</td>\n",
       "      <td>3149</td>\n",
       "      <td>...</td>\n",
       "      <td>1</td>\n",
       "      <td>87285b34884572647811a353c7ac498a</td>\n",
       "      <td>3504c0cb71d7fa48d967e0e4c94d59d9</td>\n",
       "      <td>2017-10-06 11:07:15</td>\n",
       "      <td>29.99</td>\n",
       "      <td>8.72</td>\n",
       "      <td>2</td>\n",
       "      <td>voucher</td>\n",
       "      <td>1</td>\n",
       "      <td>18.59</td>\n",
       "    </tr>\n",
       "    <tr>\n",
       "      <th>3</th>\n",
       "      <td>53cdb2fc8bc7dce0b6741e2150273451</td>\n",
       "      <td>b0830fb4747a6c6d20dea0b8c802d7ef</td>\n",
       "      <td>delivered</td>\n",
       "      <td>2018-07-24 20:41:37</td>\n",
       "      <td>2018-07-26 03:24:27</td>\n",
       "      <td>2018-07-26 14:31:00</td>\n",
       "      <td>2018-08-07 15:27:45</td>\n",
       "      <td>2018-08-13 00:00:00</td>\n",
       "      <td>af07308b275d755c9edb36a90c618231</td>\n",
       "      <td>47813</td>\n",
       "      <td>...</td>\n",
       "      <td>1</td>\n",
       "      <td>595fac2a385ac33a80bd5114aec74eb8</td>\n",
       "      <td>289cdb325fb7e7f891c38608bf9e0962</td>\n",
       "      <td>2018-07-30 03:24:27</td>\n",
       "      <td>118.70</td>\n",
       "      <td>22.76</td>\n",
       "      <td>1</td>\n",
       "      <td>boleto</td>\n",
       "      <td>1</td>\n",
       "      <td>141.46</td>\n",
       "    </tr>\n",
       "    <tr>\n",
       "      <th>4</th>\n",
       "      <td>47770eb9100c2d0c44946d9cf07ec65d</td>\n",
       "      <td>41ce2a54c0b03bf3443c3d931a367089</td>\n",
       "      <td>delivered</td>\n",
       "      <td>2018-08-08 08:38:49</td>\n",
       "      <td>2018-08-08 08:55:23</td>\n",
       "      <td>2018-08-08 13:50:00</td>\n",
       "      <td>2018-08-17 18:06:29</td>\n",
       "      <td>2018-09-04 00:00:00</td>\n",
       "      <td>3a653a41f6f9fc3d2a113cf8398680e8</td>\n",
       "      <td>75265</td>\n",
       "      <td>...</td>\n",
       "      <td>1</td>\n",
       "      <td>aa4383b373c6aca5d8797843e5594415</td>\n",
       "      <td>4869f7a5dfa277a7dca6462dcf3b52b2</td>\n",
       "      <td>2018-08-13 08:55:23</td>\n",
       "      <td>159.90</td>\n",
       "      <td>19.22</td>\n",
       "      <td>1</td>\n",
       "      <td>credit_card</td>\n",
       "      <td>3</td>\n",
       "      <td>179.12</td>\n",
       "    </tr>\n",
       "    <tr>\n",
       "      <th>...</th>\n",
       "      <td>...</td>\n",
       "      <td>...</td>\n",
       "      <td>...</td>\n",
       "      <td>...</td>\n",
       "      <td>...</td>\n",
       "      <td>...</td>\n",
       "      <td>...</td>\n",
       "      <td>...</td>\n",
       "      <td>...</td>\n",
       "      <td>...</td>\n",
       "      <td>...</td>\n",
       "      <td>...</td>\n",
       "      <td>...</td>\n",
       "      <td>...</td>\n",
       "      <td>...</td>\n",
       "      <td>...</td>\n",
       "      <td>...</td>\n",
       "      <td>...</td>\n",
       "      <td>...</td>\n",
       "      <td>...</td>\n",
       "      <td>...</td>\n",
       "    </tr>\n",
       "    <tr>\n",
       "      <th>117596</th>\n",
       "      <td>63943bddc261676b46f01ca7ac2f7bd8</td>\n",
       "      <td>1fca14ff2861355f6e5f14306ff977a7</td>\n",
       "      <td>delivered</td>\n",
       "      <td>2018-02-06 12:58:58</td>\n",
       "      <td>2018-02-06 13:10:37</td>\n",
       "      <td>2018-02-07 23:22:42</td>\n",
       "      <td>2018-02-28 17:37:56</td>\n",
       "      <td>2018-03-02 00:00:00</td>\n",
       "      <td>da62f9e57a76d978d02ab5362c509660</td>\n",
       "      <td>11722</td>\n",
       "      <td>...</td>\n",
       "      <td>1</td>\n",
       "      <td>f1d4ce8c6dd66c47bbaa8c6781c2a923</td>\n",
       "      <td>1f9ab4708f3056ede07124aad39a2554</td>\n",
       "      <td>2018-02-12 13:10:37</td>\n",
       "      <td>174.90</td>\n",
       "      <td>20.10</td>\n",
       "      <td>1</td>\n",
       "      <td>credit_card</td>\n",
       "      <td>3</td>\n",
       "      <td>195.00</td>\n",
       "    </tr>\n",
       "    <tr>\n",
       "      <th>117597</th>\n",
       "      <td>83c1379a015df1e13d02aae0204711ab</td>\n",
       "      <td>1aa71eb042121263aafbe80c1b562c9c</td>\n",
       "      <td>delivered</td>\n",
       "      <td>2017-08-27 14:46:43</td>\n",
       "      <td>2017-08-27 15:04:16</td>\n",
       "      <td>2017-08-28 20:52:26</td>\n",
       "      <td>2017-09-21 11:24:17</td>\n",
       "      <td>2017-09-27 00:00:00</td>\n",
       "      <td>737520a9aad80b3fbbdad19b66b37b30</td>\n",
       "      <td>45920</td>\n",
       "      <td>...</td>\n",
       "      <td>1</td>\n",
       "      <td>b80910977a37536adeddd63663f916ad</td>\n",
       "      <td>d50d79cb34e38265a8649c383dcffd48</td>\n",
       "      <td>2017-09-05 15:04:16</td>\n",
       "      <td>205.99</td>\n",
       "      <td>65.02</td>\n",
       "      <td>1</td>\n",
       "      <td>credit_card</td>\n",
       "      <td>5</td>\n",
       "      <td>271.01</td>\n",
       "    </tr>\n",
       "    <tr>\n",
       "      <th>117598</th>\n",
       "      <td>11c177c8e97725db2631073c19f07b62</td>\n",
       "      <td>b331b74b18dc79bcdf6532d51e1637c1</td>\n",
       "      <td>delivered</td>\n",
       "      <td>2018-01-08 21:28:27</td>\n",
       "      <td>2018-01-08 21:36:21</td>\n",
       "      <td>2018-01-12 15:35:03</td>\n",
       "      <td>2018-01-25 23:32:54</td>\n",
       "      <td>2018-02-15 00:00:00</td>\n",
       "      <td>5097a5312c8b157bb7be58ae360ef43c</td>\n",
       "      <td>28685</td>\n",
       "      <td>...</td>\n",
       "      <td>1</td>\n",
       "      <td>d1c427060a0f73f6b889a5c7c61f2ac4</td>\n",
       "      <td>a1043bafd471dff536d0c462352beb48</td>\n",
       "      <td>2018-01-12 21:36:21</td>\n",
       "      <td>179.99</td>\n",
       "      <td>40.59</td>\n",
       "      <td>1</td>\n",
       "      <td>credit_card</td>\n",
       "      <td>4</td>\n",
       "      <td>441.16</td>\n",
       "    </tr>\n",
       "    <tr>\n",
       "      <th>117599</th>\n",
       "      <td>11c177c8e97725db2631073c19f07b62</td>\n",
       "      <td>b331b74b18dc79bcdf6532d51e1637c1</td>\n",
       "      <td>delivered</td>\n",
       "      <td>2018-01-08 21:28:27</td>\n",
       "      <td>2018-01-08 21:36:21</td>\n",
       "      <td>2018-01-12 15:35:03</td>\n",
       "      <td>2018-01-25 23:32:54</td>\n",
       "      <td>2018-02-15 00:00:00</td>\n",
       "      <td>5097a5312c8b157bb7be58ae360ef43c</td>\n",
       "      <td>28685</td>\n",
       "      <td>...</td>\n",
       "      <td>2</td>\n",
       "      <td>d1c427060a0f73f6b889a5c7c61f2ac4</td>\n",
       "      <td>a1043bafd471dff536d0c462352beb48</td>\n",
       "      <td>2018-01-12 21:36:21</td>\n",
       "      <td>179.99</td>\n",
       "      <td>40.59</td>\n",
       "      <td>1</td>\n",
       "      <td>credit_card</td>\n",
       "      <td>4</td>\n",
       "      <td>441.16</td>\n",
       "    </tr>\n",
       "    <tr>\n",
       "      <th>117600</th>\n",
       "      <td>66dea50a8b16d9b4dee7af250b4be1a5</td>\n",
       "      <td>edb027a75a1449115f6b43211ae02a24</td>\n",
       "      <td>delivered</td>\n",
       "      <td>2018-03-08 20:57:30</td>\n",
       "      <td>2018-03-09 11:20:28</td>\n",
       "      <td>2018-03-09 22:11:59</td>\n",
       "      <td>2018-03-16 13:08:30</td>\n",
       "      <td>2018-04-03 00:00:00</td>\n",
       "      <td>60350aa974b26ff12caad89e55993bd6</td>\n",
       "      <td>83750</td>\n",
       "      <td>...</td>\n",
       "      <td>1</td>\n",
       "      <td>006619bbed68b000c8ba3f8725d5409e</td>\n",
       "      <td>ececbfcff9804a2d6b40f589df8eef2b</td>\n",
       "      <td>2018-03-15 10:55:42</td>\n",
       "      <td>68.50</td>\n",
       "      <td>18.36</td>\n",
       "      <td>1</td>\n",
       "      <td>debit_card</td>\n",
       "      <td>1</td>\n",
       "      <td>86.86</td>\n",
       "    </tr>\n",
       "  </tbody>\n",
       "</table>\n",
       "<p>117601 rows × 22 columns</p>\n",
       "</div>"
      ],
      "text/plain": [
       "                                order_id                       customer_id  \\\n",
       "0       e481f51cbdc54678b7cc49136f2d6af7  9ef432eb6251297304e76186b10a928d   \n",
       "1       e481f51cbdc54678b7cc49136f2d6af7  9ef432eb6251297304e76186b10a928d   \n",
       "2       e481f51cbdc54678b7cc49136f2d6af7  9ef432eb6251297304e76186b10a928d   \n",
       "3       53cdb2fc8bc7dce0b6741e2150273451  b0830fb4747a6c6d20dea0b8c802d7ef   \n",
       "4       47770eb9100c2d0c44946d9cf07ec65d  41ce2a54c0b03bf3443c3d931a367089   \n",
       "...                                  ...                               ...   \n",
       "117596  63943bddc261676b46f01ca7ac2f7bd8  1fca14ff2861355f6e5f14306ff977a7   \n",
       "117597  83c1379a015df1e13d02aae0204711ab  1aa71eb042121263aafbe80c1b562c9c   \n",
       "117598  11c177c8e97725db2631073c19f07b62  b331b74b18dc79bcdf6532d51e1637c1   \n",
       "117599  11c177c8e97725db2631073c19f07b62  b331b74b18dc79bcdf6532d51e1637c1   \n",
       "117600  66dea50a8b16d9b4dee7af250b4be1a5  edb027a75a1449115f6b43211ae02a24   \n",
       "\n",
       "       order_status order_purchase_timestamp    order_approved_at  \\\n",
       "0         delivered      2017-10-02 10:56:33  2017-10-02 11:07:15   \n",
       "1         delivered      2017-10-02 10:56:33  2017-10-02 11:07:15   \n",
       "2         delivered      2017-10-02 10:56:33  2017-10-02 11:07:15   \n",
       "3         delivered      2018-07-24 20:41:37  2018-07-26 03:24:27   \n",
       "4         delivered      2018-08-08 08:38:49  2018-08-08 08:55:23   \n",
       "...             ...                      ...                  ...   \n",
       "117596    delivered      2018-02-06 12:58:58  2018-02-06 13:10:37   \n",
       "117597    delivered      2017-08-27 14:46:43  2017-08-27 15:04:16   \n",
       "117598    delivered      2018-01-08 21:28:27  2018-01-08 21:36:21   \n",
       "117599    delivered      2018-01-08 21:28:27  2018-01-08 21:36:21   \n",
       "117600    delivered      2018-03-08 20:57:30  2018-03-09 11:20:28   \n",
       "\n",
       "       order_delivered_carrier_date order_delivered_customer_date  \\\n",
       "0               2017-10-04 19:55:00           2017-10-10 21:25:13   \n",
       "1               2017-10-04 19:55:00           2017-10-10 21:25:13   \n",
       "2               2017-10-04 19:55:00           2017-10-10 21:25:13   \n",
       "3               2018-07-26 14:31:00           2018-08-07 15:27:45   \n",
       "4               2018-08-08 13:50:00           2018-08-17 18:06:29   \n",
       "...                             ...                           ...   \n",
       "117596          2018-02-07 23:22:42           2018-02-28 17:37:56   \n",
       "117597          2017-08-28 20:52:26           2017-09-21 11:24:17   \n",
       "117598          2018-01-12 15:35:03           2018-01-25 23:32:54   \n",
       "117599          2018-01-12 15:35:03           2018-01-25 23:32:54   \n",
       "117600          2018-03-09 22:11:59           2018-03-16 13:08:30   \n",
       "\n",
       "       order_estimated_delivery_date                customer_unique_id  \\\n",
       "0                2017-10-18 00:00:00  7c396fd4830fd04220f754e42b4e5bff   \n",
       "1                2017-10-18 00:00:00  7c396fd4830fd04220f754e42b4e5bff   \n",
       "2                2017-10-18 00:00:00  7c396fd4830fd04220f754e42b4e5bff   \n",
       "3                2018-08-13 00:00:00  af07308b275d755c9edb36a90c618231   \n",
       "4                2018-09-04 00:00:00  3a653a41f6f9fc3d2a113cf8398680e8   \n",
       "...                              ...                               ...   \n",
       "117596           2018-03-02 00:00:00  da62f9e57a76d978d02ab5362c509660   \n",
       "117597           2017-09-27 00:00:00  737520a9aad80b3fbbdad19b66b37b30   \n",
       "117598           2018-02-15 00:00:00  5097a5312c8b157bb7be58ae360ef43c   \n",
       "117599           2018-02-15 00:00:00  5097a5312c8b157bb7be58ae360ef43c   \n",
       "117600           2018-04-03 00:00:00  60350aa974b26ff12caad89e55993bd6   \n",
       "\n",
       "        customer_zip_code_prefix  ... order_item_id  \\\n",
       "0                           3149  ...             1   \n",
       "1                           3149  ...             1   \n",
       "2                           3149  ...             1   \n",
       "3                          47813  ...             1   \n",
       "4                          75265  ...             1   \n",
       "...                          ...  ...           ...   \n",
       "117596                     11722  ...             1   \n",
       "117597                     45920  ...             1   \n",
       "117598                     28685  ...             1   \n",
       "117599                     28685  ...             2   \n",
       "117600                     83750  ...             1   \n",
       "\n",
       "                              product_id                         seller_id  \\\n",
       "0       87285b34884572647811a353c7ac498a  3504c0cb71d7fa48d967e0e4c94d59d9   \n",
       "1       87285b34884572647811a353c7ac498a  3504c0cb71d7fa48d967e0e4c94d59d9   \n",
       "2       87285b34884572647811a353c7ac498a  3504c0cb71d7fa48d967e0e4c94d59d9   \n",
       "3       595fac2a385ac33a80bd5114aec74eb8  289cdb325fb7e7f891c38608bf9e0962   \n",
       "4       aa4383b373c6aca5d8797843e5594415  4869f7a5dfa277a7dca6462dcf3b52b2   \n",
       "...                                  ...                               ...   \n",
       "117596  f1d4ce8c6dd66c47bbaa8c6781c2a923  1f9ab4708f3056ede07124aad39a2554   \n",
       "117597  b80910977a37536adeddd63663f916ad  d50d79cb34e38265a8649c383dcffd48   \n",
       "117598  d1c427060a0f73f6b889a5c7c61f2ac4  a1043bafd471dff536d0c462352beb48   \n",
       "117599  d1c427060a0f73f6b889a5c7c61f2ac4  a1043bafd471dff536d0c462352beb48   \n",
       "117600  006619bbed68b000c8ba3f8725d5409e  ececbfcff9804a2d6b40f589df8eef2b   \n",
       "\n",
       "        shipping_limit_date   price freight_value  payment_sequential  \\\n",
       "0       2017-10-06 11:07:15   29.99          8.72                   1   \n",
       "1       2017-10-06 11:07:15   29.99          8.72                   3   \n",
       "2       2017-10-06 11:07:15   29.99          8.72                   2   \n",
       "3       2018-07-30 03:24:27  118.70         22.76                   1   \n",
       "4       2018-08-13 08:55:23  159.90         19.22                   1   \n",
       "...                     ...     ...           ...                 ...   \n",
       "117596  2018-02-12 13:10:37  174.90         20.10                   1   \n",
       "117597  2017-09-05 15:04:16  205.99         65.02                   1   \n",
       "117598  2018-01-12 21:36:21  179.99         40.59                   1   \n",
       "117599  2018-01-12 21:36:21  179.99         40.59                   1   \n",
       "117600  2018-03-15 10:55:42   68.50         18.36                   1   \n",
       "\n",
       "        payment_type  payment_installments payment_value  \n",
       "0        credit_card                     1         18.12  \n",
       "1            voucher                     1          2.00  \n",
       "2            voucher                     1         18.59  \n",
       "3             boleto                     1        141.46  \n",
       "4        credit_card                     3        179.12  \n",
       "...              ...                   ...           ...  \n",
       "117596   credit_card                     3        195.00  \n",
       "117597   credit_card                     5        271.01  \n",
       "117598   credit_card                     4        441.16  \n",
       "117599   credit_card                     4        441.16  \n",
       "117600    debit_card                     1         86.86  \n",
       "\n",
       "[117601 rows x 22 columns]"
      ]
     },
     "execution_count": 5,
     "metadata": {},
     "output_type": "execute_result"
    }
   ],
   "source": [
    "test = pd.merge(orders, customer, on='customer_id')\n",
    "test = test.merge(order_items, on = 'order_id')\n",
    "test = test.merge(order_payments, on = 'order_id')\n",
    "test"
   ]
  },
  {
   "cell_type": "code",
   "execution_count": 6,
   "metadata": {},
   "outputs": [
    {
     "data": {
      "text/html": [
       "<div>\n",
       "<style scoped>\n",
       "    .dataframe tbody tr th:only-of-type {\n",
       "        vertical-align: middle;\n",
       "    }\n",
       "\n",
       "    .dataframe tbody tr th {\n",
       "        vertical-align: top;\n",
       "    }\n",
       "\n",
       "    .dataframe thead th {\n",
       "        text-align: right;\n",
       "    }\n",
       "</style>\n",
       "<table border=\"1\" class=\"dataframe\">\n",
       "  <thead>\n",
       "    <tr style=\"text-align: right;\">\n",
       "      <th></th>\n",
       "      <th>order_id</th>\n",
       "      <th>customer_id</th>\n",
       "      <th>order_status</th>\n",
       "      <th>order_purchase_timestamp</th>\n",
       "      <th>order_approved_at</th>\n",
       "      <th>order_delivered_carrier_date</th>\n",
       "      <th>order_delivered_customer_date</th>\n",
       "      <th>order_estimated_delivery_date</th>\n",
       "      <th>customer_unique_id</th>\n",
       "      <th>customer_zip_code_prefix</th>\n",
       "      <th>...</th>\n",
       "      <th>order_item_id</th>\n",
       "      <th>product_id</th>\n",
       "      <th>seller_id</th>\n",
       "      <th>shipping_limit_date</th>\n",
       "      <th>price</th>\n",
       "      <th>freight_value</th>\n",
       "      <th>payment_sequential</th>\n",
       "      <th>payment_type</th>\n",
       "      <th>payment_installments</th>\n",
       "      <th>payment_value</th>\n",
       "    </tr>\n",
       "  </thead>\n",
       "  <tbody>\n",
       "    <tr>\n",
       "      <th>73131</th>\n",
       "      <td>fffb9224b6fc7c43ebb0904318b10b5f</td>\n",
       "      <td>4d3abb73ceb86353aeadbe698aa9d5cb</td>\n",
       "      <td>delivered</td>\n",
       "      <td>2017-10-27 16:51:00</td>\n",
       "      <td>2017-10-28 02:55:58</td>\n",
       "      <td>2017-11-10 19:31:52</td>\n",
       "      <td>2017-11-17 19:41:42</td>\n",
       "      <td>2017-11-27 00:00:00</td>\n",
       "      <td>f736308cd9952b33b90b9fe94da9c8f5</td>\n",
       "      <td>56912</td>\n",
       "      <td>...</td>\n",
       "      <td>1</td>\n",
       "      <td>43423cdffde7fda63d0414ed38c11a73</td>\n",
       "      <td>b1fc4f64df5a0e8b6913ab38803c57a9</td>\n",
       "      <td>2017-11-03 02:55:58</td>\n",
       "      <td>55.0</td>\n",
       "      <td>34.19</td>\n",
       "      <td>1</td>\n",
       "      <td>boleto</td>\n",
       "      <td>1</td>\n",
       "      <td>356.76</td>\n",
       "    </tr>\n",
       "    <tr>\n",
       "      <th>73132</th>\n",
       "      <td>fffb9224b6fc7c43ebb0904318b10b5f</td>\n",
       "      <td>4d3abb73ceb86353aeadbe698aa9d5cb</td>\n",
       "      <td>delivered</td>\n",
       "      <td>2017-10-27 16:51:00</td>\n",
       "      <td>2017-10-28 02:55:58</td>\n",
       "      <td>2017-11-10 19:31:52</td>\n",
       "      <td>2017-11-17 19:41:42</td>\n",
       "      <td>2017-11-27 00:00:00</td>\n",
       "      <td>f736308cd9952b33b90b9fe94da9c8f5</td>\n",
       "      <td>56912</td>\n",
       "      <td>...</td>\n",
       "      <td>2</td>\n",
       "      <td>43423cdffde7fda63d0414ed38c11a73</td>\n",
       "      <td>b1fc4f64df5a0e8b6913ab38803c57a9</td>\n",
       "      <td>2017-11-03 02:55:58</td>\n",
       "      <td>55.0</td>\n",
       "      <td>34.19</td>\n",
       "      <td>1</td>\n",
       "      <td>boleto</td>\n",
       "      <td>1</td>\n",
       "      <td>356.76</td>\n",
       "    </tr>\n",
       "    <tr>\n",
       "      <th>73133</th>\n",
       "      <td>fffb9224b6fc7c43ebb0904318b10b5f</td>\n",
       "      <td>4d3abb73ceb86353aeadbe698aa9d5cb</td>\n",
       "      <td>delivered</td>\n",
       "      <td>2017-10-27 16:51:00</td>\n",
       "      <td>2017-10-28 02:55:58</td>\n",
       "      <td>2017-11-10 19:31:52</td>\n",
       "      <td>2017-11-17 19:41:42</td>\n",
       "      <td>2017-11-27 00:00:00</td>\n",
       "      <td>f736308cd9952b33b90b9fe94da9c8f5</td>\n",
       "      <td>56912</td>\n",
       "      <td>...</td>\n",
       "      <td>3</td>\n",
       "      <td>43423cdffde7fda63d0414ed38c11a73</td>\n",
       "      <td>b1fc4f64df5a0e8b6913ab38803c57a9</td>\n",
       "      <td>2017-11-03 02:55:58</td>\n",
       "      <td>55.0</td>\n",
       "      <td>34.19</td>\n",
       "      <td>1</td>\n",
       "      <td>boleto</td>\n",
       "      <td>1</td>\n",
       "      <td>356.76</td>\n",
       "    </tr>\n",
       "    <tr>\n",
       "      <th>73134</th>\n",
       "      <td>fffb9224b6fc7c43ebb0904318b10b5f</td>\n",
       "      <td>4d3abb73ceb86353aeadbe698aa9d5cb</td>\n",
       "      <td>delivered</td>\n",
       "      <td>2017-10-27 16:51:00</td>\n",
       "      <td>2017-10-28 02:55:58</td>\n",
       "      <td>2017-11-10 19:31:52</td>\n",
       "      <td>2017-11-17 19:41:42</td>\n",
       "      <td>2017-11-27 00:00:00</td>\n",
       "      <td>f736308cd9952b33b90b9fe94da9c8f5</td>\n",
       "      <td>56912</td>\n",
       "      <td>...</td>\n",
       "      <td>4</td>\n",
       "      <td>43423cdffde7fda63d0414ed38c11a73</td>\n",
       "      <td>b1fc4f64df5a0e8b6913ab38803c57a9</td>\n",
       "      <td>2017-11-03 02:55:58</td>\n",
       "      <td>55.0</td>\n",
       "      <td>34.19</td>\n",
       "      <td>1</td>\n",
       "      <td>boleto</td>\n",
       "      <td>1</td>\n",
       "      <td>356.76</td>\n",
       "    </tr>\n",
       "  </tbody>\n",
       "</table>\n",
       "<p>4 rows × 22 columns</p>\n",
       "</div>"
      ],
      "text/plain": [
       "                               order_id                       customer_id  \\\n",
       "73131  fffb9224b6fc7c43ebb0904318b10b5f  4d3abb73ceb86353aeadbe698aa9d5cb   \n",
       "73132  fffb9224b6fc7c43ebb0904318b10b5f  4d3abb73ceb86353aeadbe698aa9d5cb   \n",
       "73133  fffb9224b6fc7c43ebb0904318b10b5f  4d3abb73ceb86353aeadbe698aa9d5cb   \n",
       "73134  fffb9224b6fc7c43ebb0904318b10b5f  4d3abb73ceb86353aeadbe698aa9d5cb   \n",
       "\n",
       "      order_status order_purchase_timestamp    order_approved_at  \\\n",
       "73131    delivered      2017-10-27 16:51:00  2017-10-28 02:55:58   \n",
       "73132    delivered      2017-10-27 16:51:00  2017-10-28 02:55:58   \n",
       "73133    delivered      2017-10-27 16:51:00  2017-10-28 02:55:58   \n",
       "73134    delivered      2017-10-27 16:51:00  2017-10-28 02:55:58   \n",
       "\n",
       "      order_delivered_carrier_date order_delivered_customer_date  \\\n",
       "73131          2017-11-10 19:31:52           2017-11-17 19:41:42   \n",
       "73132          2017-11-10 19:31:52           2017-11-17 19:41:42   \n",
       "73133          2017-11-10 19:31:52           2017-11-17 19:41:42   \n",
       "73134          2017-11-10 19:31:52           2017-11-17 19:41:42   \n",
       "\n",
       "      order_estimated_delivery_date                customer_unique_id  \\\n",
       "73131           2017-11-27 00:00:00  f736308cd9952b33b90b9fe94da9c8f5   \n",
       "73132           2017-11-27 00:00:00  f736308cd9952b33b90b9fe94da9c8f5   \n",
       "73133           2017-11-27 00:00:00  f736308cd9952b33b90b9fe94da9c8f5   \n",
       "73134           2017-11-27 00:00:00  f736308cd9952b33b90b9fe94da9c8f5   \n",
       "\n",
       "       customer_zip_code_prefix  ... order_item_id  \\\n",
       "73131                     56912  ...             1   \n",
       "73132                     56912  ...             2   \n",
       "73133                     56912  ...             3   \n",
       "73134                     56912  ...             4   \n",
       "\n",
       "                             product_id                         seller_id  \\\n",
       "73131  43423cdffde7fda63d0414ed38c11a73  b1fc4f64df5a0e8b6913ab38803c57a9   \n",
       "73132  43423cdffde7fda63d0414ed38c11a73  b1fc4f64df5a0e8b6913ab38803c57a9   \n",
       "73133  43423cdffde7fda63d0414ed38c11a73  b1fc4f64df5a0e8b6913ab38803c57a9   \n",
       "73134  43423cdffde7fda63d0414ed38c11a73  b1fc4f64df5a0e8b6913ab38803c57a9   \n",
       "\n",
       "       shipping_limit_date price freight_value  payment_sequential  \\\n",
       "73131  2017-11-03 02:55:58  55.0         34.19                   1   \n",
       "73132  2017-11-03 02:55:58  55.0         34.19                   1   \n",
       "73133  2017-11-03 02:55:58  55.0         34.19                   1   \n",
       "73134  2017-11-03 02:55:58  55.0         34.19                   1   \n",
       "\n",
       "       payment_type  payment_installments payment_value  \n",
       "73131        boleto                     1        356.76  \n",
       "73132        boleto                     1        356.76  \n",
       "73133        boleto                     1        356.76  \n",
       "73134        boleto                     1        356.76  \n",
       "\n",
       "[4 rows x 22 columns]"
      ]
     },
     "execution_count": 6,
     "metadata": {},
     "output_type": "execute_result"
    }
   ],
   "source": [
    "test[test['order_id'] == 'fffb9224b6fc7c43ebb0904318b10b5f']"
   ]
  },
  {
   "cell_type": "code",
   "execution_count": 7,
   "metadata": {},
   "outputs": [
    {
     "name": "stdout",
     "output_type": "stream",
     "text": [
      "<class 'pandas.core.frame.DataFrame'>\n",
      "RangeIndex: 99441 entries, 0 to 99440\n",
      "Data columns (total 5 columns):\n",
      " #   Column                    Non-Null Count  Dtype \n",
      "---  ------                    --------------  ----- \n",
      " 0   customer_id               99441 non-null  object\n",
      " 1   customer_unique_id        99441 non-null  object\n",
      " 2   customer_zip_code_prefix  99441 non-null  int64 \n",
      " 3   customer_city             99441 non-null  object\n",
      " 4   customer_state            99441 non-null  object\n",
      "dtypes: int64(1), object(4)\n",
      "memory usage: 3.8+ MB\n"
     ]
    }
   ],
   "source": [
    "customer.info()"
   ]
  },
  {
   "cell_type": "code",
   "execution_count": 8,
   "metadata": {},
   "outputs": [
    {
     "data": {
      "text/html": [
       "<div>\n",
       "<style scoped>\n",
       "    .dataframe tbody tr th:only-of-type {\n",
       "        vertical-align: middle;\n",
       "    }\n",
       "\n",
       "    .dataframe tbody tr th {\n",
       "        vertical-align: top;\n",
       "    }\n",
       "\n",
       "    .dataframe thead th {\n",
       "        text-align: right;\n",
       "    }\n",
       "</style>\n",
       "<table border=\"1\" class=\"dataframe\">\n",
       "  <thead>\n",
       "    <tr style=\"text-align: right;\">\n",
       "      <th></th>\n",
       "      <th>customer_id</th>\n",
       "      <th>customer_unique_id</th>\n",
       "      <th>customer_zip_code_prefix</th>\n",
       "      <th>customer_city</th>\n",
       "      <th>customer_state</th>\n",
       "    </tr>\n",
       "  </thead>\n",
       "  <tbody>\n",
       "    <tr>\n",
       "      <th>679</th>\n",
       "      <td>c57b4b6f3719475543b721e720a526ad</td>\n",
       "      <td>b6c083700ca8c135ba9f0f132930d4e8</td>\n",
       "      <td>8686</td>\n",
       "      <td>suzano</td>\n",
       "      <td>SP</td>\n",
       "    </tr>\n",
       "    <tr>\n",
       "      <th>1463</th>\n",
       "      <td>9f6f3da49e2d46e3a7529f5e3c25ecce</td>\n",
       "      <td>a40096fc0a3862e9e12bc55b5f8e6ab2</td>\n",
       "      <td>20561</td>\n",
       "      <td>rio de janeiro</td>\n",
       "      <td>RJ</td>\n",
       "    </tr>\n",
       "    <tr>\n",
       "      <th>1607</th>\n",
       "      <td>299f7b5125c8fbe1761a1b320c34fc7d</td>\n",
       "      <td>b8b3c435a58aebd788a477bed8342910</td>\n",
       "      <td>95585</td>\n",
       "      <td>arroio do sal</td>\n",
       "      <td>RS</td>\n",
       "    </tr>\n",
       "    <tr>\n",
       "      <th>2811</th>\n",
       "      <td>226d59f9f4b98e228b689eea45d03a6d</td>\n",
       "      <td>66980c3775537536f77b434d74e520f5</td>\n",
       "      <td>30290</td>\n",
       "      <td>belo horizonte</td>\n",
       "      <td>MG</td>\n",
       "    </tr>\n",
       "    <tr>\n",
       "      <th>3198</th>\n",
       "      <td>b1253701171dfb298f52a221f824e45b</td>\n",
       "      <td>788313d21c3507fe890921f6e17aa679</td>\n",
       "      <td>11070</td>\n",
       "      <td>santos</td>\n",
       "      <td>SP</td>\n",
       "    </tr>\n",
       "    <tr>\n",
       "      <th>...</th>\n",
       "      <td>...</td>\n",
       "      <td>...</td>\n",
       "      <td>...</td>\n",
       "      <td>...</td>\n",
       "      <td>...</td>\n",
       "    </tr>\n",
       "    <tr>\n",
       "      <th>99324</th>\n",
       "      <td>5b46a0d983eec8c97363bea78d4a69dd</td>\n",
       "      <td>8bab3162259edfaadd1ea2e1fe7f58dc</td>\n",
       "      <td>31565</td>\n",
       "      <td>belo horizonte</td>\n",
       "      <td>MG</td>\n",
       "    </tr>\n",
       "    <tr>\n",
       "      <th>99327</th>\n",
       "      <td>c1affa46f9f3b514555259049a0307b9</td>\n",
       "      <td>12ab9334b1240d6d037f2b0102a49571</td>\n",
       "      <td>38050</td>\n",
       "      <td>uberaba</td>\n",
       "      <td>MG</td>\n",
       "    </tr>\n",
       "    <tr>\n",
       "      <th>99336</th>\n",
       "      <td>ebf46ff530343a129926adc1f831dea4</td>\n",
       "      <td>0ee57f62666561b72f2ceacad0230cbf</td>\n",
       "      <td>9530</td>\n",
       "      <td>sao caetano do sul</td>\n",
       "      <td>SP</td>\n",
       "    </tr>\n",
       "    <tr>\n",
       "      <th>99353</th>\n",
       "      <td>282fbce48e4d2077aad602dd125c9225</td>\n",
       "      <td>0ceb502fc33a2ad327b08288c5310e2e</td>\n",
       "      <td>29134</td>\n",
       "      <td>viana</td>\n",
       "      <td>ES</td>\n",
       "    </tr>\n",
       "    <tr>\n",
       "      <th>99406</th>\n",
       "      <td>d9110683c7a282144e9fc97660026a28</td>\n",
       "      <td>5cbfdb85ec130898108b32c50d619c39</td>\n",
       "      <td>74980</td>\n",
       "      <td>aparecida de goiania</td>\n",
       "      <td>GO</td>\n",
       "    </tr>\n",
       "  </tbody>\n",
       "</table>\n",
       "<p>3345 rows × 5 columns</p>\n",
       "</div>"
      ],
      "text/plain": [
       "                            customer_id                customer_unique_id  \\\n",
       "679    c57b4b6f3719475543b721e720a526ad  b6c083700ca8c135ba9f0f132930d4e8   \n",
       "1463   9f6f3da49e2d46e3a7529f5e3c25ecce  a40096fc0a3862e9e12bc55b5f8e6ab2   \n",
       "1607   299f7b5125c8fbe1761a1b320c34fc7d  b8b3c435a58aebd788a477bed8342910   \n",
       "2811   226d59f9f4b98e228b689eea45d03a6d  66980c3775537536f77b434d74e520f5   \n",
       "3198   b1253701171dfb298f52a221f824e45b  788313d21c3507fe890921f6e17aa679   \n",
       "...                                 ...                               ...   \n",
       "99324  5b46a0d983eec8c97363bea78d4a69dd  8bab3162259edfaadd1ea2e1fe7f58dc   \n",
       "99327  c1affa46f9f3b514555259049a0307b9  12ab9334b1240d6d037f2b0102a49571   \n",
       "99336  ebf46ff530343a129926adc1f831dea4  0ee57f62666561b72f2ceacad0230cbf   \n",
       "99353  282fbce48e4d2077aad602dd125c9225  0ceb502fc33a2ad327b08288c5310e2e   \n",
       "99406  d9110683c7a282144e9fc97660026a28  5cbfdb85ec130898108b32c50d619c39   \n",
       "\n",
       "       customer_zip_code_prefix         customer_city customer_state  \n",
       "679                        8686                suzano             SP  \n",
       "1463                      20561        rio de janeiro             RJ  \n",
       "1607                      95585         arroio do sal             RS  \n",
       "2811                      30290        belo horizonte             MG  \n",
       "3198                      11070                santos             SP  \n",
       "...                         ...                   ...            ...  \n",
       "99324                     31565        belo horizonte             MG  \n",
       "99327                     38050               uberaba             MG  \n",
       "99336                      9530    sao caetano do sul             SP  \n",
       "99353                     29134                 viana             ES  \n",
       "99406                     74980  aparecida de goiania             GO  \n",
       "\n",
       "[3345 rows x 5 columns]"
      ]
     },
     "execution_count": 8,
     "metadata": {},
     "output_type": "execute_result"
    }
   ],
   "source": [
    "customer[customer['customer_unique_id'].duplicated()]"
   ]
  },
  {
   "cell_type": "markdown",
   "metadata": {},
   "source": [
    "같은 사람이 (customer_unique_id) 각각 다른 customer_id를 가진다. 즉 3345명은 같은 사람"
   ]
  },
  {
   "cell_type": "code",
   "execution_count": 9,
   "metadata": {},
   "outputs": [
    {
     "data": {
      "text/html": [
       "<div>\n",
       "<style scoped>\n",
       "    .dataframe tbody tr th:only-of-type {\n",
       "        vertical-align: middle;\n",
       "    }\n",
       "\n",
       "    .dataframe tbody tr th {\n",
       "        vertical-align: top;\n",
       "    }\n",
       "\n",
       "    .dataframe thead th {\n",
       "        text-align: right;\n",
       "    }\n",
       "</style>\n",
       "<table border=\"1\" class=\"dataframe\">\n",
       "  <thead>\n",
       "    <tr style=\"text-align: right;\">\n",
       "      <th></th>\n",
       "      <th>customer_id</th>\n",
       "      <th>customer_unique_id</th>\n",
       "      <th>customer_zip_code_prefix</th>\n",
       "      <th>customer_city</th>\n",
       "      <th>customer_state</th>\n",
       "    </tr>\n",
       "  </thead>\n",
       "  <tbody>\n",
       "    <tr>\n",
       "      <th>132</th>\n",
       "      <td>f7c5afab273b47ab517e096e0219b932</td>\n",
       "      <td>b6c083700ca8c135ba9f0f132930d4e8</td>\n",
       "      <td>8686</td>\n",
       "      <td>suzano</td>\n",
       "      <td>SP</td>\n",
       "    </tr>\n",
       "    <tr>\n",
       "      <th>679</th>\n",
       "      <td>c57b4b6f3719475543b721e720a526ad</td>\n",
       "      <td>b6c083700ca8c135ba9f0f132930d4e8</td>\n",
       "      <td>8686</td>\n",
       "      <td>suzano</td>\n",
       "      <td>SP</td>\n",
       "    </tr>\n",
       "  </tbody>\n",
       "</table>\n",
       "</div>"
      ],
      "text/plain": [
       "                          customer_id                customer_unique_id  \\\n",
       "132  f7c5afab273b47ab517e096e0219b932  b6c083700ca8c135ba9f0f132930d4e8   \n",
       "679  c57b4b6f3719475543b721e720a526ad  b6c083700ca8c135ba9f0f132930d4e8   \n",
       "\n",
       "     customer_zip_code_prefix customer_city customer_state  \n",
       "132                      8686        suzano             SP  \n",
       "679                      8686        suzano             SP  "
      ]
     },
     "execution_count": 9,
     "metadata": {},
     "output_type": "execute_result"
    }
   ],
   "source": [
    "customer[customer['customer_unique_id'] == 'b6c083700ca8c135ba9f0f132930d4e8']"
   ]
  },
  {
   "cell_type": "code",
   "execution_count": 10,
   "metadata": {},
   "outputs": [
    {
     "data": {
      "text/html": [
       "<div>\n",
       "<style scoped>\n",
       "    .dataframe tbody tr th:only-of-type {\n",
       "        vertical-align: middle;\n",
       "    }\n",
       "\n",
       "    .dataframe tbody tr th {\n",
       "        vertical-align: top;\n",
       "    }\n",
       "\n",
       "    .dataframe thead th {\n",
       "        text-align: right;\n",
       "    }\n",
       "</style>\n",
       "<table border=\"1\" class=\"dataframe\">\n",
       "  <thead>\n",
       "    <tr style=\"text-align: right;\">\n",
       "      <th></th>\n",
       "      <th>order_id</th>\n",
       "      <th>customer_id</th>\n",
       "      <th>order_status</th>\n",
       "      <th>order_purchase_timestamp</th>\n",
       "      <th>order_approved_at</th>\n",
       "      <th>order_delivered_carrier_date</th>\n",
       "      <th>order_delivered_customer_date</th>\n",
       "      <th>order_estimated_delivery_date</th>\n",
       "      <th>customer_unique_id</th>\n",
       "      <th>customer_zip_code_prefix</th>\n",
       "      <th>...</th>\n",
       "      <th>order_item_id</th>\n",
       "      <th>product_id</th>\n",
       "      <th>seller_id</th>\n",
       "      <th>shipping_limit_date</th>\n",
       "      <th>price</th>\n",
       "      <th>freight_value</th>\n",
       "      <th>payment_sequential</th>\n",
       "      <th>payment_type</th>\n",
       "      <th>payment_installments</th>\n",
       "      <th>payment_value</th>\n",
       "    </tr>\n",
       "  </thead>\n",
       "  <tbody>\n",
       "    <tr>\n",
       "      <th>80924</th>\n",
       "      <td>3c8194a8d47f5852dcd52ccbf364596e</td>\n",
       "      <td>c57b4b6f3719475543b721e720a526ad</td>\n",
       "      <td>delivered</td>\n",
       "      <td>2017-11-27 12:44:25</td>\n",
       "      <td>2017-11-27 12:56:18</td>\n",
       "      <td>2017-11-30 19:25:50</td>\n",
       "      <td>2017-12-01 17:05:02</td>\n",
       "      <td>2017-12-11 00:00:00</td>\n",
       "      <td>b6c083700ca8c135ba9f0f132930d4e8</td>\n",
       "      <td>8686</td>\n",
       "      <td>...</td>\n",
       "      <td>1</td>\n",
       "      <td>5ad486e80218c20810521ec57ae5475e</td>\n",
       "      <td>994f04b3718c2bab35c2adfa8afecd2a</td>\n",
       "      <td>2017-12-01 12:56:18</td>\n",
       "      <td>49.9</td>\n",
       "      <td>9.34</td>\n",
       "      <td>1</td>\n",
       "      <td>credit_card</td>\n",
       "      <td>1</td>\n",
       "      <td>59.24</td>\n",
       "    </tr>\n",
       "  </tbody>\n",
       "</table>\n",
       "<p>1 rows × 22 columns</p>\n",
       "</div>"
      ],
      "text/plain": [
       "                               order_id                       customer_id  \\\n",
       "80924  3c8194a8d47f5852dcd52ccbf364596e  c57b4b6f3719475543b721e720a526ad   \n",
       "\n",
       "      order_status order_purchase_timestamp    order_approved_at  \\\n",
       "80924    delivered      2017-11-27 12:44:25  2017-11-27 12:56:18   \n",
       "\n",
       "      order_delivered_carrier_date order_delivered_customer_date  \\\n",
       "80924          2017-11-30 19:25:50           2017-12-01 17:05:02   \n",
       "\n",
       "      order_estimated_delivery_date                customer_unique_id  \\\n",
       "80924           2017-12-11 00:00:00  b6c083700ca8c135ba9f0f132930d4e8   \n",
       "\n",
       "       customer_zip_code_prefix  ... order_item_id  \\\n",
       "80924                      8686  ...             1   \n",
       "\n",
       "                             product_id                         seller_id  \\\n",
       "80924  5ad486e80218c20810521ec57ae5475e  994f04b3718c2bab35c2adfa8afecd2a   \n",
       "\n",
       "       shipping_limit_date price freight_value  payment_sequential  \\\n",
       "80924  2017-12-01 12:56:18  49.9          9.34                   1   \n",
       "\n",
       "       payment_type  payment_installments payment_value  \n",
       "80924   credit_card                     1         59.24  \n",
       "\n",
       "[1 rows x 22 columns]"
      ]
     },
     "execution_count": 10,
     "metadata": {},
     "output_type": "execute_result"
    }
   ],
   "source": [
    "test[test['customer_id'] == 'c57b4b6f3719475543b721e720a526ad']"
   ]
  },
  {
   "cell_type": "code",
   "execution_count": 11,
   "metadata": {},
   "outputs": [
    {
     "data": {
      "text/html": [
       "<div>\n",
       "<style scoped>\n",
       "    .dataframe tbody tr th:only-of-type {\n",
       "        vertical-align: middle;\n",
       "    }\n",
       "\n",
       "    .dataframe tbody tr th {\n",
       "        vertical-align: top;\n",
       "    }\n",
       "\n",
       "    .dataframe thead th {\n",
       "        text-align: right;\n",
       "    }\n",
       "</style>\n",
       "<table border=\"1\" class=\"dataframe\">\n",
       "  <thead>\n",
       "    <tr style=\"text-align: right;\">\n",
       "      <th></th>\n",
       "      <th>order_id</th>\n",
       "      <th>customer_id</th>\n",
       "      <th>order_status</th>\n",
       "      <th>order_purchase_timestamp</th>\n",
       "      <th>order_approved_at</th>\n",
       "      <th>order_delivered_carrier_date</th>\n",
       "      <th>order_delivered_customer_date</th>\n",
       "      <th>order_estimated_delivery_date</th>\n",
       "      <th>customer_unique_id</th>\n",
       "      <th>customer_zip_code_prefix</th>\n",
       "      <th>...</th>\n",
       "      <th>order_item_id</th>\n",
       "      <th>product_id</th>\n",
       "      <th>seller_id</th>\n",
       "      <th>shipping_limit_date</th>\n",
       "      <th>price</th>\n",
       "      <th>freight_value</th>\n",
       "      <th>payment_sequential</th>\n",
       "      <th>payment_type</th>\n",
       "      <th>payment_installments</th>\n",
       "      <th>payment_value</th>\n",
       "    </tr>\n",
       "  </thead>\n",
       "  <tbody>\n",
       "    <tr>\n",
       "      <th>64378</th>\n",
       "      <td>0be5691eb4c245d190a1e194494f754d</td>\n",
       "      <td>f7c5afab273b47ab517e096e0219b932</td>\n",
       "      <td>delivered</td>\n",
       "      <td>2017-09-05 15:32:33</td>\n",
       "      <td>2017-09-05 15:50:35</td>\n",
       "      <td>2017-09-06 19:37:44</td>\n",
       "      <td>2017-09-11 22:19:57</td>\n",
       "      <td>2017-09-28 00:00:00</td>\n",
       "      <td>b6c083700ca8c135ba9f0f132930d4e8</td>\n",
       "      <td>8686</td>\n",
       "      <td>...</td>\n",
       "      <td>1</td>\n",
       "      <td>f4b952dd7ab601c02bb1bd06395f45f6</td>\n",
       "      <td>86ccac0b835037332a596a33b6949ee1</td>\n",
       "      <td>2017-09-12 15:50:35</td>\n",
       "      <td>79.9</td>\n",
       "      <td>17.81</td>\n",
       "      <td>1</td>\n",
       "      <td>credit_card</td>\n",
       "      <td>1</td>\n",
       "      <td>97.71</td>\n",
       "    </tr>\n",
       "  </tbody>\n",
       "</table>\n",
       "<p>1 rows × 22 columns</p>\n",
       "</div>"
      ],
      "text/plain": [
       "                               order_id                       customer_id  \\\n",
       "64378  0be5691eb4c245d190a1e194494f754d  f7c5afab273b47ab517e096e0219b932   \n",
       "\n",
       "      order_status order_purchase_timestamp    order_approved_at  \\\n",
       "64378    delivered      2017-09-05 15:32:33  2017-09-05 15:50:35   \n",
       "\n",
       "      order_delivered_carrier_date order_delivered_customer_date  \\\n",
       "64378          2017-09-06 19:37:44           2017-09-11 22:19:57   \n",
       "\n",
       "      order_estimated_delivery_date                customer_unique_id  \\\n",
       "64378           2017-09-28 00:00:00  b6c083700ca8c135ba9f0f132930d4e8   \n",
       "\n",
       "       customer_zip_code_prefix  ... order_item_id  \\\n",
       "64378                      8686  ...             1   \n",
       "\n",
       "                             product_id                         seller_id  \\\n",
       "64378  f4b952dd7ab601c02bb1bd06395f45f6  86ccac0b835037332a596a33b6949ee1   \n",
       "\n",
       "       shipping_limit_date price freight_value  payment_sequential  \\\n",
       "64378  2017-09-12 15:50:35  79.9         17.81                   1   \n",
       "\n",
       "       payment_type  payment_installments payment_value  \n",
       "64378   credit_card                     1         97.71  \n",
       "\n",
       "[1 rows x 22 columns]"
      ]
     },
     "execution_count": 11,
     "metadata": {},
     "output_type": "execute_result"
    }
   ],
   "source": [
    "test[test['customer_id'] == 'f7c5afab273b47ab517e096e0219b932']"
   ]
  },
  {
   "cell_type": "code",
   "execution_count": 12,
   "metadata": {},
   "outputs": [
    {
     "data": {
      "text/html": [
       "<div>\n",
       "<style scoped>\n",
       "    .dataframe tbody tr th:only-of-type {\n",
       "        vertical-align: middle;\n",
       "    }\n",
       "\n",
       "    .dataframe tbody tr th {\n",
       "        vertical-align: top;\n",
       "    }\n",
       "\n",
       "    .dataframe thead th {\n",
       "        text-align: right;\n",
       "    }\n",
       "</style>\n",
       "<table border=\"1\" class=\"dataframe\">\n",
       "  <thead>\n",
       "    <tr style=\"text-align: right;\">\n",
       "      <th></th>\n",
       "      <th>order_id</th>\n",
       "      <th>customer_id</th>\n",
       "      <th>order_status</th>\n",
       "      <th>order_purchase_timestamp</th>\n",
       "      <th>order_approved_at</th>\n",
       "      <th>order_delivered_carrier_date</th>\n",
       "      <th>order_delivered_customer_date</th>\n",
       "      <th>order_estimated_delivery_date</th>\n",
       "      <th>customer_unique_id</th>\n",
       "      <th>customer_zip_code_prefix</th>\n",
       "      <th>...</th>\n",
       "      <th>order_item_id</th>\n",
       "      <th>product_id</th>\n",
       "      <th>seller_id</th>\n",
       "      <th>shipping_limit_date</th>\n",
       "      <th>price</th>\n",
       "      <th>freight_value</th>\n",
       "      <th>payment_sequential</th>\n",
       "      <th>payment_type</th>\n",
       "      <th>payment_installments</th>\n",
       "      <th>payment_value</th>\n",
       "    </tr>\n",
       "  </thead>\n",
       "  <tbody>\n",
       "    <tr>\n",
       "      <th>73131</th>\n",
       "      <td>fffb9224b6fc7c43ebb0904318b10b5f</td>\n",
       "      <td>4d3abb73ceb86353aeadbe698aa9d5cb</td>\n",
       "      <td>delivered</td>\n",
       "      <td>2017-10-27 16:51:00</td>\n",
       "      <td>2017-10-28 02:55:58</td>\n",
       "      <td>2017-11-10 19:31:52</td>\n",
       "      <td>2017-11-17 19:41:42</td>\n",
       "      <td>2017-11-27 00:00:00</td>\n",
       "      <td>f736308cd9952b33b90b9fe94da9c8f5</td>\n",
       "      <td>56912</td>\n",
       "      <td>...</td>\n",
       "      <td>1</td>\n",
       "      <td>43423cdffde7fda63d0414ed38c11a73</td>\n",
       "      <td>b1fc4f64df5a0e8b6913ab38803c57a9</td>\n",
       "      <td>2017-11-03 02:55:58</td>\n",
       "      <td>55.0</td>\n",
       "      <td>34.19</td>\n",
       "      <td>1</td>\n",
       "      <td>boleto</td>\n",
       "      <td>1</td>\n",
       "      <td>356.76</td>\n",
       "    </tr>\n",
       "    <tr>\n",
       "      <th>73132</th>\n",
       "      <td>fffb9224b6fc7c43ebb0904318b10b5f</td>\n",
       "      <td>4d3abb73ceb86353aeadbe698aa9d5cb</td>\n",
       "      <td>delivered</td>\n",
       "      <td>2017-10-27 16:51:00</td>\n",
       "      <td>2017-10-28 02:55:58</td>\n",
       "      <td>2017-11-10 19:31:52</td>\n",
       "      <td>2017-11-17 19:41:42</td>\n",
       "      <td>2017-11-27 00:00:00</td>\n",
       "      <td>f736308cd9952b33b90b9fe94da9c8f5</td>\n",
       "      <td>56912</td>\n",
       "      <td>...</td>\n",
       "      <td>2</td>\n",
       "      <td>43423cdffde7fda63d0414ed38c11a73</td>\n",
       "      <td>b1fc4f64df5a0e8b6913ab38803c57a9</td>\n",
       "      <td>2017-11-03 02:55:58</td>\n",
       "      <td>55.0</td>\n",
       "      <td>34.19</td>\n",
       "      <td>1</td>\n",
       "      <td>boleto</td>\n",
       "      <td>1</td>\n",
       "      <td>356.76</td>\n",
       "    </tr>\n",
       "    <tr>\n",
       "      <th>73133</th>\n",
       "      <td>fffb9224b6fc7c43ebb0904318b10b5f</td>\n",
       "      <td>4d3abb73ceb86353aeadbe698aa9d5cb</td>\n",
       "      <td>delivered</td>\n",
       "      <td>2017-10-27 16:51:00</td>\n",
       "      <td>2017-10-28 02:55:58</td>\n",
       "      <td>2017-11-10 19:31:52</td>\n",
       "      <td>2017-11-17 19:41:42</td>\n",
       "      <td>2017-11-27 00:00:00</td>\n",
       "      <td>f736308cd9952b33b90b9fe94da9c8f5</td>\n",
       "      <td>56912</td>\n",
       "      <td>...</td>\n",
       "      <td>3</td>\n",
       "      <td>43423cdffde7fda63d0414ed38c11a73</td>\n",
       "      <td>b1fc4f64df5a0e8b6913ab38803c57a9</td>\n",
       "      <td>2017-11-03 02:55:58</td>\n",
       "      <td>55.0</td>\n",
       "      <td>34.19</td>\n",
       "      <td>1</td>\n",
       "      <td>boleto</td>\n",
       "      <td>1</td>\n",
       "      <td>356.76</td>\n",
       "    </tr>\n",
       "    <tr>\n",
       "      <th>73134</th>\n",
       "      <td>fffb9224b6fc7c43ebb0904318b10b5f</td>\n",
       "      <td>4d3abb73ceb86353aeadbe698aa9d5cb</td>\n",
       "      <td>delivered</td>\n",
       "      <td>2017-10-27 16:51:00</td>\n",
       "      <td>2017-10-28 02:55:58</td>\n",
       "      <td>2017-11-10 19:31:52</td>\n",
       "      <td>2017-11-17 19:41:42</td>\n",
       "      <td>2017-11-27 00:00:00</td>\n",
       "      <td>f736308cd9952b33b90b9fe94da9c8f5</td>\n",
       "      <td>56912</td>\n",
       "      <td>...</td>\n",
       "      <td>4</td>\n",
       "      <td>43423cdffde7fda63d0414ed38c11a73</td>\n",
       "      <td>b1fc4f64df5a0e8b6913ab38803c57a9</td>\n",
       "      <td>2017-11-03 02:55:58</td>\n",
       "      <td>55.0</td>\n",
       "      <td>34.19</td>\n",
       "      <td>1</td>\n",
       "      <td>boleto</td>\n",
       "      <td>1</td>\n",
       "      <td>356.76</td>\n",
       "    </tr>\n",
       "  </tbody>\n",
       "</table>\n",
       "<p>4 rows × 22 columns</p>\n",
       "</div>"
      ],
      "text/plain": [
       "                               order_id                       customer_id  \\\n",
       "73131  fffb9224b6fc7c43ebb0904318b10b5f  4d3abb73ceb86353aeadbe698aa9d5cb   \n",
       "73132  fffb9224b6fc7c43ebb0904318b10b5f  4d3abb73ceb86353aeadbe698aa9d5cb   \n",
       "73133  fffb9224b6fc7c43ebb0904318b10b5f  4d3abb73ceb86353aeadbe698aa9d5cb   \n",
       "73134  fffb9224b6fc7c43ebb0904318b10b5f  4d3abb73ceb86353aeadbe698aa9d5cb   \n",
       "\n",
       "      order_status order_purchase_timestamp    order_approved_at  \\\n",
       "73131    delivered      2017-10-27 16:51:00  2017-10-28 02:55:58   \n",
       "73132    delivered      2017-10-27 16:51:00  2017-10-28 02:55:58   \n",
       "73133    delivered      2017-10-27 16:51:00  2017-10-28 02:55:58   \n",
       "73134    delivered      2017-10-27 16:51:00  2017-10-28 02:55:58   \n",
       "\n",
       "      order_delivered_carrier_date order_delivered_customer_date  \\\n",
       "73131          2017-11-10 19:31:52           2017-11-17 19:41:42   \n",
       "73132          2017-11-10 19:31:52           2017-11-17 19:41:42   \n",
       "73133          2017-11-10 19:31:52           2017-11-17 19:41:42   \n",
       "73134          2017-11-10 19:31:52           2017-11-17 19:41:42   \n",
       "\n",
       "      order_estimated_delivery_date                customer_unique_id  \\\n",
       "73131           2017-11-27 00:00:00  f736308cd9952b33b90b9fe94da9c8f5   \n",
       "73132           2017-11-27 00:00:00  f736308cd9952b33b90b9fe94da9c8f5   \n",
       "73133           2017-11-27 00:00:00  f736308cd9952b33b90b9fe94da9c8f5   \n",
       "73134           2017-11-27 00:00:00  f736308cd9952b33b90b9fe94da9c8f5   \n",
       "\n",
       "       customer_zip_code_prefix  ... order_item_id  \\\n",
       "73131                     56912  ...             1   \n",
       "73132                     56912  ...             2   \n",
       "73133                     56912  ...             3   \n",
       "73134                     56912  ...             4   \n",
       "\n",
       "                             product_id                         seller_id  \\\n",
       "73131  43423cdffde7fda63d0414ed38c11a73  b1fc4f64df5a0e8b6913ab38803c57a9   \n",
       "73132  43423cdffde7fda63d0414ed38c11a73  b1fc4f64df5a0e8b6913ab38803c57a9   \n",
       "73133  43423cdffde7fda63d0414ed38c11a73  b1fc4f64df5a0e8b6913ab38803c57a9   \n",
       "73134  43423cdffde7fda63d0414ed38c11a73  b1fc4f64df5a0e8b6913ab38803c57a9   \n",
       "\n",
       "       shipping_limit_date price freight_value  payment_sequential  \\\n",
       "73131  2017-11-03 02:55:58  55.0         34.19                   1   \n",
       "73132  2017-11-03 02:55:58  55.0         34.19                   1   \n",
       "73133  2017-11-03 02:55:58  55.0         34.19                   1   \n",
       "73134  2017-11-03 02:55:58  55.0         34.19                   1   \n",
       "\n",
       "       payment_type  payment_installments payment_value  \n",
       "73131        boleto                     1        356.76  \n",
       "73132        boleto                     1        356.76  \n",
       "73133        boleto                     1        356.76  \n",
       "73134        boleto                     1        356.76  \n",
       "\n",
       "[4 rows x 22 columns]"
      ]
     },
     "execution_count": 12,
     "metadata": {},
     "output_type": "execute_result"
    }
   ],
   "source": [
    "test[test['order_id'] == 'fffb9224b6fc7c43ebb0904318b10b5f']"
   ]
  },
  {
   "cell_type": "markdown",
   "metadata": {},
   "source": [
    "- 같은 사람이 같은 상품을 다량 주문 할 때는 order_id와 customer_id를 포함하여 모두 같지만\n",
    "- 같은 사람이 다른 상품을 주문 할 때는 order_id와 customer_id가 다르다"
   ]
  },
  {
   "cell_type": "markdown",
   "metadata": {},
   "source": [
    "## RFM 구하기"
   ]
  },
  {
   "cell_type": "markdown",
   "metadata": {},
   "source": [
    "### 데이터 준비"
   ]
  },
  {
   "cell_type": "code",
   "execution_count": 13,
   "metadata": {},
   "outputs": [
    {
     "name": "stdout",
     "output_type": "stream",
     "text": [
      "<class 'pandas.core.frame.DataFrame'>\n",
      "Index: 102573 entries, 0 to 103885\n",
      "Data columns (total 16 columns):\n",
      " #   Column                         Non-Null Count   Dtype         \n",
      "---  ------                         --------------   -----         \n",
      " 0   order_id                       102573 non-null  object        \n",
      " 1   customer_id                    102573 non-null  object        \n",
      " 2   order_status                   102573 non-null  object        \n",
      " 3   order_purchase_timestamp       102573 non-null  datetime64[ns]\n",
      " 4   order_approved_at              102554 non-null  object        \n",
      " 5   order_delivered_carrier_date   101920 non-null  object        \n",
      " 6   order_delivered_customer_date  100748 non-null  object        \n",
      " 7   order_estimated_delivery_date  102573 non-null  object        \n",
      " 8   customer_unique_id             102573 non-null  object        \n",
      " 9   customer_zip_code_prefix       102573 non-null  int64         \n",
      " 10  customer_city                  102573 non-null  object        \n",
      " 11  customer_state                 102573 non-null  object        \n",
      " 12  payment_sequential             102573 non-null  int64         \n",
      " 13  payment_type                   102573 non-null  object        \n",
      " 14  payment_installments           102573 non-null  int64         \n",
      " 15  payment_value                  102573 non-null  float64       \n",
      "dtypes: datetime64[ns](1), float64(1), int64(3), object(11)\n",
      "memory usage: 13.3+ MB\n"
     ]
    }
   ],
   "source": [
    "df = pd.merge(orders, customer, on='customer_id')\n",
    "df = df.merge(order_payments, on = 'order_id')\n",
    "df = df[~((df['order_status'] == 'unavailable') | (df['order_status'] == 'canceled'))]\n",
    "df['order_purchase_timestamp'] = pd.to_datetime(df['order_purchase_timestamp'])\n",
    "df.info()"
   ]
  },
  {
   "cell_type": "markdown",
   "metadata": {},
   "source": [
    "### Recency 계산"
   ]
  },
  {
   "cell_type": "code",
   "execution_count": 14,
   "metadata": {},
   "outputs": [
    {
     "data": {
      "text/html": [
       "<div>\n",
       "<style scoped>\n",
       "    .dataframe tbody tr th:only-of-type {\n",
       "        vertical-align: middle;\n",
       "    }\n",
       "\n",
       "    .dataframe tbody tr th {\n",
       "        vertical-align: top;\n",
       "    }\n",
       "\n",
       "    .dataframe thead th {\n",
       "        text-align: right;\n",
       "    }\n",
       "</style>\n",
       "<table border=\"1\" class=\"dataframe\">\n",
       "  <thead>\n",
       "    <tr style=\"text-align: right;\">\n",
       "      <th></th>\n",
       "      <th>customer_unique_id</th>\n",
       "      <th>order_purchase_timestamp</th>\n",
       "    </tr>\n",
       "  </thead>\n",
       "  <tbody>\n",
       "    <tr>\n",
       "      <th>0</th>\n",
       "      <td>0000366f3b9a7992bf8c76cfdf3221e2</td>\n",
       "      <td>2018-05-10 10:56:27</td>\n",
       "    </tr>\n",
       "    <tr>\n",
       "      <th>1</th>\n",
       "      <td>0000b849f77a49e4a4ce2b2a4ca5be3f</td>\n",
       "      <td>2018-05-07 11:11:27</td>\n",
       "    </tr>\n",
       "    <tr>\n",
       "      <th>2</th>\n",
       "      <td>0000f46a3911fa3c0805444483337064</td>\n",
       "      <td>2017-03-10 21:05:03</td>\n",
       "    </tr>\n",
       "    <tr>\n",
       "      <th>3</th>\n",
       "      <td>0000f6ccb0745a6a4b88665a16c9f078</td>\n",
       "      <td>2017-10-12 20:29:41</td>\n",
       "    </tr>\n",
       "    <tr>\n",
       "      <th>4</th>\n",
       "      <td>0004aac84e0df4da2b147fca70cf8255</td>\n",
       "      <td>2017-11-14 19:45:42</td>\n",
       "    </tr>\n",
       "    <tr>\n",
       "      <th>...</th>\n",
       "      <td>...</td>\n",
       "      <td>...</td>\n",
       "    </tr>\n",
       "    <tr>\n",
       "      <th>94984</th>\n",
       "      <td>fffcf5a5ff07b0908bd4e2dbc735a684</td>\n",
       "      <td>2017-06-08 21:00:36</td>\n",
       "    </tr>\n",
       "    <tr>\n",
       "      <th>94985</th>\n",
       "      <td>fffea47cd6d3cc0a88bd621562a9d061</td>\n",
       "      <td>2017-12-10 20:07:56</td>\n",
       "    </tr>\n",
       "    <tr>\n",
       "      <th>94986</th>\n",
       "      <td>ffff371b4d645b6ecea244b27531430a</td>\n",
       "      <td>2017-02-07 15:49:16</td>\n",
       "    </tr>\n",
       "    <tr>\n",
       "      <th>94987</th>\n",
       "      <td>ffff5962728ec6157033ef9805bacc48</td>\n",
       "      <td>2018-05-02 15:17:41</td>\n",
       "    </tr>\n",
       "    <tr>\n",
       "      <th>94988</th>\n",
       "      <td>ffffd2657e2aad2907e67c3e9daecbeb</td>\n",
       "      <td>2017-05-02 20:18:45</td>\n",
       "    </tr>\n",
       "  </tbody>\n",
       "</table>\n",
       "<p>94989 rows × 2 columns</p>\n",
       "</div>"
      ],
      "text/plain": [
       "                     customer_unique_id order_purchase_timestamp\n",
       "0      0000366f3b9a7992bf8c76cfdf3221e2      2018-05-10 10:56:27\n",
       "1      0000b849f77a49e4a4ce2b2a4ca5be3f      2018-05-07 11:11:27\n",
       "2      0000f46a3911fa3c0805444483337064      2017-03-10 21:05:03\n",
       "3      0000f6ccb0745a6a4b88665a16c9f078      2017-10-12 20:29:41\n",
       "4      0004aac84e0df4da2b147fca70cf8255      2017-11-14 19:45:42\n",
       "...                                 ...                      ...\n",
       "94984  fffcf5a5ff07b0908bd4e2dbc735a684      2017-06-08 21:00:36\n",
       "94985  fffea47cd6d3cc0a88bd621562a9d061      2017-12-10 20:07:56\n",
       "94986  ffff371b4d645b6ecea244b27531430a      2017-02-07 15:49:16\n",
       "94987  ffff5962728ec6157033ef9805bacc48      2018-05-02 15:17:41\n",
       "94988  ffffd2657e2aad2907e67c3e9daecbeb      2017-05-02 20:18:45\n",
       "\n",
       "[94989 rows x 2 columns]"
      ]
     },
     "execution_count": 14,
     "metadata": {},
     "output_type": "execute_result"
    }
   ],
   "source": [
    "recency_df= pd.DataFrame(df.groupby(by=['customer_unique_id'], as_index=False)['order_purchase_timestamp'].max())\n",
    "recency_df"
   ]
  },
  {
   "cell_type": "code",
   "execution_count": 15,
   "metadata": {},
   "outputs": [
    {
     "data": {
      "text/plain": [
       "Timestamp('2018-09-05 09:06:57')"
      ]
     },
     "execution_count": 15,
     "metadata": {},
     "output_type": "execute_result"
    }
   ],
   "source": [
    "today = recency_df['order_purchase_timestamp'].max() + dt.timedelta(days=2)\n",
    "today"
   ]
  },
  {
   "cell_type": "code",
   "execution_count": 16,
   "metadata": {},
   "outputs": [
    {
     "data": {
      "text/html": [
       "<div>\n",
       "<style scoped>\n",
       "    .dataframe tbody tr th:only-of-type {\n",
       "        vertical-align: middle;\n",
       "    }\n",
       "\n",
       "    .dataframe tbody tr th {\n",
       "        vertical-align: top;\n",
       "    }\n",
       "\n",
       "    .dataframe thead th {\n",
       "        text-align: right;\n",
       "    }\n",
       "</style>\n",
       "<table border=\"1\" class=\"dataframe\">\n",
       "  <thead>\n",
       "    <tr style=\"text-align: right;\">\n",
       "      <th></th>\n",
       "      <th>customer_unique_id</th>\n",
       "      <th>order_purchase_timestamp</th>\n",
       "      <th>Recency</th>\n",
       "    </tr>\n",
       "  </thead>\n",
       "  <tbody>\n",
       "    <tr>\n",
       "      <th>0</th>\n",
       "      <td>0000366f3b9a7992bf8c76cfdf3221e2</td>\n",
       "      <td>2018-05-10 10:56:27</td>\n",
       "      <td>117</td>\n",
       "    </tr>\n",
       "    <tr>\n",
       "      <th>1</th>\n",
       "      <td>0000b849f77a49e4a4ce2b2a4ca5be3f</td>\n",
       "      <td>2018-05-07 11:11:27</td>\n",
       "      <td>120</td>\n",
       "    </tr>\n",
       "    <tr>\n",
       "      <th>2</th>\n",
       "      <td>0000f46a3911fa3c0805444483337064</td>\n",
       "      <td>2017-03-10 21:05:03</td>\n",
       "      <td>543</td>\n",
       "    </tr>\n",
       "    <tr>\n",
       "      <th>3</th>\n",
       "      <td>0000f6ccb0745a6a4b88665a16c9f078</td>\n",
       "      <td>2017-10-12 20:29:41</td>\n",
       "      <td>327</td>\n",
       "    </tr>\n",
       "    <tr>\n",
       "      <th>4</th>\n",
       "      <td>0004aac84e0df4da2b147fca70cf8255</td>\n",
       "      <td>2017-11-14 19:45:42</td>\n",
       "      <td>294</td>\n",
       "    </tr>\n",
       "    <tr>\n",
       "      <th>...</th>\n",
       "      <td>...</td>\n",
       "      <td>...</td>\n",
       "      <td>...</td>\n",
       "    </tr>\n",
       "    <tr>\n",
       "      <th>94984</th>\n",
       "      <td>fffcf5a5ff07b0908bd4e2dbc735a684</td>\n",
       "      <td>2017-06-08 21:00:36</td>\n",
       "      <td>453</td>\n",
       "    </tr>\n",
       "    <tr>\n",
       "      <th>94985</th>\n",
       "      <td>fffea47cd6d3cc0a88bd621562a9d061</td>\n",
       "      <td>2017-12-10 20:07:56</td>\n",
       "      <td>268</td>\n",
       "    </tr>\n",
       "    <tr>\n",
       "      <th>94986</th>\n",
       "      <td>ffff371b4d645b6ecea244b27531430a</td>\n",
       "      <td>2017-02-07 15:49:16</td>\n",
       "      <td>574</td>\n",
       "    </tr>\n",
       "    <tr>\n",
       "      <th>94987</th>\n",
       "      <td>ffff5962728ec6157033ef9805bacc48</td>\n",
       "      <td>2018-05-02 15:17:41</td>\n",
       "      <td>125</td>\n",
       "    </tr>\n",
       "    <tr>\n",
       "      <th>94988</th>\n",
       "      <td>ffffd2657e2aad2907e67c3e9daecbeb</td>\n",
       "      <td>2017-05-02 20:18:45</td>\n",
       "      <td>490</td>\n",
       "    </tr>\n",
       "  </tbody>\n",
       "</table>\n",
       "<p>94989 rows × 3 columns</p>\n",
       "</div>"
      ],
      "text/plain": [
       "                     customer_unique_id order_purchase_timestamp  Recency\n",
       "0      0000366f3b9a7992bf8c76cfdf3221e2      2018-05-10 10:56:27      117\n",
       "1      0000b849f77a49e4a4ce2b2a4ca5be3f      2018-05-07 11:11:27      120\n",
       "2      0000f46a3911fa3c0805444483337064      2017-03-10 21:05:03      543\n",
       "3      0000f6ccb0745a6a4b88665a16c9f078      2017-10-12 20:29:41      327\n",
       "4      0004aac84e0df4da2b147fca70cf8255      2017-11-14 19:45:42      294\n",
       "...                                 ...                      ...      ...\n",
       "94984  fffcf5a5ff07b0908bd4e2dbc735a684      2017-06-08 21:00:36      453\n",
       "94985  fffea47cd6d3cc0a88bd621562a9d061      2017-12-10 20:07:56      268\n",
       "94986  ffff371b4d645b6ecea244b27531430a      2017-02-07 15:49:16      574\n",
       "94987  ffff5962728ec6157033ef9805bacc48      2018-05-02 15:17:41      125\n",
       "94988  ffffd2657e2aad2907e67c3e9daecbeb      2017-05-02 20:18:45      490\n",
       "\n",
       "[94989 rows x 3 columns]"
      ]
     },
     "execution_count": 16,
     "metadata": {},
     "output_type": "execute_result"
    }
   ],
   "source": [
    "recency_df['Recency'] = today - recency_df['order_purchase_timestamp']\n",
    "recency_df['Recency'] = recency_df['Recency'].dt.days\n",
    "recency_df"
   ]
  },
  {
   "cell_type": "code",
   "execution_count": 17,
   "metadata": {},
   "outputs": [
    {
     "data": {
      "text/plain": [
       "count    94989.000000\n",
       "mean       244.443378\n",
       "std        152.993004\n",
       "min          2.000000\n",
       "25%        120.000000\n",
       "50%        225.000000\n",
       "75%        353.000000\n",
       "max        730.000000\n",
       "Name: Recency, dtype: float64"
      ]
     },
     "execution_count": 17,
     "metadata": {},
     "output_type": "execute_result"
    }
   ],
   "source": [
    "recency_df['Recency'].describe()"
   ]
  },
  {
   "cell_type": "code",
   "execution_count": 18,
   "metadata": {},
   "outputs": [
    {
     "data": {
      "text/html": [
       "<div>\n",
       "<style scoped>\n",
       "    .dataframe tbody tr th:only-of-type {\n",
       "        vertical-align: middle;\n",
       "    }\n",
       "\n",
       "    .dataframe tbody tr th {\n",
       "        vertical-align: top;\n",
       "    }\n",
       "\n",
       "    .dataframe thead th {\n",
       "        text-align: right;\n",
       "    }\n",
       "</style>\n",
       "<table border=\"1\" class=\"dataframe\">\n",
       "  <thead>\n",
       "    <tr style=\"text-align: right;\">\n",
       "      <th></th>\n",
       "      <th>customer_unique_id</th>\n",
       "      <th>order_purchase_timestamp</th>\n",
       "      <th>Recency</th>\n",
       "    </tr>\n",
       "  </thead>\n",
       "  <tbody>\n",
       "    <tr>\n",
       "      <th>94654</th>\n",
       "      <td>ff22e30958c13ffe219db7d711e8f564</td>\n",
       "      <td>2018-09-03 09:06:57</td>\n",
       "      <td>2</td>\n",
       "    </tr>\n",
       "  </tbody>\n",
       "</table>\n",
       "</div>"
      ],
      "text/plain": [
       "                     customer_unique_id order_purchase_timestamp  Recency\n",
       "94654  ff22e30958c13ffe219db7d711e8f564      2018-09-03 09:06:57        2"
      ]
     },
     "execution_count": 18,
     "metadata": {},
     "output_type": "execute_result"
    }
   ],
   "source": [
    "recency_df[recency_df['Recency'] == 2]\n",
    "# Timestamp('2018-09-05 09:06:57')"
   ]
  },
  {
   "cell_type": "markdown",
   "metadata": {},
   "source": [
    "### Frequency 계산"
   ]
  },
  {
   "cell_type": "code",
   "execution_count": 19,
   "metadata": {},
   "outputs": [
    {
     "data": {
      "text/html": [
       "<div>\n",
       "<style scoped>\n",
       "    .dataframe tbody tr th:only-of-type {\n",
       "        vertical-align: middle;\n",
       "    }\n",
       "\n",
       "    .dataframe tbody tr th {\n",
       "        vertical-align: top;\n",
       "    }\n",
       "\n",
       "    .dataframe thead th {\n",
       "        text-align: right;\n",
       "    }\n",
       "</style>\n",
       "<table border=\"1\" class=\"dataframe\">\n",
       "  <thead>\n",
       "    <tr style=\"text-align: right;\">\n",
       "      <th></th>\n",
       "      <th>customer_unique_id</th>\n",
       "      <th>Frequency</th>\n",
       "    </tr>\n",
       "  </thead>\n",
       "  <tbody>\n",
       "    <tr>\n",
       "      <th>0</th>\n",
       "      <td>0000366f3b9a7992bf8c76cfdf3221e2</td>\n",
       "      <td>1</td>\n",
       "    </tr>\n",
       "    <tr>\n",
       "      <th>1</th>\n",
       "      <td>0000b849f77a49e4a4ce2b2a4ca5be3f</td>\n",
       "      <td>1</td>\n",
       "    </tr>\n",
       "    <tr>\n",
       "      <th>2</th>\n",
       "      <td>0000f46a3911fa3c0805444483337064</td>\n",
       "      <td>1</td>\n",
       "    </tr>\n",
       "    <tr>\n",
       "      <th>3</th>\n",
       "      <td>0000f6ccb0745a6a4b88665a16c9f078</td>\n",
       "      <td>1</td>\n",
       "    </tr>\n",
       "    <tr>\n",
       "      <th>4</th>\n",
       "      <td>0004aac84e0df4da2b147fca70cf8255</td>\n",
       "      <td>1</td>\n",
       "    </tr>\n",
       "    <tr>\n",
       "      <th>...</th>\n",
       "      <td>...</td>\n",
       "      <td>...</td>\n",
       "    </tr>\n",
       "    <tr>\n",
       "      <th>94984</th>\n",
       "      <td>fffcf5a5ff07b0908bd4e2dbc735a684</td>\n",
       "      <td>1</td>\n",
       "    </tr>\n",
       "    <tr>\n",
       "      <th>94985</th>\n",
       "      <td>fffea47cd6d3cc0a88bd621562a9d061</td>\n",
       "      <td>1</td>\n",
       "    </tr>\n",
       "    <tr>\n",
       "      <th>94986</th>\n",
       "      <td>ffff371b4d645b6ecea244b27531430a</td>\n",
       "      <td>1</td>\n",
       "    </tr>\n",
       "    <tr>\n",
       "      <th>94987</th>\n",
       "      <td>ffff5962728ec6157033ef9805bacc48</td>\n",
       "      <td>1</td>\n",
       "    </tr>\n",
       "    <tr>\n",
       "      <th>94988</th>\n",
       "      <td>ffffd2657e2aad2907e67c3e9daecbeb</td>\n",
       "      <td>1</td>\n",
       "    </tr>\n",
       "  </tbody>\n",
       "</table>\n",
       "<p>94989 rows × 2 columns</p>\n",
       "</div>"
      ],
      "text/plain": [
       "                     customer_unique_id  Frequency\n",
       "0      0000366f3b9a7992bf8c76cfdf3221e2          1\n",
       "1      0000b849f77a49e4a4ce2b2a4ca5be3f          1\n",
       "2      0000f46a3911fa3c0805444483337064          1\n",
       "3      0000f6ccb0745a6a4b88665a16c9f078          1\n",
       "4      0004aac84e0df4da2b147fca70cf8255          1\n",
       "...                                 ...        ...\n",
       "94984  fffcf5a5ff07b0908bd4e2dbc735a684          1\n",
       "94985  fffea47cd6d3cc0a88bd621562a9d061          1\n",
       "94986  ffff371b4d645b6ecea244b27531430a          1\n",
       "94987  ffff5962728ec6157033ef9805bacc48          1\n",
       "94988  ffffd2657e2aad2907e67c3e9daecbeb          1\n",
       "\n",
       "[94989 rows x 2 columns]"
      ]
     },
     "execution_count": 19,
     "metadata": {},
     "output_type": "execute_result"
    }
   ],
   "source": [
    "frequency_df = pd.DataFrame(df.groupby([\"customer_unique_id\"]).agg({\"order_id\":\"nunique\"}).reset_index())\n",
    "frequency_df.rename(columns={\"order_id\":\"Frequency\"}, inplace=True)\n",
    "frequency_df"
   ]
  },
  {
   "cell_type": "code",
   "execution_count": 20,
   "metadata": {},
   "outputs": [
    {
     "data": {
      "text/plain": [
       "count    94989.000000\n",
       "mean         1.033867\n",
       "std          0.210828\n",
       "min          1.000000\n",
       "25%          1.000000\n",
       "50%          1.000000\n",
       "75%          1.000000\n",
       "max         16.000000\n",
       "Name: Frequency, dtype: float64"
      ]
     },
     "execution_count": 20,
     "metadata": {},
     "output_type": "execute_result"
    }
   ],
   "source": [
    "frequency_df['Frequency'].describe()"
   ]
  },
  {
   "cell_type": "code",
   "execution_count": 21,
   "metadata": {},
   "outputs": [
    {
     "data": {
      "text/plain": [
       "Frequency\n",
       "1     92101\n",
       "2      2652\n",
       "3       188\n",
       "4        29\n",
       "5         9\n",
       "6         5\n",
       "7         3\n",
       "9         1\n",
       "16        1\n",
       "Name: count, dtype: int64"
      ]
     },
     "execution_count": 21,
     "metadata": {},
     "output_type": "execute_result"
    }
   ],
   "source": [
    "frequency_df['Frequency'].value_counts()"
   ]
  },
  {
   "cell_type": "markdown",
   "metadata": {},
   "source": [
    "### Monetary 계산"
   ]
  },
  {
   "cell_type": "code",
   "execution_count": 22,
   "metadata": {},
   "outputs": [
    {
     "data": {
      "text/html": [
       "<div>\n",
       "<style scoped>\n",
       "    .dataframe tbody tr th:only-of-type {\n",
       "        vertical-align: middle;\n",
       "    }\n",
       "\n",
       "    .dataframe tbody tr th {\n",
       "        vertical-align: top;\n",
       "    }\n",
       "\n",
       "    .dataframe thead th {\n",
       "        text-align: right;\n",
       "    }\n",
       "</style>\n",
       "<table border=\"1\" class=\"dataframe\">\n",
       "  <thead>\n",
       "    <tr style=\"text-align: right;\">\n",
       "      <th></th>\n",
       "      <th>customer_unique_id</th>\n",
       "      <th>Monetary</th>\n",
       "    </tr>\n",
       "  </thead>\n",
       "  <tbody>\n",
       "    <tr>\n",
       "      <th>0</th>\n",
       "      <td>0000366f3b9a7992bf8c76cfdf3221e2</td>\n",
       "      <td>141.90</td>\n",
       "    </tr>\n",
       "    <tr>\n",
       "      <th>1</th>\n",
       "      <td>0000b849f77a49e4a4ce2b2a4ca5be3f</td>\n",
       "      <td>27.19</td>\n",
       "    </tr>\n",
       "    <tr>\n",
       "      <th>2</th>\n",
       "      <td>0000f46a3911fa3c0805444483337064</td>\n",
       "      <td>86.22</td>\n",
       "    </tr>\n",
       "    <tr>\n",
       "      <th>3</th>\n",
       "      <td>0000f6ccb0745a6a4b88665a16c9f078</td>\n",
       "      <td>43.62</td>\n",
       "    </tr>\n",
       "    <tr>\n",
       "      <th>4</th>\n",
       "      <td>0004aac84e0df4da2b147fca70cf8255</td>\n",
       "      <td>196.89</td>\n",
       "    </tr>\n",
       "    <tr>\n",
       "      <th>...</th>\n",
       "      <td>...</td>\n",
       "      <td>...</td>\n",
       "    </tr>\n",
       "    <tr>\n",
       "      <th>94984</th>\n",
       "      <td>fffcf5a5ff07b0908bd4e2dbc735a684</td>\n",
       "      <td>2067.42</td>\n",
       "    </tr>\n",
       "    <tr>\n",
       "      <th>94985</th>\n",
       "      <td>fffea47cd6d3cc0a88bd621562a9d061</td>\n",
       "      <td>84.58</td>\n",
       "    </tr>\n",
       "    <tr>\n",
       "      <th>94986</th>\n",
       "      <td>ffff371b4d645b6ecea244b27531430a</td>\n",
       "      <td>112.46</td>\n",
       "    </tr>\n",
       "    <tr>\n",
       "      <th>94987</th>\n",
       "      <td>ffff5962728ec6157033ef9805bacc48</td>\n",
       "      <td>133.69</td>\n",
       "    </tr>\n",
       "    <tr>\n",
       "      <th>94988</th>\n",
       "      <td>ffffd2657e2aad2907e67c3e9daecbeb</td>\n",
       "      <td>71.56</td>\n",
       "    </tr>\n",
       "  </tbody>\n",
       "</table>\n",
       "<p>94989 rows × 2 columns</p>\n",
       "</div>"
      ],
      "text/plain": [
       "                     customer_unique_id  Monetary\n",
       "0      0000366f3b9a7992bf8c76cfdf3221e2    141.90\n",
       "1      0000b849f77a49e4a4ce2b2a4ca5be3f     27.19\n",
       "2      0000f46a3911fa3c0805444483337064     86.22\n",
       "3      0000f6ccb0745a6a4b88665a16c9f078     43.62\n",
       "4      0004aac84e0df4da2b147fca70cf8255    196.89\n",
       "...                                 ...       ...\n",
       "94984  fffcf5a5ff07b0908bd4e2dbc735a684   2067.42\n",
       "94985  fffea47cd6d3cc0a88bd621562a9d061     84.58\n",
       "94986  ffff371b4d645b6ecea244b27531430a    112.46\n",
       "94987  ffff5962728ec6157033ef9805bacc48    133.69\n",
       "94988  ffffd2657e2aad2907e67c3e9daecbeb     71.56\n",
       "\n",
       "[94989 rows x 2 columns]"
      ]
     },
     "execution_count": 22,
     "metadata": {},
     "output_type": "execute_result"
    }
   ],
   "source": [
    "monetary_df = df[['customer_unique_id', 'payment_value']].groupby('customer_unique_id').sum().reset_index()\n",
    "monetary_df.columns = ['customer_unique_id', 'Monetary']\n",
    "monetary_df"
   ]
  },
  {
   "cell_type": "code",
   "execution_count": 23,
   "metadata": {},
   "outputs": [
    {
     "data": {
      "text/plain": [
       "count    94989.000000\n",
       "mean       165.694312\n",
       "std        226.740844\n",
       "min          9.590000\n",
       "25%         63.100000\n",
       "50%        107.900000\n",
       "75%        182.940000\n",
       "max      13664.080000\n",
       "Name: Monetary, dtype: float64"
      ]
     },
     "execution_count": 23,
     "metadata": {},
     "output_type": "execute_result"
    }
   ],
   "source": [
    "monetary_df['Monetary'].describe()"
   ]
  },
  {
   "cell_type": "markdown",
   "metadata": {},
   "source": [
    "## RFM 도출 후 분포 확인"
   ]
  },
  {
   "cell_type": "code",
   "execution_count": 53,
   "metadata": {},
   "outputs": [
    {
     "data": {
      "text/html": [
       "<div>\n",
       "<style scoped>\n",
       "    .dataframe tbody tr th:only-of-type {\n",
       "        vertical-align: middle;\n",
       "    }\n",
       "\n",
       "    .dataframe tbody tr th {\n",
       "        vertical-align: top;\n",
       "    }\n",
       "\n",
       "    .dataframe thead th {\n",
       "        text-align: right;\n",
       "    }\n",
       "</style>\n",
       "<table border=\"1\" class=\"dataframe\">\n",
       "  <thead>\n",
       "    <tr style=\"text-align: right;\">\n",
       "      <th></th>\n",
       "      <th>customer_unique_id</th>\n",
       "      <th>Recency</th>\n",
       "      <th>Frequency</th>\n",
       "      <th>Monetary</th>\n",
       "    </tr>\n",
       "  </thead>\n",
       "  <tbody>\n",
       "    <tr>\n",
       "      <th>0</th>\n",
       "      <td>0000366f3b9a7992bf8c76cfdf3221e2</td>\n",
       "      <td>117</td>\n",
       "      <td>1</td>\n",
       "      <td>141.90</td>\n",
       "    </tr>\n",
       "    <tr>\n",
       "      <th>1</th>\n",
       "      <td>0000b849f77a49e4a4ce2b2a4ca5be3f</td>\n",
       "      <td>120</td>\n",
       "      <td>1</td>\n",
       "      <td>27.19</td>\n",
       "    </tr>\n",
       "    <tr>\n",
       "      <th>2</th>\n",
       "      <td>0000f46a3911fa3c0805444483337064</td>\n",
       "      <td>543</td>\n",
       "      <td>1</td>\n",
       "      <td>86.22</td>\n",
       "    </tr>\n",
       "    <tr>\n",
       "      <th>3</th>\n",
       "      <td>0000f6ccb0745a6a4b88665a16c9f078</td>\n",
       "      <td>327</td>\n",
       "      <td>1</td>\n",
       "      <td>43.62</td>\n",
       "    </tr>\n",
       "    <tr>\n",
       "      <th>4</th>\n",
       "      <td>0004aac84e0df4da2b147fca70cf8255</td>\n",
       "      <td>294</td>\n",
       "      <td>1</td>\n",
       "      <td>196.89</td>\n",
       "    </tr>\n",
       "    <tr>\n",
       "      <th>...</th>\n",
       "      <td>...</td>\n",
       "      <td>...</td>\n",
       "      <td>...</td>\n",
       "      <td>...</td>\n",
       "    </tr>\n",
       "    <tr>\n",
       "      <th>94984</th>\n",
       "      <td>fffcf5a5ff07b0908bd4e2dbc735a684</td>\n",
       "      <td>453</td>\n",
       "      <td>1</td>\n",
       "      <td>2067.42</td>\n",
       "    </tr>\n",
       "    <tr>\n",
       "      <th>94985</th>\n",
       "      <td>fffea47cd6d3cc0a88bd621562a9d061</td>\n",
       "      <td>268</td>\n",
       "      <td>1</td>\n",
       "      <td>84.58</td>\n",
       "    </tr>\n",
       "    <tr>\n",
       "      <th>94986</th>\n",
       "      <td>ffff371b4d645b6ecea244b27531430a</td>\n",
       "      <td>574</td>\n",
       "      <td>1</td>\n",
       "      <td>112.46</td>\n",
       "    </tr>\n",
       "    <tr>\n",
       "      <th>94987</th>\n",
       "      <td>ffff5962728ec6157033ef9805bacc48</td>\n",
       "      <td>125</td>\n",
       "      <td>1</td>\n",
       "      <td>133.69</td>\n",
       "    </tr>\n",
       "    <tr>\n",
       "      <th>94988</th>\n",
       "      <td>ffffd2657e2aad2907e67c3e9daecbeb</td>\n",
       "      <td>490</td>\n",
       "      <td>1</td>\n",
       "      <td>71.56</td>\n",
       "    </tr>\n",
       "  </tbody>\n",
       "</table>\n",
       "<p>94989 rows × 4 columns</p>\n",
       "</div>"
      ],
      "text/plain": [
       "                     customer_unique_id  Recency  Frequency  Monetary\n",
       "0      0000366f3b9a7992bf8c76cfdf3221e2      117          1    141.90\n",
       "1      0000b849f77a49e4a4ce2b2a4ca5be3f      120          1     27.19\n",
       "2      0000f46a3911fa3c0805444483337064      543          1     86.22\n",
       "3      0000f6ccb0745a6a4b88665a16c9f078      327          1     43.62\n",
       "4      0004aac84e0df4da2b147fca70cf8255      294          1    196.89\n",
       "...                                 ...      ...        ...       ...\n",
       "94984  fffcf5a5ff07b0908bd4e2dbc735a684      453          1   2067.42\n",
       "94985  fffea47cd6d3cc0a88bd621562a9d061      268          1     84.58\n",
       "94986  ffff371b4d645b6ecea244b27531430a      574          1    112.46\n",
       "94987  ffff5962728ec6157033ef9805bacc48      125          1    133.69\n",
       "94988  ffffd2657e2aad2907e67c3e9daecbeb      490          1     71.56\n",
       "\n",
       "[94989 rows x 4 columns]"
      ]
     },
     "execution_count": 53,
     "metadata": {},
     "output_type": "execute_result"
    }
   ],
   "source": [
    "result_df = pd.merge(recency_df, frequency_df, on = 'customer_unique_id')\n",
    "result_df = result_df.merge(monetary_df, on = 'customer_unique_id')\n",
    "result_df = result_df.drop(['order_purchase_timestamp'], axis=1)\n",
    "result_df"
   ]
  },
  {
   "cell_type": "code",
   "execution_count": 54,
   "metadata": {},
   "outputs": [
    {
     "data": {
      "text/html": [
       "<div>\n",
       "<style scoped>\n",
       "    .dataframe tbody tr th:only-of-type {\n",
       "        vertical-align: middle;\n",
       "    }\n",
       "\n",
       "    .dataframe tbody tr th {\n",
       "        vertical-align: top;\n",
       "    }\n",
       "\n",
       "    .dataframe thead th {\n",
       "        text-align: right;\n",
       "    }\n",
       "</style>\n",
       "<table border=\"1\" class=\"dataframe\">\n",
       "  <thead>\n",
       "    <tr style=\"text-align: right;\">\n",
       "      <th></th>\n",
       "      <th>count</th>\n",
       "      <th>mean</th>\n",
       "      <th>std</th>\n",
       "      <th>min</th>\n",
       "      <th>25%</th>\n",
       "      <th>50%</th>\n",
       "      <th>75%</th>\n",
       "      <th>max</th>\n",
       "    </tr>\n",
       "  </thead>\n",
       "  <tbody>\n",
       "    <tr>\n",
       "      <th>Recency</th>\n",
       "      <td>94989.0</td>\n",
       "      <td>244.443378</td>\n",
       "      <td>152.993004</td>\n",
       "      <td>2.00</td>\n",
       "      <td>120.0</td>\n",
       "      <td>225.0</td>\n",
       "      <td>353.00</td>\n",
       "      <td>730.00</td>\n",
       "    </tr>\n",
       "    <tr>\n",
       "      <th>Frequency</th>\n",
       "      <td>94989.0</td>\n",
       "      <td>1.033867</td>\n",
       "      <td>0.210828</td>\n",
       "      <td>1.00</td>\n",
       "      <td>1.0</td>\n",
       "      <td>1.0</td>\n",
       "      <td>1.00</td>\n",
       "      <td>16.00</td>\n",
       "    </tr>\n",
       "    <tr>\n",
       "      <th>Monetary</th>\n",
       "      <td>94989.0</td>\n",
       "      <td>165.694312</td>\n",
       "      <td>226.740844</td>\n",
       "      <td>9.59</td>\n",
       "      <td>63.1</td>\n",
       "      <td>107.9</td>\n",
       "      <td>182.94</td>\n",
       "      <td>13664.08</td>\n",
       "    </tr>\n",
       "  </tbody>\n",
       "</table>\n",
       "</div>"
      ],
      "text/plain": [
       "             count        mean         std   min    25%    50%     75%  \\\n",
       "Recency    94989.0  244.443378  152.993004  2.00  120.0  225.0  353.00   \n",
       "Frequency  94989.0    1.033867    0.210828  1.00    1.0    1.0    1.00   \n",
       "Monetary   94989.0  165.694312  226.740844  9.59   63.1  107.9  182.94   \n",
       "\n",
       "                max  \n",
       "Recency      730.00  \n",
       "Frequency     16.00  \n",
       "Monetary   13664.08  "
      ]
     },
     "execution_count": 54,
     "metadata": {},
     "output_type": "execute_result"
    }
   ],
   "source": [
    "result_df.describe().T"
   ]
  },
  {
   "cell_type": "markdown",
   "metadata": {},
   "source": [
    "### 분포 시각화"
   ]
  },
  {
   "cell_type": "code",
   "execution_count": 55,
   "metadata": {},
   "outputs": [
    {
     "data": {
      "image/png": "[encoded data removed]",
      "text/plain": [
       "<Figure size 1600x400 with 3 Axes>"
      ]
     },
     "metadata": {},
     "output_type": "display_data"
    }
   ],
   "source": [
    "# rfm 시각화 확인하기\n",
    "fig, ax = plt.subplots(1, 3, figsize=(16,4))\n",
    "\n",
    "ax = ax.flatten()\n",
    "\n",
    "for col, ax in zip(['Recency', 'Frequency', 'Monetary'], ax):\n",
    "    sns.histplot(result_df[col], ax = ax) \n",
    "plt.show()"
   ]
  },
  {
   "cell_type": "code",
   "execution_count": 27,
   "metadata": {},
   "outputs": [
    {
     "data": {
      "application/vnd.plotly.v1+json": {
       "config": {
        "plotlyServerURL": "https://plot.ly"
       },
       "data": [
        {
         "marker": {
          "color": [
           "silver",
           "gold",
           "red",
           "red"
          ]
         },
         "opacity": 0.65,
         "textinfo": "value",
         "type": "funnel",
         "x": [
          92101,
          2652,
          236
         ],
         "y": [
          "1회 구매",
          "2회 구매",
          "3회 이상 구매"
         ]
        }
       ],
       "layout": {
        "template": {
         "data": {
          "bar": [
           {
            "error_x": {
             "color": "#2a3f5f"
            },
            "error_y": {
             "color": "#2a3f5f"
            },
            "marker": {
             "line": {
              "color": "#E5ECF6",
              "width": 0.5
             },
             "pattern": {
              "fillmode": "overlay",
              "size": 10,
              "solidity": 0.2
             }
            },
            "type": "bar"
           }
          ],
          "barpolar": [
           {
            "marker": {
             "line": {
              "color": "#E5ECF6",
              "width": 0.5
             },
             "pattern": {
              "fillmode": "overlay",
              "size": 10,
              "solidity": 0.2
             }
            },
            "type": "barpolar"
           }
          ],
          "carpet": [
           {
            "aaxis": {
             "endlinecolor": "#2a3f5f",
             "gridcolor": "white",
             "linecolor": "white",
             "minorgridcolor": "white",
             "startlinecolor": "#2a3f5f"
            },
            "baxis": {
             "endlinecolor": "#2a3f5f",
             "gridcolor": "white",
             "linecolor": "white",
             "minorgridcolor": "white",
             "startlinecolor": "#2a3f5f"
            },
            "type": "carpet"
           }
          ],
          "choropleth": [
           {
            "colorbar": {
             "outlinewidth": 0,
             "ticks": ""
            },
            "type": "choropleth"
           }
          ],
          "contour": [
           {
            "colorbar": {
             "outlinewidth": 0,
             "ticks": ""
            },
            "colorscale": [
             [
              0,
              "#0d0887"
             ],
             [
              0.1111111111111111,
              "#46039f"
             ],
             [
              0.2222222222222222,
              "#7201a8"
             ],
             [
              0.3333333333333333,
              "#9c179e"
             ],
             [
              0.4444444444444444,
              "#bd3786"
             ],
             [
              0.5555555555555556,
              "#d8576b"
             ],
             [
              0.6666666666666666,
              "#ed7953"
             ],
             [
              0.7777777777777778,
              "#fb9f3a"
             ],
             [
              0.8888888888888888,
              "#fdca26"
             ],
             [
              1,
              "#f0f921"
             ]
            ],
            "type": "contour"
           }
          ],
          "contourcarpet": [
           {
            "colorbar": {
             "outlinewidth": 0,
             "ticks": ""
            },
            "type": "contourcarpet"
           }
          ],
          "heatmap": [
           {
            "colorbar": {
             "outlinewidth": 0,
             "ticks": ""
            },
            "colorscale": [
             [
              0,
              "#0d0887"
             ],
             [
              0.1111111111111111,
              "#46039f"
             ],
             [
              0.2222222222222222,
              "#7201a8"
             ],
             [
              0.3333333333333333,
              "#9c179e"
             ],
             [
              0.4444444444444444,
              "#bd3786"
             ],
             [
              0.5555555555555556,
              "#d8576b"
             ],
             [
              0.6666666666666666,
              "#ed7953"
             ],
             [
              0.7777777777777778,
              "#fb9f3a"
             ],
             [
              0.8888888888888888,
              "#fdca26"
             ],
             [
              1,
              "#f0f921"
             ]
            ],
            "type": "heatmap"
           }
          ],
          "heatmapgl": [
           {
            "colorbar": {
             "outlinewidth": 0,
             "ticks": ""
            },
            "colorscale": [
             [
              0,
              "#0d0887"
             ],
             [
              0.1111111111111111,
              "#46039f"
             ],
             [
              0.2222222222222222,
              "#7201a8"
             ],
             [
              0.3333333333333333,
              "#9c179e"
             ],
             [
              0.4444444444444444,
              "#bd3786"
             ],
             [
              0.5555555555555556,
              "#d8576b"
             ],
             [
              0.6666666666666666,
              "#ed7953"
             ],
             [
              0.7777777777777778,
              "#fb9f3a"
             ],
             [
              0.8888888888888888,
              "#fdca26"
             ],
             [
              1,
              "#f0f921"
             ]
            ],
            "type": "heatmapgl"
           }
          ],
          "histogram": [
           {
            "marker": {
             "pattern": {
              "fillmode": "overlay",
              "size": 10,
              "solidity": 0.2
             }
            },
            "type": "histogram"
           }
          ],
          "histogram2d": [
           {
            "colorbar": {
             "outlinewidth": 0,
             "ticks": ""
            },
            "colorscale": [
             [
              0,
              "#0d0887"
             ],
             [
              0.1111111111111111,
              "#46039f"
             ],
             [
              0.2222222222222222,
              "#7201a8"
             ],
             [
              0.3333333333333333,
              "#9c179e"
             ],
             [
              0.4444444444444444,
              "#bd3786"
             ],
             [
              0.5555555555555556,
              "#d8576b"
             ],
             [
              0.6666666666666666,
              "#ed7953"
             ],
             [
              0.7777777777777778,
              "#fb9f3a"
             ],
             [
              0.8888888888888888,
              "#fdca26"
             ],
             [
              1,
              "#f0f921"
             ]
            ],
            "type": "histogram2d"
           }
          ],
          "histogram2dcontour": [
           {
            "colorbar": {
             "outlinewidth": 0,
             "ticks": ""
            },
            "colorscale": [
             [
              0,
              "#0d0887"
             ],
             [
              0.1111111111111111,
              "#46039f"
             ],
             [
              0.2222222222222222,
              "#7201a8"
             ],
             [
              0.3333333333333333,
              "#9c179e"
             ],
             [
              0.4444444444444444,
              "#bd3786"
             ],
             [
              0.5555555555555556,
              "#d8576b"
             ],
             [
              0.6666666666666666,
              "#ed7953"
             ],
             [
              0.7777777777777778,
              "#fb9f3a"
             ],
             [
              0.8888888888888888,
              "#fdca26"
             ],
             [
              1,
              "#f0f921"
             ]
            ],
            "type": "histogram2dcontour"
           }
          ],
          "mesh3d": [
           {
            "colorbar": {
             "outlinewidth": 0,
             "ticks": ""
            },
            "type": "mesh3d"
           }
          ],
          "parcoords": [
           {
            "line": {
             "colorbar": {
              "outlinewidth": 0,
              "ticks": ""
             }
            },
            "type": "parcoords"
           }
          ],
          "pie": [
           {
            "automargin": true,
            "type": "pie"
           }
          ],
          "scatter": [
           {
            "fillpattern": {
             "fillmode": "overlay",
             "size": 10,
             "solidity": 0.2
            },
            "type": "scatter"
           }
          ],
          "scatter3d": [
           {
            "line": {
             "colorbar": {
              "outlinewidth": 0,
              "ticks": ""
             }
            },
            "marker": {
             "colorbar": {
              "outlinewidth": 0,
              "ticks": ""
             }
            },
            "type": "scatter3d"
           }
          ],
          "scattercarpet": [
           {
            "marker": {
             "colorbar": {
              "outlinewidth": 0,
              "ticks": ""
             }
            },
            "type": "scattercarpet"
           }
          ],
          "scattergeo": [
           {
            "marker": {
             "colorbar": {
              "outlinewidth": 0,
              "ticks": ""
             }
            },
            "type": "scattergeo"
           }
          ],
          "scattergl": [
           {
            "marker": {
             "colorbar": {
              "outlinewidth": 0,
              "ticks": ""
             }
            },
            "type": "scattergl"
           }
          ],
          "scattermapbox": [
           {
            "marker": {
             "colorbar": {
              "outlinewidth": 0,
              "ticks": ""
             }
            },
            "type": "scattermapbox"
           }
          ],
          "scatterpolar": [
           {
            "marker": {
             "colorbar": {
              "outlinewidth": 0,
              "ticks": ""
             }
            },
            "type": "scatterpolar"
           }
          ],
          "scatterpolargl": [
           {
            "marker": {
             "colorbar": {
              "outlinewidth": 0,
              "ticks": ""
             }
            },
            "type": "scatterpolargl"
           }
          ],
          "scatterternary": [
           {
            "marker": {
             "colorbar": {
              "outlinewidth": 0,
              "ticks": ""
             }
            },
            "type": "scatterternary"
           }
          ],
          "surface": [
           {
            "colorbar": {
             "outlinewidth": 0,
             "ticks": ""
            },
            "colorscale": [
             [
              0,
              "#0d0887"
             ],
             [
              0.1111111111111111,
              "#46039f"
             ],
             [
              0.2222222222222222,
              "#7201a8"
             ],
             [
              0.3333333333333333,
              "#9c179e"
             ],
             [
              0.4444444444444444,
              "#bd3786"
             ],
             [
              0.5555555555555556,
              "#d8576b"
             ],
             [
              0.6666666666666666,
              "#ed7953"
             ],
             [
              0.7777777777777778,
              "#fb9f3a"
             ],
             [
              0.8888888888888888,
              "#fdca26"
             ],
             [
              1,
              "#f0f921"
             ]
            ],
            "type": "surface"
           }
          ],
          "table": [
           {
            "cells": {
             "fill": {
              "color": "#EBF0F8"
             },
             "line": {
              "color": "white"
             }
            },
            "header": {
             "fill": {
              "color": "#C8D4E3"
             },
             "line": {
              "color": "white"
             }
            },
            "type": "table"
           }
          ]
         },
         "layout": {
          "annotationdefaults": {
           "arrowcolor": "#2a3f5f",
           "arrowhead": 0,
           "arrowwidth": 1
          },
          "autotypenumbers": "strict",
          "coloraxis": {
           "colorbar": {
            "outlinewidth": 0,
            "ticks": ""
           }
          },
          "colorscale": {
           "diverging": [
            [
             0,
             "#8e0152"
            ],
            [
             0.1,
             "#c51b7d"
            ],
            [
             0.2,
             "#de77ae"
            ],
            [
             0.3,
             "#f1b6da"
            ],
            [
             0.4,
             "#fde0ef"
            ],
            [
             0.5,
             "#f7f7f7"
            ],
            [
             0.6,
             "#e6f5d0"
            ],
            [
             0.7,
             "#b8e186"
            ],
            [
             0.8,
             "#7fbc41"
            ],
            [
             0.9,
             "#4d9221"
            ],
            [
             1,
             "#276419"
            ]
           ],
           "sequential": [
            [
             0,
             "#0d0887"
            ],
            [
             0.1111111111111111,
             "#46039f"
            ],
            [
             0.2222222222222222,
             "#7201a8"
            ],
            [
             0.3333333333333333,
             "#9c179e"
            ],
            [
             0.4444444444444444,
             "#bd3786"
            ],
            [
             0.5555555555555556,
             "#d8576b"
            ],
            [
             0.6666666666666666,
             "#ed7953"
            ],
            [
             0.7777777777777778,
             "#fb9f3a"
            ],
            [
             0.8888888888888888,
             "#fdca26"
            ],
            [
             1,
             "#f0f921"
            ]
           ],
           "sequentialminus": [
            [
             0,
             "#0d0887"
            ],
            [
             0.1111111111111111,
             "#46039f"
            ],
            [
             0.2222222222222222,
             "#7201a8"
            ],
            [
             0.3333333333333333,
             "#9c179e"
            ],
            [
             0.4444444444444444,
             "#bd3786"
            ],
            [
             0.5555555555555556,
             "#d8576b"
            ],
            [
             0.6666666666666666,
             "#ed7953"
            ],
            [
             0.7777777777777778,
             "#fb9f3a"
            ],
            [
             0.8888888888888888,
             "#fdca26"
            ],
            [
             1,
             "#f0f921"
            ]
           ]
          },
          "colorway": [
           "#636efa",
           "#EF553B",
           "#00cc96",
           "#ab63fa",
           "#FFA15A",
           "#19d3f3",
           "#FF6692",
           "#B6E880",
           "#FF97FF",
           "#FECB52"
          ],
          "font": {
           "color": "#2a3f5f"
          },
          "geo": {
           "bgcolor": "white",
           "lakecolor": "white",
           "landcolor": "#E5ECF6",
           "showlakes": true,
           "showland": true,
           "subunitcolor": "white"
          },
          "hoverlabel": {
           "align": "left"
          },
          "hovermode": "closest",
          "mapbox": {
           "style": "light"
          },
          "paper_bgcolor": "white",
          "plot_bgcolor": "#E5ECF6",
          "polar": {
           "angularaxis": {
            "gridcolor": "white",
            "linecolor": "white",
            "ticks": ""
           },
           "bgcolor": "#E5ECF6",
           "radialaxis": {
            "gridcolor": "white",
            "linecolor": "white",
            "ticks": ""
           }
          },
          "scene": {
           "xaxis": {
            "backgroundcolor": "#E5ECF6",
            "gridcolor": "white",
            "gridwidth": 2,
            "linecolor": "white",
            "showbackground": true,
            "ticks": "",
            "zerolinecolor": "white"
           },
           "yaxis": {
            "backgroundcolor": "#E5ECF6",
            "gridcolor": "white",
            "gridwidth": 2,
            "linecolor": "white",
            "showbackground": true,
            "ticks": "",
            "zerolinecolor": "white"
           },
           "zaxis": {
            "backgroundcolor": "#E5ECF6",
            "gridcolor": "white",
            "gridwidth": 2,
            "linecolor": "white",
            "showbackground": true,
            "ticks": "",
            "zerolinecolor": "white"
           }
          },
          "shapedefaults": {
           "line": {
            "color": "#2a3f5f"
           }
          },
          "ternary": {
           "aaxis": {
            "gridcolor": "white",
            "linecolor": "white",
            "ticks": ""
           },
           "baxis": {
            "gridcolor": "white",
            "linecolor": "white",
            "ticks": ""
           },
           "bgcolor": "#E5ECF6",
           "caxis": {
            "gridcolor": "white",
            "linecolor": "white",
            "ticks": ""
           }
          },
          "title": {
           "x": 0.05
          },
          "xaxis": {
           "automargin": true,
           "gridcolor": "white",
           "linecolor": "white",
           "ticks": "",
           "title": {
            "standoff": 15
           },
           "zerolinecolor": "white",
           "zerolinewidth": 2
          },
          "yaxis": {
           "automargin": true,
           "gridcolor": "white",
           "linecolor": "white",
           "ticks": "",
           "title": {
            "standoff": 15
           },
           "zerolinecolor": "white",
           "zerolinewidth": 2
          }
         }
        },
        "title": {
         "font": {
          "color": "#000000",
          "family": "Arial",
          "size": 25
         },
         "text": "구매횟수별 소비자수"
        }
       }
      }
     },
     "metadata": {},
     "output_type": "display_data"
    }
   ],
   "source": [
    "from plotly import graph_objects as go\n",
    "\n",
    "order_1 = len(result_df[result_df['Frequency'] == 1])\n",
    "order_2 = len(result_df[result_df['Frequency'] == 2])\n",
    "order_3 = len(result_df[result_df['Frequency'] >= 3])\n",
    "\n",
    "fig = go.Figure(go.Funnel(\n",
    "    y =[\"1회 구매\", \"2회 구매\", \"3회 이상 구매\"],\n",
    "    x = [order_1,order_2,order_3],\n",
    "    textinfo = \"value\",\n",
    "    opacity = 0.65, marker = {\"color\": [\"silver\", \"gold\", \"red\", 'red'],\n",
    "                              \n",
    "    }\n",
    "    ))\n",
    "fig.update_layout(\n",
    "    title=dict(\n",
    "        # <br> 태크와 <sup>태그 사용해서 서브 타이틀을 작성할 수 있음\n",
    "        text='구매횟수별 소비자수',\n",
    "        font=dict(\n",
    "            family=\"Arial\",\n",
    "            size=25,\n",
    "            color=\"#000000\")))\n",
    "fig.show()"
   ]
  },
  {
   "cell_type": "markdown",
   "metadata": {},
   "source": [
    "## RFM 점수화\n",
    "- Recency, Recency의 점수를 1 ~ 5의 범위로 비율 나누기\n",
    "- Frequency는 1이 모든 비중을 차지하고 있어 1 ~ 3의 범위로 비율 나누기"
   ]
  },
  {
   "cell_type": "code",
   "execution_count": 56,
   "metadata": {},
   "outputs": [
    {
     "data": {
      "text/html": [
       "<div>\n",
       "<style scoped>\n",
       "    .dataframe tbody tr th:only-of-type {\n",
       "        vertical-align: middle;\n",
       "    }\n",
       "\n",
       "    .dataframe tbody tr th {\n",
       "        vertical-align: top;\n",
       "    }\n",
       "\n",
       "    .dataframe thead th {\n",
       "        text-align: right;\n",
       "    }\n",
       "</style>\n",
       "<table border=\"1\" class=\"dataframe\">\n",
       "  <thead>\n",
       "    <tr style=\"text-align: right;\">\n",
       "      <th></th>\n",
       "      <th>customer_unique_id</th>\n",
       "      <th>Recency</th>\n",
       "      <th>Frequency</th>\n",
       "      <th>Monetary</th>\n",
       "      <th>R_score</th>\n",
       "      <th>F_score</th>\n",
       "      <th>M_score</th>\n",
       "    </tr>\n",
       "  </thead>\n",
       "  <tbody>\n",
       "    <tr>\n",
       "      <th>0</th>\n",
       "      <td>0000366f3b9a7992bf8c76cfdf3221e2</td>\n",
       "      <td>117</td>\n",
       "      <td>1</td>\n",
       "      <td>141.90</td>\n",
       "      <td>4</td>\n",
       "      <td>1</td>\n",
       "      <td>4</td>\n",
       "    </tr>\n",
       "    <tr>\n",
       "      <th>1</th>\n",
       "      <td>0000b849f77a49e4a4ce2b2a4ca5be3f</td>\n",
       "      <td>120</td>\n",
       "      <td>1</td>\n",
       "      <td>27.19</td>\n",
       "      <td>4</td>\n",
       "      <td>1</td>\n",
       "      <td>1</td>\n",
       "    </tr>\n",
       "    <tr>\n",
       "      <th>2</th>\n",
       "      <td>0000f46a3911fa3c0805444483337064</td>\n",
       "      <td>543</td>\n",
       "      <td>1</td>\n",
       "      <td>86.22</td>\n",
       "      <td>1</td>\n",
       "      <td>1</td>\n",
       "      <td>2</td>\n",
       "    </tr>\n",
       "    <tr>\n",
       "      <th>3</th>\n",
       "      <td>0000f6ccb0745a6a4b88665a16c9f078</td>\n",
       "      <td>327</td>\n",
       "      <td>1</td>\n",
       "      <td>43.62</td>\n",
       "      <td>2</td>\n",
       "      <td>1</td>\n",
       "      <td>1</td>\n",
       "    </tr>\n",
       "    <tr>\n",
       "      <th>4</th>\n",
       "      <td>0004aac84e0df4da2b147fca70cf8255</td>\n",
       "      <td>294</td>\n",
       "      <td>1</td>\n",
       "      <td>196.89</td>\n",
       "      <td>2</td>\n",
       "      <td>1</td>\n",
       "      <td>4</td>\n",
       "    </tr>\n",
       "    <tr>\n",
       "      <th>...</th>\n",
       "      <td>...</td>\n",
       "      <td>...</td>\n",
       "      <td>...</td>\n",
       "      <td>...</td>\n",
       "      <td>...</td>\n",
       "      <td>...</td>\n",
       "      <td>...</td>\n",
       "    </tr>\n",
       "    <tr>\n",
       "      <th>94984</th>\n",
       "      <td>fffcf5a5ff07b0908bd4e2dbc735a684</td>\n",
       "      <td>453</td>\n",
       "      <td>1</td>\n",
       "      <td>2067.42</td>\n",
       "      <td>1</td>\n",
       "      <td>1</td>\n",
       "      <td>5</td>\n",
       "    </tr>\n",
       "    <tr>\n",
       "      <th>94985</th>\n",
       "      <td>fffea47cd6d3cc0a88bd621562a9d061</td>\n",
       "      <td>268</td>\n",
       "      <td>1</td>\n",
       "      <td>84.58</td>\n",
       "      <td>3</td>\n",
       "      <td>1</td>\n",
       "      <td>2</td>\n",
       "    </tr>\n",
       "    <tr>\n",
       "      <th>94986</th>\n",
       "      <td>ffff371b4d645b6ecea244b27531430a</td>\n",
       "      <td>574</td>\n",
       "      <td>1</td>\n",
       "      <td>112.46</td>\n",
       "      <td>1</td>\n",
       "      <td>1</td>\n",
       "      <td>3</td>\n",
       "    </tr>\n",
       "    <tr>\n",
       "      <th>94987</th>\n",
       "      <td>ffff5962728ec6157033ef9805bacc48</td>\n",
       "      <td>125</td>\n",
       "      <td>1</td>\n",
       "      <td>133.69</td>\n",
       "      <td>4</td>\n",
       "      <td>1</td>\n",
       "      <td>4</td>\n",
       "    </tr>\n",
       "    <tr>\n",
       "      <th>94988</th>\n",
       "      <td>ffffd2657e2aad2907e67c3e9daecbeb</td>\n",
       "      <td>490</td>\n",
       "      <td>1</td>\n",
       "      <td>71.56</td>\n",
       "      <td>1</td>\n",
       "      <td>1</td>\n",
       "      <td>2</td>\n",
       "    </tr>\n",
       "  </tbody>\n",
       "</table>\n",
       "<p>94989 rows × 7 columns</p>\n",
       "</div>"
      ],
      "text/plain": [
       "                     customer_unique_id  Recency  Frequency  Monetary R_score  \\\n",
       "0      0000366f3b9a7992bf8c76cfdf3221e2      117          1    141.90       4   \n",
       "1      0000b849f77a49e4a4ce2b2a4ca5be3f      120          1     27.19       4   \n",
       "2      0000f46a3911fa3c0805444483337064      543          1     86.22       1   \n",
       "3      0000f6ccb0745a6a4b88665a16c9f078      327          1     43.62       2   \n",
       "4      0004aac84e0df4da2b147fca70cf8255      294          1    196.89       2   \n",
       "...                                 ...      ...        ...       ...     ...   \n",
       "94984  fffcf5a5ff07b0908bd4e2dbc735a684      453          1   2067.42       1   \n",
       "94985  fffea47cd6d3cc0a88bd621562a9d061      268          1     84.58       3   \n",
       "94986  ffff371b4d645b6ecea244b27531430a      574          1    112.46       1   \n",
       "94987  ffff5962728ec6157033ef9805bacc48      125          1    133.69       4   \n",
       "94988  ffffd2657e2aad2907e67c3e9daecbeb      490          1     71.56       1   \n",
       "\n",
       "      F_score M_score  \n",
       "0           1       4  \n",
       "1           1       1  \n",
       "2           1       2  \n",
       "3           1       1  \n",
       "4           1       4  \n",
       "...       ...     ...  \n",
       "94984       1       5  \n",
       "94985       1       2  \n",
       "94986       1       3  \n",
       "94987       1       4  \n",
       "94988       1       2  \n",
       "\n",
       "[94989 rows x 7 columns]"
      ]
     },
     "execution_count": 56,
     "metadata": {},
     "output_type": "execute_result"
    }
   ],
   "source": [
    "result_df['R_score'] = pd.qcut(result_df['Recency'], 5, labels = [5, 4, 3, 2, 1]).astype(str)\n",
    "\n",
    "result_df['F_score'] = result_df['Frequency'].apply(lambda x: '1' if x == 1 else ('2' if x == 2 else '3'))\n",
    "\n",
    "result_df['M_score'] = pd.qcut(result_df['Monetary'], 5, labels = [1, 2, 3, 4, 5]).astype(str)\n",
    "result_df"
   ]
  },
  {
   "cell_type": "code",
   "execution_count": 57,
   "metadata": {},
   "outputs": [
    {
     "name": "stdout",
     "output_type": "stream",
     "text": [
      "R_score\n",
      "1    0.199802\n",
      "2    0.199370\n",
      "3    0.200171\n",
      "4    0.199360\n",
      "5    0.201297\n",
      "Name: proportion, dtype: float64 \n",
      "\n",
      " F_score\n",
      "1    0.969596\n",
      "2    0.027919\n",
      "3    0.002484\n",
      "Name: proportion, dtype: float64 \n",
      "\n",
      " M_score\n",
      "1    0.200034\n",
      "2    0.200002\n",
      "3    0.199960\n",
      "4    0.200023\n",
      "5    0.199981\n",
      "Name: proportion, dtype: float64\n"
     ]
    }
   ],
   "source": [
    "print(\n",
    "        result_df['R_score'].value_counts(normalize=True)\\\n",
    "                           .sort_index(), '\\n\\n',\n",
    "        result_df['F_score'].value_counts(normalize=True)\\\n",
    "                           .sort_index(),'\\n\\n',\n",
    "        result_df['M_score'].value_counts(normalize=True)\\\n",
    "                           .sort_index()\n",
    "       )"
   ]
  },
  {
   "cell_type": "code",
   "execution_count": 30,
   "metadata": {},
   "outputs": [],
   "source": [
    "# !pip install yellowbrick"
   ]
  },
  {
   "cell_type": "markdown",
   "metadata": {},
   "source": [
    "## RFM 점수별 고객 클러스터링"
   ]
  },
  {
   "cell_type": "code",
   "execution_count": 31,
   "metadata": {},
   "outputs": [],
   "source": [
    "from sklearn.preprocessing import MinMaxScaler\n",
    "from sklearn.cluster import KMeans\n",
    "from sklearn.metrics import silhouette_score\n",
    "from yellowbrick.cluster import KElbowVisualizer\n",
    "from mpl_toolkits.mplot3d import Axes3D"
   ]
  },
  {
   "cell_type": "markdown",
   "metadata": {},
   "source": [
    "### MinMaxScaler로 R, F, M 정규화"
   ]
  },
  {
   "cell_type": "code",
   "execution_count": 58,
   "metadata": {},
   "outputs": [
    {
     "data": {
      "text/html": [
       "<div>\n",
       "<style scoped>\n",
       "    .dataframe tbody tr th:only-of-type {\n",
       "        vertical-align: middle;\n",
       "    }\n",
       "\n",
       "    .dataframe tbody tr th {\n",
       "        vertical-align: top;\n",
       "    }\n",
       "\n",
       "    .dataframe thead th {\n",
       "        text-align: right;\n",
       "    }\n",
       "</style>\n",
       "<table border=\"1\" class=\"dataframe\">\n",
       "  <thead>\n",
       "    <tr style=\"text-align: right;\">\n",
       "      <th></th>\n",
       "      <th>Recency</th>\n",
       "      <th>Frequency</th>\n",
       "      <th>Monetary</th>\n",
       "    </tr>\n",
       "  </thead>\n",
       "  <tbody>\n",
       "    <tr>\n",
       "      <th>0</th>\n",
       "      <td>0.157967</td>\n",
       "      <td>0.0</td>\n",
       "      <td>0.009690</td>\n",
       "    </tr>\n",
       "    <tr>\n",
       "      <th>1</th>\n",
       "      <td>0.162088</td>\n",
       "      <td>0.0</td>\n",
       "      <td>0.001289</td>\n",
       "    </tr>\n",
       "    <tr>\n",
       "      <th>2</th>\n",
       "      <td>0.743132</td>\n",
       "      <td>0.0</td>\n",
       "      <td>0.005612</td>\n",
       "    </tr>\n",
       "    <tr>\n",
       "      <th>3</th>\n",
       "      <td>0.446429</td>\n",
       "      <td>0.0</td>\n",
       "      <td>0.002492</td>\n",
       "    </tr>\n",
       "    <tr>\n",
       "      <th>4</th>\n",
       "      <td>0.401099</td>\n",
       "      <td>0.0</td>\n",
       "      <td>0.013717</td>\n",
       "    </tr>\n",
       "  </tbody>\n",
       "</table>\n",
       "</div>"
      ],
      "text/plain": [
       "    Recency  Frequency  Monetary\n",
       "0  0.157967        0.0  0.009690\n",
       "1  0.162088        0.0  0.001289\n",
       "2  0.743132        0.0  0.005612\n",
       "3  0.446429        0.0  0.002492\n",
       "4  0.401099        0.0  0.013717"
      ]
     },
     "execution_count": 58,
     "metadata": {},
     "output_type": "execute_result"
    }
   ],
   "source": [
    "mms = MinMaxScaler()\n",
    " \n",
    "rfm_data = result_df[['Recency', 'Frequency', 'Monetary']]\n",
    "\n",
    "rfm_data_scaled = mms.fit_transform(rfm_data)\n",
    "rfm_data_scaled = pd.DataFrame(rfm_data_scaled, columns=['Recency', 'Frequency', 'Monetary'])    \n",
    "rfm_data_scaled.head()"
   ]
  },
  {
   "cell_type": "markdown",
   "metadata": {},
   "source": [
    "### KElbowVisualizer 방법을 통한 최적의 K값 탐색"
   ]
  },
  {
   "cell_type": "code",
   "execution_count": 33,
   "metadata": {},
   "outputs": [
    {
     "data": {
      "image/png": "[encoded data removed]",
      "text/plain": [
       "<Figure size 800x550 with 2 Axes>"
      ]
     },
     "metadata": {},
     "output_type": "display_data"
    }
   ],
   "source": [
    "km = KMeans()\n",
    "elbow = KElbowVisualizer(estimator = km, k = 10)\n",
    "elbow.fit(rfm_data_scaled)\n",
    "elbow.show()\n",
    "\n",
    "plt.show()"
   ]
  },
  {
   "cell_type": "code",
   "execution_count": 34,
   "metadata": {},
   "outputs": [
    {
     "name": "stdout",
     "output_type": "stream",
     "text": [
      "0.5861871600344222\n",
      "0.559309873133714\n",
      "0.5300133752320126\n",
      "0.5258983504495948\n"
     ]
    },
    {
     "data": {
      "text/plain": [
       "[<matplotlib.lines.Line2D at 0x2bc33b94b50>]"
      ]
     },
     "execution_count": 34,
     "metadata": {},
     "output_type": "execute_result"
    },
    {
     "data": {
      "image/png": "[encoded data removed]",
      "text/plain": [
       "<Figure size 800x550 with 1 Axes>"
      ]
     },
     "metadata": {},
     "output_type": "display_data"
    }
   ],
   "source": [
    "from sklearn.cluster import KMeans\n",
    "from sklearn.metrics import silhouette_score\n",
    "import matplotlib.pyplot as plt\n",
    "\n",
    "# 실루엣 분석을 사용하여 최적의 K값 탐색\n",
    "silhouette_scores = []\n",
    "for k in range(2, 6):\n",
    "    kmeans = KMeans(n_clusters=k, random_state=0)\n",
    "    kmeans.fit(rfm_data_scaled)\n",
    "    score = silhouette_score(rfm_data_scaled, kmeans.labels_)\n",
    "    silhouette_scores.append(score)\n",
    "    print(score)\n",
    "# 실루엣 분석 그래프 그리기\n",
    "plt.plot(range(2, 6), silhouette_scores, marker='o')"
   ]
  },
  {
   "cell_type": "code",
   "execution_count": 35,
   "metadata": {},
   "outputs": [
    {
     "data": {
      "image/png": "[encoded data removed]",
      "text/plain": [
       "<Figure size 800x550 with 1 Axes>"
      ]
     },
     "metadata": {},
     "output_type": "display_data"
    },
    {
     "data": {
      "text/plain": [
       "<Axes: title={'center': 'Silhouette Plot of KMeans Clustering for 94989 Samples in 4 Centers'}, xlabel='silhouette coefficient values', ylabel='cluster label'>"
      ]
     },
     "execution_count": 35,
     "metadata": {},
     "output_type": "execute_result"
    }
   ],
   "source": [
    "from yellowbrick.cluster import SilhouetteVisualizer\n",
    "\n",
    "vis=SilhouetteVisualizer(KMeans(n_clusters=4,n_init=10, random_state=0))\n",
    "vis.fit(rfm_data_scaled)\n",
    "vis.show()"
   ]
  },
  {
   "cell_type": "code",
   "execution_count": 59,
   "metadata": {},
   "outputs": [
    {
     "data": {
      "text/html": [
       "<div>\n",
       "<style scoped>\n",
       "    .dataframe tbody tr th:only-of-type {\n",
       "        vertical-align: middle;\n",
       "    }\n",
       "\n",
       "    .dataframe tbody tr th {\n",
       "        vertical-align: top;\n",
       "    }\n",
       "\n",
       "    .dataframe thead th {\n",
       "        text-align: right;\n",
       "    }\n",
       "</style>\n",
       "<table border=\"1\" class=\"dataframe\">\n",
       "  <thead>\n",
       "    <tr style=\"text-align: right;\">\n",
       "      <th></th>\n",
       "      <th>Recency</th>\n",
       "      <th>Frequency</th>\n",
       "      <th>Monetary</th>\n",
       "      <th>cluster</th>\n",
       "    </tr>\n",
       "  </thead>\n",
       "  <tbody>\n",
       "    <tr>\n",
       "      <th>0</th>\n",
       "      <td>0.157967</td>\n",
       "      <td>0.0</td>\n",
       "      <td>0.009690</td>\n",
       "      <td>1</td>\n",
       "    </tr>\n",
       "    <tr>\n",
       "      <th>1</th>\n",
       "      <td>0.162088</td>\n",
       "      <td>0.0</td>\n",
       "      <td>0.001289</td>\n",
       "      <td>1</td>\n",
       "    </tr>\n",
       "    <tr>\n",
       "      <th>2</th>\n",
       "      <td>0.743132</td>\n",
       "      <td>0.0</td>\n",
       "      <td>0.005612</td>\n",
       "      <td>0</td>\n",
       "    </tr>\n",
       "    <tr>\n",
       "      <th>3</th>\n",
       "      <td>0.446429</td>\n",
       "      <td>0.0</td>\n",
       "      <td>0.002492</td>\n",
       "      <td>2</td>\n",
       "    </tr>\n",
       "    <tr>\n",
       "      <th>4</th>\n",
       "      <td>0.401099</td>\n",
       "      <td>0.0</td>\n",
       "      <td>0.013717</td>\n",
       "      <td>2</td>\n",
       "    </tr>\n",
       "    <tr>\n",
       "      <th>...</th>\n",
       "      <td>...</td>\n",
       "      <td>...</td>\n",
       "      <td>...</td>\n",
       "      <td>...</td>\n",
       "    </tr>\n",
       "    <tr>\n",
       "      <th>94984</th>\n",
       "      <td>0.619505</td>\n",
       "      <td>0.0</td>\n",
       "      <td>0.150707</td>\n",
       "      <td>0</td>\n",
       "    </tr>\n",
       "    <tr>\n",
       "      <th>94985</th>\n",
       "      <td>0.365385</td>\n",
       "      <td>0.0</td>\n",
       "      <td>0.005492</td>\n",
       "      <td>2</td>\n",
       "    </tr>\n",
       "    <tr>\n",
       "      <th>94986</th>\n",
       "      <td>0.785714</td>\n",
       "      <td>0.0</td>\n",
       "      <td>0.007534</td>\n",
       "      <td>0</td>\n",
       "    </tr>\n",
       "    <tr>\n",
       "      <th>94987</th>\n",
       "      <td>0.168956</td>\n",
       "      <td>0.0</td>\n",
       "      <td>0.009089</td>\n",
       "      <td>1</td>\n",
       "    </tr>\n",
       "    <tr>\n",
       "      <th>94988</th>\n",
       "      <td>0.670330</td>\n",
       "      <td>0.0</td>\n",
       "      <td>0.004538</td>\n",
       "      <td>0</td>\n",
       "    </tr>\n",
       "  </tbody>\n",
       "</table>\n",
       "<p>94989 rows × 4 columns</p>\n",
       "</div>"
      ],
      "text/plain": [
       "        Recency  Frequency  Monetary  cluster\n",
       "0      0.157967        0.0  0.009690        1\n",
       "1      0.162088        0.0  0.001289        1\n",
       "2      0.743132        0.0  0.005612        0\n",
       "3      0.446429        0.0  0.002492        2\n",
       "4      0.401099        0.0  0.013717        2\n",
       "...         ...        ...       ...      ...\n",
       "94984  0.619505        0.0  0.150707        0\n",
       "94985  0.365385        0.0  0.005492        2\n",
       "94986  0.785714        0.0  0.007534        0\n",
       "94987  0.168956        0.0  0.009089        1\n",
       "94988  0.670330        0.0  0.004538        0\n",
       "\n",
       "[94989 rows x 4 columns]"
      ]
     },
     "execution_count": 59,
     "metadata": {},
     "output_type": "execute_result"
    }
   ],
   "source": [
    "km = KMeans(n_clusters = 4, random_state = 42)\n",
    "clusters = km.fit_predict(rfm_data_scaled)\n",
    "\n",
    "rfm_data_scaled['cluster'] = clusters\n",
    "rfm_data_scaled"
   ]
  },
  {
   "cell_type": "code",
   "execution_count": 60,
   "metadata": {},
   "outputs": [
    {
     "data": {
      "text/plain": [
       "cluster\n",
       "0    16915\n",
       "1    25836\n",
       "2    24734\n",
       "3    27504\n",
       "Name: count, dtype: int64"
      ]
     },
     "execution_count": 60,
     "metadata": {},
     "output_type": "execute_result"
    }
   ],
   "source": [
    "result_df['cluster'] = rfm_data_scaled['cluster']\n",
    "result_df['cluster'].value_counts().sort_index()"
   ]
  },
  {
   "cell_type": "code",
   "execution_count": 61,
   "metadata": {},
   "outputs": [
    {
     "data": {
      "image/png": "[encoded data removed]",
      "text/plain": [
       "<Figure size 600x400 with 1 Axes>"
      ]
     },
     "metadata": {},
     "output_type": "display_data"
    }
   ],
   "source": [
    "#각 클러스터의 고객 수 시각화\n",
    "plt.figure(figsize=(6, 4))\n",
    "plt.bar(result_df['cluster'].value_counts().index, result_df['cluster'].value_counts(), color=['red', 'green', 'blue', 'orange'])\n",
    "plt.xlabel('Cluster')\n",
    "plt.ylabel('Number of Customers')\n",
    "plt.title('Number of Customers in Each Cluster')\n",
    "plt.xticks(result_df['cluster'].value_counts().index)  # x축 눈금을 클러스터 값으로 설정\n",
    "plt.show()"
   ]
  },
  {
   "cell_type": "code",
   "execution_count": 62,
   "metadata": {},
   "outputs": [
    {
     "data": {
      "text/html": [
       "<div>\n",
       "<style scoped>\n",
       "    .dataframe tbody tr th:only-of-type {\n",
       "        vertical-align: middle;\n",
       "    }\n",
       "\n",
       "    .dataframe tbody tr th {\n",
       "        vertical-align: top;\n",
       "    }\n",
       "\n",
       "    .dataframe thead th {\n",
       "        text-align: right;\n",
       "    }\n",
       "</style>\n",
       "<table border=\"1\" class=\"dataframe\">\n",
       "  <thead>\n",
       "    <tr style=\"text-align: right;\">\n",
       "      <th></th>\n",
       "      <th>customer_unique_id</th>\n",
       "      <th>Recency</th>\n",
       "      <th>Frequency</th>\n",
       "      <th>Monetary</th>\n",
       "      <th>R_score</th>\n",
       "      <th>F_score</th>\n",
       "      <th>M_score</th>\n",
       "      <th>cluster</th>\n",
       "    </tr>\n",
       "  </thead>\n",
       "  <tbody>\n",
       "    <tr>\n",
       "      <th>0</th>\n",
       "      <td>0000366f3b9a7992bf8c76cfdf3221e2</td>\n",
       "      <td>117</td>\n",
       "      <td>1</td>\n",
       "      <td>141.90</td>\n",
       "      <td>4</td>\n",
       "      <td>1</td>\n",
       "      <td>4</td>\n",
       "      <td>1</td>\n",
       "    </tr>\n",
       "    <tr>\n",
       "      <th>1</th>\n",
       "      <td>0000b849f77a49e4a4ce2b2a4ca5be3f</td>\n",
       "      <td>120</td>\n",
       "      <td>1</td>\n",
       "      <td>27.19</td>\n",
       "      <td>4</td>\n",
       "      <td>1</td>\n",
       "      <td>1</td>\n",
       "      <td>1</td>\n",
       "    </tr>\n",
       "    <tr>\n",
       "      <th>2</th>\n",
       "      <td>0000f46a3911fa3c0805444483337064</td>\n",
       "      <td>543</td>\n",
       "      <td>1</td>\n",
       "      <td>86.22</td>\n",
       "      <td>1</td>\n",
       "      <td>1</td>\n",
       "      <td>2</td>\n",
       "      <td>0</td>\n",
       "    </tr>\n",
       "    <tr>\n",
       "      <th>3</th>\n",
       "      <td>0000f6ccb0745a6a4b88665a16c9f078</td>\n",
       "      <td>327</td>\n",
       "      <td>1</td>\n",
       "      <td>43.62</td>\n",
       "      <td>2</td>\n",
       "      <td>1</td>\n",
       "      <td>1</td>\n",
       "      <td>2</td>\n",
       "    </tr>\n",
       "    <tr>\n",
       "      <th>4</th>\n",
       "      <td>0004aac84e0df4da2b147fca70cf8255</td>\n",
       "      <td>294</td>\n",
       "      <td>1</td>\n",
       "      <td>196.89</td>\n",
       "      <td>2</td>\n",
       "      <td>1</td>\n",
       "      <td>4</td>\n",
       "      <td>2</td>\n",
       "    </tr>\n",
       "    <tr>\n",
       "      <th>...</th>\n",
       "      <td>...</td>\n",
       "      <td>...</td>\n",
       "      <td>...</td>\n",
       "      <td>...</td>\n",
       "      <td>...</td>\n",
       "      <td>...</td>\n",
       "      <td>...</td>\n",
       "      <td>...</td>\n",
       "    </tr>\n",
       "    <tr>\n",
       "      <th>94984</th>\n",
       "      <td>fffcf5a5ff07b0908bd4e2dbc735a684</td>\n",
       "      <td>453</td>\n",
       "      <td>1</td>\n",
       "      <td>2067.42</td>\n",
       "      <td>1</td>\n",
       "      <td>1</td>\n",
       "      <td>5</td>\n",
       "      <td>0</td>\n",
       "    </tr>\n",
       "    <tr>\n",
       "      <th>94985</th>\n",
       "      <td>fffea47cd6d3cc0a88bd621562a9d061</td>\n",
       "      <td>268</td>\n",
       "      <td>1</td>\n",
       "      <td>84.58</td>\n",
       "      <td>3</td>\n",
       "      <td>1</td>\n",
       "      <td>2</td>\n",
       "      <td>2</td>\n",
       "    </tr>\n",
       "    <tr>\n",
       "      <th>94986</th>\n",
       "      <td>ffff371b4d645b6ecea244b27531430a</td>\n",
       "      <td>574</td>\n",
       "      <td>1</td>\n",
       "      <td>112.46</td>\n",
       "      <td>1</td>\n",
       "      <td>1</td>\n",
       "      <td>3</td>\n",
       "      <td>0</td>\n",
       "    </tr>\n",
       "    <tr>\n",
       "      <th>94987</th>\n",
       "      <td>ffff5962728ec6157033ef9805bacc48</td>\n",
       "      <td>125</td>\n",
       "      <td>1</td>\n",
       "      <td>133.69</td>\n",
       "      <td>4</td>\n",
       "      <td>1</td>\n",
       "      <td>4</td>\n",
       "      <td>1</td>\n",
       "    </tr>\n",
       "    <tr>\n",
       "      <th>94988</th>\n",
       "      <td>ffffd2657e2aad2907e67c3e9daecbeb</td>\n",
       "      <td>490</td>\n",
       "      <td>1</td>\n",
       "      <td>71.56</td>\n",
       "      <td>1</td>\n",
       "      <td>1</td>\n",
       "      <td>2</td>\n",
       "      <td>0</td>\n",
       "    </tr>\n",
       "  </tbody>\n",
       "</table>\n",
       "<p>94989 rows × 8 columns</p>\n",
       "</div>"
      ],
      "text/plain": [
       "                     customer_unique_id  Recency  Frequency  Monetary R_score  \\\n",
       "0      0000366f3b9a7992bf8c76cfdf3221e2      117          1    141.90       4   \n",
       "1      0000b849f77a49e4a4ce2b2a4ca5be3f      120          1     27.19       4   \n",
       "2      0000f46a3911fa3c0805444483337064      543          1     86.22       1   \n",
       "3      0000f6ccb0745a6a4b88665a16c9f078      327          1     43.62       2   \n",
       "4      0004aac84e0df4da2b147fca70cf8255      294          1    196.89       2   \n",
       "...                                 ...      ...        ...       ...     ...   \n",
       "94984  fffcf5a5ff07b0908bd4e2dbc735a684      453          1   2067.42       1   \n",
       "94985  fffea47cd6d3cc0a88bd621562a9d061      268          1     84.58       3   \n",
       "94986  ffff371b4d645b6ecea244b27531430a      574          1    112.46       1   \n",
       "94987  ffff5962728ec6157033ef9805bacc48      125          1    133.69       4   \n",
       "94988  ffffd2657e2aad2907e67c3e9daecbeb      490          1     71.56       1   \n",
       "\n",
       "      F_score M_score  cluster  \n",
       "0           1       4        1  \n",
       "1           1       1        1  \n",
       "2           1       2        0  \n",
       "3           1       1        2  \n",
       "4           1       4        2  \n",
       "...       ...     ...      ...  \n",
       "94984       1       5        0  \n",
       "94985       1       2        2  \n",
       "94986       1       3        0  \n",
       "94987       1       4        1  \n",
       "94988       1       2        0  \n",
       "\n",
       "[94989 rows x 8 columns]"
      ]
     },
     "execution_count": 62,
     "metadata": {},
     "output_type": "execute_result"
    }
   ],
   "source": [
    "result_df"
   ]
  },
  {
   "cell_type": "code",
   "execution_count": 63,
   "metadata": {},
   "outputs": [
    {
     "data": {
      "image/png": "[encoded data removed]",
      "text/plain": [
       "<Figure size 600x300 with 1 Axes>"
      ]
     },
     "metadata": {},
     "output_type": "display_data"
    },
    {
     "data": {
      "image/png": "[encoded data removed]",
      "text/plain": [
       "<Figure size 600x300 with 1 Axes>"
      ]
     },
     "metadata": {},
     "output_type": "display_data"
    },
    {
     "data": {
      "image/png": "[encoded data removed]",
      "text/plain": [
       "<Figure size 600x300 with 1 Axes>"
      ]
     },
     "metadata": {},
     "output_type": "display_data"
    }
   ],
   "source": [
    "for i,c in enumerate(list(result_df.columns[1:4])):\n",
    "    plt.figure(figsize = (6,3))\n",
    "    sns.boxplot(y = result_df[c], x = result_df['cluster'], order = [0,1,2,3], palette='Greens')\n",
    "    plt.show()"
   ]
  },
  {
   "cell_type": "code",
   "execution_count": 64,
   "metadata": {},
   "outputs": [
    {
     "data": {
      "image/png": "[encoded data removed]",
      "text/plain": [
       "<Figure size 400x300 with 1 Axes>"
      ]
     },
     "metadata": {},
     "output_type": "display_data"
    },
    {
     "name": "stdout",
     "output_type": "stream",
     "text": [
      "Recency: 0.19\n",
      "Frequency: 0.01\n",
      "Monetary: 0.8\n"
     ]
    }
   ],
   "source": [
    "from lightgbm import LGBMClassifier\n",
    "\n",
    "X = result_df[['Recency', 'Frequency', 'Monetary']]\n",
    "y = result_df['cluster']\n",
    "\n",
    "lgbm = LGBMClassifier(random_state = 0, verbose=-1)\n",
    "lgbm.fit(X,y)\n",
    "\n",
    "plt.figure(figsize = (4,3))\n",
    "sns.barplot(x = lgbm.feature_importances_, y = X.columns, palette='Greens')\n",
    "plt.ylabel('')\n",
    "plt.show()\n",
    "\n",
    "# 가중치 계산\n",
    "scores = lgbm.feature_importances_ / sum(lgbm.feature_importances_)\n",
    "for i,c in enumerate(X.columns):\n",
    "    print(f'{c}: {round(scores[i],2)}')"
   ]
  },
  {
   "cell_type": "code",
   "execution_count": 65,
   "metadata": {},
   "outputs": [
    {
     "data": {
      "text/html": [
       "<div>\n",
       "<style scoped>\n",
       "    .dataframe tbody tr th:only-of-type {\n",
       "        vertical-align: middle;\n",
       "    }\n",
       "\n",
       "    .dataframe tbody tr th {\n",
       "        vertical-align: top;\n",
       "    }\n",
       "\n",
       "    .dataframe thead th {\n",
       "        text-align: right;\n",
       "    }\n",
       "</style>\n",
       "<table border=\"1\" class=\"dataframe\">\n",
       "  <thead>\n",
       "    <tr style=\"text-align: right;\">\n",
       "      <th></th>\n",
       "      <th>customer_unique_id</th>\n",
       "      <th>Recency</th>\n",
       "      <th>Frequency</th>\n",
       "      <th>Monetary</th>\n",
       "      <th>R_score</th>\n",
       "      <th>F_score</th>\n",
       "      <th>M_score</th>\n",
       "      <th>cluster</th>\n",
       "      <th>RFM_score</th>\n",
       "    </tr>\n",
       "  </thead>\n",
       "  <tbody>\n",
       "    <tr>\n",
       "      <th>0</th>\n",
       "      <td>0000366f3b9a7992bf8c76cfdf3221e2</td>\n",
       "      <td>117</td>\n",
       "      <td>1</td>\n",
       "      <td>141.90</td>\n",
       "      <td>4</td>\n",
       "      <td>1</td>\n",
       "      <td>4</td>\n",
       "      <td>1</td>\n",
       "      <td>79.442821</td>\n",
       "    </tr>\n",
       "    <tr>\n",
       "      <th>1</th>\n",
       "      <td>0000b849f77a49e4a4ce2b2a4ca5be3f</td>\n",
       "      <td>120</td>\n",
       "      <td>1</td>\n",
       "      <td>27.19</td>\n",
       "      <td>4</td>\n",
       "      <td>1</td>\n",
       "      <td>1</td>\n",
       "      <td>1</td>\n",
       "      <td>31.400740</td>\n",
       "    </tr>\n",
       "    <tr>\n",
       "      <th>2</th>\n",
       "      <td>0000f46a3911fa3c0805444483337064</td>\n",
       "      <td>543</td>\n",
       "      <td>1</td>\n",
       "      <td>86.22</td>\n",
       "      <td>1</td>\n",
       "      <td>1</td>\n",
       "      <td>2</td>\n",
       "      <td>0</td>\n",
       "      <td>36.173221</td>\n",
       "    </tr>\n",
       "    <tr>\n",
       "      <th>3</th>\n",
       "      <td>0000f6ccb0745a6a4b88665a16c9f078</td>\n",
       "      <td>327</td>\n",
       "      <td>1</td>\n",
       "      <td>43.62</td>\n",
       "      <td>2</td>\n",
       "      <td>1</td>\n",
       "      <td>1</td>\n",
       "      <td>2</td>\n",
       "      <td>23.906376</td>\n",
       "    </tr>\n",
       "    <tr>\n",
       "      <th>4</th>\n",
       "      <td>0004aac84e0df4da2b147fca70cf8255</td>\n",
       "      <td>294</td>\n",
       "      <td>1</td>\n",
       "      <td>196.89</td>\n",
       "      <td>2</td>\n",
       "      <td>1</td>\n",
       "      <td>4</td>\n",
       "      <td>2</td>\n",
       "      <td>71.948457</td>\n",
       "    </tr>\n",
       "    <tr>\n",
       "      <th>...</th>\n",
       "      <td>...</td>\n",
       "      <td>...</td>\n",
       "      <td>...</td>\n",
       "      <td>...</td>\n",
       "      <td>...</td>\n",
       "      <td>...</td>\n",
       "      <td>...</td>\n",
       "      <td>...</td>\n",
       "      <td>...</td>\n",
       "    </tr>\n",
       "    <tr>\n",
       "      <th>94984</th>\n",
       "      <td>fffcf5a5ff07b0908bd4e2dbc735a684</td>\n",
       "      <td>453</td>\n",
       "      <td>1</td>\n",
       "      <td>2067.42</td>\n",
       "      <td>1</td>\n",
       "      <td>1</td>\n",
       "      <td>5</td>\n",
       "      <td>0</td>\n",
       "      <td>84.215302</td>\n",
       "    </tr>\n",
       "    <tr>\n",
       "      <th>94985</th>\n",
       "      <td>fffea47cd6d3cc0a88bd621562a9d061</td>\n",
       "      <td>268</td>\n",
       "      <td>1</td>\n",
       "      <td>84.58</td>\n",
       "      <td>3</td>\n",
       "      <td>1</td>\n",
       "      <td>2</td>\n",
       "      <td>2</td>\n",
       "      <td>43.667585</td>\n",
       "    </tr>\n",
       "    <tr>\n",
       "      <th>94986</th>\n",
       "      <td>ffff371b4d645b6ecea244b27531430a</td>\n",
       "      <td>574</td>\n",
       "      <td>1</td>\n",
       "      <td>112.46</td>\n",
       "      <td>1</td>\n",
       "      <td>1</td>\n",
       "      <td>3</td>\n",
       "      <td>0</td>\n",
       "      <td>52.187248</td>\n",
       "    </tr>\n",
       "    <tr>\n",
       "      <th>94987</th>\n",
       "      <td>ffff5962728ec6157033ef9805bacc48</td>\n",
       "      <td>125</td>\n",
       "      <td>1</td>\n",
       "      <td>133.69</td>\n",
       "      <td>4</td>\n",
       "      <td>1</td>\n",
       "      <td>4</td>\n",
       "      <td>1</td>\n",
       "      <td>79.442821</td>\n",
       "    </tr>\n",
       "    <tr>\n",
       "      <th>94988</th>\n",
       "      <td>ffffd2657e2aad2907e67c3e9daecbeb</td>\n",
       "      <td>490</td>\n",
       "      <td>1</td>\n",
       "      <td>71.56</td>\n",
       "      <td>1</td>\n",
       "      <td>1</td>\n",
       "      <td>2</td>\n",
       "      <td>0</td>\n",
       "      <td>36.173221</td>\n",
       "    </tr>\n",
       "  </tbody>\n",
       "</table>\n",
       "<p>94989 rows × 9 columns</p>\n",
       "</div>"
      ],
      "text/plain": [
       "                     customer_unique_id  Recency  Frequency  Monetary R_score  \\\n",
       "0      0000366f3b9a7992bf8c76cfdf3221e2      117          1    141.90       4   \n",
       "1      0000b849f77a49e4a4ce2b2a4ca5be3f      120          1     27.19       4   \n",
       "2      0000f46a3911fa3c0805444483337064      543          1     86.22       1   \n",
       "3      0000f6ccb0745a6a4b88665a16c9f078      327          1     43.62       2   \n",
       "4      0004aac84e0df4da2b147fca70cf8255      294          1    196.89       2   \n",
       "...                                 ...      ...        ...       ...     ...   \n",
       "94984  fffcf5a5ff07b0908bd4e2dbc735a684      453          1   2067.42       1   \n",
       "94985  fffea47cd6d3cc0a88bd621562a9d061      268          1     84.58       3   \n",
       "94986  ffff371b4d645b6ecea244b27531430a      574          1    112.46       1   \n",
       "94987  ffff5962728ec6157033ef9805bacc48      125          1    133.69       4   \n",
       "94988  ffffd2657e2aad2907e67c3e9daecbeb      490          1     71.56       1   \n",
       "\n",
       "      F_score M_score  cluster  RFM_score  \n",
       "0           1       4        1  79.442821  \n",
       "1           1       1        1  31.400740  \n",
       "2           1       2        0  36.173221  \n",
       "3           1       1        2  23.906376  \n",
       "4           1       4        2  71.948457  \n",
       "...       ...     ...      ...        ...  \n",
       "94984       1       5        0  84.215302  \n",
       "94985       1       2        2  43.667585  \n",
       "94986       1       3        0  52.187248  \n",
       "94987       1       4        1  79.442821  \n",
       "94988       1       2        0  36.173221  \n",
       "\n",
       "[94989 rows x 9 columns]"
      ]
     },
     "execution_count": 65,
     "metadata": {},
     "output_type": "execute_result"
    }
   ],
   "source": [
    "result_df['RFM_score'] = (result_df['R_score'].astype('int64') * scores[0] / 5 * 100 + result_df['F_score'].astype('int64') * scores[1] / 3 * 100 + result_df['M_score'].astype('int64') * scores[2] / 5 * 100)\n",
    "result_df"
   ]
  },
  {
   "cell_type": "code",
   "execution_count": 66,
   "metadata": {},
   "outputs": [
    {
     "data": {
      "text/plain": [
       "count    94989.000000\n",
       "mean        59.704516\n",
       "std         23.372382\n",
       "min         20.159194\n",
       "25%         39.920403\n",
       "50%         59.681612\n",
       "75%         79.442821\n",
       "max        100.000000\n",
       "Name: RFM_score, dtype: float64"
      ]
     },
     "execution_count": 66,
     "metadata": {},
     "output_type": "execute_result"
    }
   ],
   "source": [
    "result_df.RFM_score.describe() "
   ]
  },
  {
   "cell_type": "code",
   "execution_count": 68,
   "metadata": {},
   "outputs": [
    {
     "data": {
      "text/html": [
       "<div>\n",
       "<style scoped>\n",
       "    .dataframe tbody tr th:only-of-type {\n",
       "        vertical-align: middle;\n",
       "    }\n",
       "\n",
       "    .dataframe tbody tr th {\n",
       "        vertical-align: top;\n",
       "    }\n",
       "\n",
       "    .dataframe thead th {\n",
       "        text-align: right;\n",
       "    }\n",
       "</style>\n",
       "<table border=\"1\" class=\"dataframe\">\n",
       "  <thead>\n",
       "    <tr style=\"text-align: right;\">\n",
       "      <th></th>\n",
       "      <th>counts</th>\n",
       "      <th>freqs</th>\n",
       "    </tr>\n",
       "    <tr>\n",
       "      <th>categories</th>\n",
       "      <th></th>\n",
       "      <th></th>\n",
       "    </tr>\n",
       "  </thead>\n",
       "  <tbody>\n",
       "    <tr>\n",
       "      <th>(20.157999999999998, 39.92]</th>\n",
       "      <td>27048</td>\n",
       "      <td>0.284749</td>\n",
       "    </tr>\n",
       "    <tr>\n",
       "      <th>(39.92, 59.682]</th>\n",
       "      <td>22165</td>\n",
       "      <td>0.233343</td>\n",
       "    </tr>\n",
       "    <tr>\n",
       "      <th>(59.682, 79.443]</th>\n",
       "      <td>22683</td>\n",
       "      <td>0.238796</td>\n",
       "    </tr>\n",
       "    <tr>\n",
       "      <th>(79.443, 100.0]</th>\n",
       "      <td>23093</td>\n",
       "      <td>0.243112</td>\n",
       "    </tr>\n",
       "  </tbody>\n",
       "</table>\n",
       "</div>"
      ],
      "text/plain": [
       "                             counts     freqs\n",
       "categories                                   \n",
       "(20.157999999999998, 39.92]   27048  0.284749\n",
       "(39.92, 59.682]               22165  0.233343\n",
       "(59.682, 79.443]              22683  0.238796\n",
       "(79.443, 100.0]               23093  0.243112"
      ]
     },
     "execution_count": 68,
     "metadata": {},
     "output_type": "execute_result"
    }
   ],
   "source": [
    "RFM_score = pd.qcut(result_df['RFM_score'].values, 4)\n",
    "RFM_score.describe()"
   ]
  },
  {
   "cell_type": "code",
   "execution_count": 72,
   "metadata": {},
   "outputs": [
    {
     "data": {
      "text/html": [
       "<div>\n",
       "<style scoped>\n",
       "    .dataframe tbody tr th:only-of-type {\n",
       "        vertical-align: middle;\n",
       "    }\n",
       "\n",
       "    .dataframe tbody tr th {\n",
       "        vertical-align: top;\n",
       "    }\n",
       "\n",
       "    .dataframe thead th {\n",
       "        text-align: right;\n",
       "    }\n",
       "</style>\n",
       "<table border=\"1\" class=\"dataframe\">\n",
       "  <thead>\n",
       "    <tr style=\"text-align: right;\">\n",
       "      <th></th>\n",
       "      <th>customer_unique_id</th>\n",
       "      <th>Recency</th>\n",
       "      <th>Frequency</th>\n",
       "      <th>Monetary</th>\n",
       "      <th>R_score</th>\n",
       "      <th>F_score</th>\n",
       "      <th>M_score</th>\n",
       "      <th>cluster</th>\n",
       "      <th>RFM_score</th>\n",
       "      <th>class</th>\n",
       "    </tr>\n",
       "  </thead>\n",
       "  <tbody>\n",
       "    <tr>\n",
       "      <th>0</th>\n",
       "      <td>0000366f3b9a7992bf8c76cfdf3221e2</td>\n",
       "      <td>117</td>\n",
       "      <td>1</td>\n",
       "      <td>141.90</td>\n",
       "      <td>4</td>\n",
       "      <td>1</td>\n",
       "      <td>4</td>\n",
       "      <td>1</td>\n",
       "      <td>79.442821</td>\n",
       "      <td>Gold</td>\n",
       "    </tr>\n",
       "    <tr>\n",
       "      <th>1</th>\n",
       "      <td>0000b849f77a49e4a4ce2b2a4ca5be3f</td>\n",
       "      <td>120</td>\n",
       "      <td>1</td>\n",
       "      <td>27.19</td>\n",
       "      <td>4</td>\n",
       "      <td>1</td>\n",
       "      <td>1</td>\n",
       "      <td>1</td>\n",
       "      <td>31.400740</td>\n",
       "      <td>Bronze</td>\n",
       "    </tr>\n",
       "    <tr>\n",
       "      <th>2</th>\n",
       "      <td>0000f46a3911fa3c0805444483337064</td>\n",
       "      <td>543</td>\n",
       "      <td>1</td>\n",
       "      <td>86.22</td>\n",
       "      <td>1</td>\n",
       "      <td>1</td>\n",
       "      <td>2</td>\n",
       "      <td>0</td>\n",
       "      <td>36.173221</td>\n",
       "      <td>Bronze</td>\n",
       "    </tr>\n",
       "    <tr>\n",
       "      <th>3</th>\n",
       "      <td>0000f6ccb0745a6a4b88665a16c9f078</td>\n",
       "      <td>327</td>\n",
       "      <td>1</td>\n",
       "      <td>43.62</td>\n",
       "      <td>2</td>\n",
       "      <td>1</td>\n",
       "      <td>1</td>\n",
       "      <td>2</td>\n",
       "      <td>23.906376</td>\n",
       "      <td>Bronze</td>\n",
       "    </tr>\n",
       "    <tr>\n",
       "      <th>4</th>\n",
       "      <td>0004aac84e0df4da2b147fca70cf8255</td>\n",
       "      <td>294</td>\n",
       "      <td>1</td>\n",
       "      <td>196.89</td>\n",
       "      <td>2</td>\n",
       "      <td>1</td>\n",
       "      <td>4</td>\n",
       "      <td>2</td>\n",
       "      <td>71.948457</td>\n",
       "      <td>Gold</td>\n",
       "    </tr>\n",
       "    <tr>\n",
       "      <th>5</th>\n",
       "      <td>0004bd2a26a76fe21f786e4fbd80607f</td>\n",
       "      <td>152</td>\n",
       "      <td>1</td>\n",
       "      <td>166.98</td>\n",
       "      <td>4</td>\n",
       "      <td>1</td>\n",
       "      <td>4</td>\n",
       "      <td>3</td>\n",
       "      <td>79.442821</td>\n",
       "      <td>Gold</td>\n",
       "    </tr>\n",
       "    <tr>\n",
       "      <th>6</th>\n",
       "      <td>00050ab1314c0e55a6ca13cf7181fecf</td>\n",
       "      <td>137</td>\n",
       "      <td>1</td>\n",
       "      <td>35.38</td>\n",
       "      <td>4</td>\n",
       "      <td>1</td>\n",
       "      <td>1</td>\n",
       "      <td>3</td>\n",
       "      <td>31.400740</td>\n",
       "      <td>Bronze</td>\n",
       "    </tr>\n",
       "    <tr>\n",
       "      <th>7</th>\n",
       "      <td>00053a61a98854899e70ed204dd4bafe</td>\n",
       "      <td>188</td>\n",
       "      <td>1</td>\n",
       "      <td>419.18</td>\n",
       "      <td>3</td>\n",
       "      <td>1</td>\n",
       "      <td>5</td>\n",
       "      <td>3</td>\n",
       "      <td>91.709666</td>\n",
       "      <td>Diamond</td>\n",
       "    </tr>\n",
       "    <tr>\n",
       "      <th>8</th>\n",
       "      <td>0005e1862207bf6ccc02e4228effd9a0</td>\n",
       "      <td>549</td>\n",
       "      <td>1</td>\n",
       "      <td>150.12</td>\n",
       "      <td>1</td>\n",
       "      <td>1</td>\n",
       "      <td>4</td>\n",
       "      <td>0</td>\n",
       "      <td>68.201275</td>\n",
       "      <td>Gold</td>\n",
       "    </tr>\n",
       "    <tr>\n",
       "      <th>9</th>\n",
       "      <td>0005ef4cd20d2893f0d9fbd94d3c0d97</td>\n",
       "      <td>176</td>\n",
       "      <td>1</td>\n",
       "      <td>129.76</td>\n",
       "      <td>4</td>\n",
       "      <td>1</td>\n",
       "      <td>3</td>\n",
       "      <td>3</td>\n",
       "      <td>63.428794</td>\n",
       "      <td>Gold</td>\n",
       "    </tr>\n",
       "  </tbody>\n",
       "</table>\n",
       "</div>"
      ],
      "text/plain": [
       "                 customer_unique_id  Recency  Frequency  Monetary R_score  \\\n",
       "0  0000366f3b9a7992bf8c76cfdf3221e2      117          1    141.90       4   \n",
       "1  0000b849f77a49e4a4ce2b2a4ca5be3f      120          1     27.19       4   \n",
       "2  0000f46a3911fa3c0805444483337064      543          1     86.22       1   \n",
       "3  0000f6ccb0745a6a4b88665a16c9f078      327          1     43.62       2   \n",
       "4  0004aac84e0df4da2b147fca70cf8255      294          1    196.89       2   \n",
       "5  0004bd2a26a76fe21f786e4fbd80607f      152          1    166.98       4   \n",
       "6  00050ab1314c0e55a6ca13cf7181fecf      137          1     35.38       4   \n",
       "7  00053a61a98854899e70ed204dd4bafe      188          1    419.18       3   \n",
       "8  0005e1862207bf6ccc02e4228effd9a0      549          1    150.12       1   \n",
       "9  0005ef4cd20d2893f0d9fbd94d3c0d97      176          1    129.76       4   \n",
       "\n",
       "  F_score M_score  cluster  RFM_score    class  \n",
       "0       1       4        1  79.442821     Gold  \n",
       "1       1       1        1  31.400740   Bronze  \n",
       "2       1       2        0  36.173221   Bronze  \n",
       "3       1       1        2  23.906376   Bronze  \n",
       "4       1       4        2  71.948457     Gold  \n",
       "5       1       4        3  79.442821     Gold  \n",
       "6       1       1        3  31.400740   Bronze  \n",
       "7       1       5        3  91.709666  Diamond  \n",
       "8       1       4        0  68.201275     Gold  \n",
       "9       1       3        3  63.428794     Gold  "
      ]
     },
     "execution_count": 72,
     "metadata": {},
     "output_type": "execute_result"
    }
   ],
   "source": [
    "result_df['class'] = pd.qcut(result_df['RFM_score'], 4, labels = ['Bronze', 'Silver', 'Gold', 'Diamond'])\n",
    "result_df.head(10)"
   ]
  },
  {
   "cell_type": "code",
   "execution_count": 73,
   "metadata": {},
   "outputs": [
    {
     "data": {
      "text/plain": [
       "class\n",
       "Bronze     27048\n",
       "Diamond    23093\n",
       "Gold       22683\n",
       "Silver     22165\n",
       "Name: count, dtype: int64"
      ]
     },
     "execution_count": 73,
     "metadata": {},
     "output_type": "execute_result"
    }
   ],
   "source": [
    "class_count = result_df['class'].value_counts()\n",
    "class_count"
   ]
  },
  {
   "cell_type": "code",
   "execution_count": 48,
   "metadata": {},
   "outputs": [],
   "source": [
    "# !pip install squarify\n",
    "import squarify"
   ]
  },
  {
   "cell_type": "code",
   "execution_count": 74,
   "metadata": {},
   "outputs": [
    {
     "data": {
      "image/png": "[encoded data removed]",
      "text/plain": [
       "<Figure size 1000x600 with 1 Axes>"
      ]
     },
     "metadata": {},
     "output_type": "display_data"
    }
   ],
   "source": [
    "# Visualize Segments\n",
    "plt.figure(figsize=(10, 6))\n",
    "squarify.plot(sizes=class_count, label=result_df['class'].unique(), color=[\"b\",\"g\",\"r\",\"m\"], alpha=0.7)\n",
    "plt.suptitle(\"Segments of Customers\", fontsize=25)\n",
    "plt.show()"
   ]
  },
  {
   "cell_type": "code",
   "execution_count": null,
   "metadata": {},
   "outputs": [
    {
     "data": {
      "image/png": "[encoded data removed]",
      "text/plain": [
       "<Figure size 1400x800 with 2 Axes>"
      ]
     },
     "metadata": {},
     "output_type": "display_data"
    }
   ],
   "source": [
    "# # MonetaryValue를 원의 크기로 매핑\n",
    "# def map_monetary_to_size(monetary):\n",
    "#     min_size = 50\n",
    "#     max_size = 500\n",
    "#     min_value = result_df['Monetary'].min()\n",
    "#     max_value = result_df['Monetary'].max()\n",
    "#     size = (monetary - min_value) / (max_value - min_value) * (max_size - min_size) + min_size\n",
    "#     return size\n",
    "\n",
    "# # MonetaryValue를 원의 크기로 매핑하여 적용\n",
    "# sizes = [map_monetary_to_size(value) for value in result_df['Monetary']]\n",
    "# cmap =['#FFB6C1', '#90EE90', '#ADD8E6','#FFFF99']\n",
    "# # 클러스터링 결과 시각화\n",
    "# plt.figure(figsize=(14, 8))\n",
    "# plt.scatter(result_df['Recency'], result_df['Frequency'], c=km.labels_, marker='o', alpha=0.7, s=sizes)\n",
    "# plt.xlabel('Recency')\n",
    "# plt.ylabel('Frequency')\n",
    "# plt.title('K-means Clustering of RFM Data')\n",
    "# plt.colorbar(label='Cluster')\n",
    "# plt.show()"
   ]
  },
  {
   "cell_type": "code",
   "execution_count": null,
   "metadata": {},
   "outputs": [
    {
     "data": {
      "image/png": "[encoded data removed]",
      "text/plain": [
       "<Figure size 1000x600 with 1 Axes>"
      ]
     },
     "metadata": {},
     "output_type": "display_data"
    }
   ],
   "source": [
    "# Visualize Segments\n",
    "plt.figure(figsize=(10, 6))\n",
    "squarify.plot(sizes=class_count, label=result_df['class'].unique(), color=[\"b\",\"g\",\"r\",\"m\",\"c\"], alpha=0.7)\n",
    "plt.suptitle(\"Segments of Customers\", fontsize=25)\n",
    "plt.show()"
   ]
  },
  {
   "cell_type": "code",
   "execution_count": null,
   "metadata": {},
   "outputs": [
    {
     "data": {
      "image/png": "[encoded data removed]",
      "text/plain": [
       "<Figure size 800x600 with 1 Axes>"
      ]
     },
     "metadata": {},
     "output_type": "display_data"
    }
   ],
   "source": [
    "from sklearn.cluster import DBSCAN\n",
    "from sklearn.datasets import make_blobs\n",
    "import matplotlib.pyplot as plt\n",
    "\n",
    "# 가상의 데이터 생성\n",
    "X, _ = make_blobs(n_samples=300, centers=4, cluster_std=0.6, random_state=0)\n",
    "\n",
    "# DBSCAN 모델 생성 및 학습\n",
    "dbscan = DBSCAN(eps=0.5, min_samples=5)\n",
    "dbscan.fit(X)\n",
    "\n",
    "# 클러스터링 결과 시각화\n",
    "plt.figure(figsize=(8, 6))\n",
    "plt.scatter(X[:, 0], X[:, 1], c=dbscan.labels_, cmap='viridis', s=50, alpha=0.7)\n",
    "plt.title('DBSCAN Clustering')\n",
    "plt.xlabel('Feature 1')\n",
    "plt.ylabel('Feature 2')\n",
    "plt.show()\n"
   ]
  },
  {
   "cell_type": "code",
   "execution_count": null,
   "metadata": {},
   "outputs": [
    {
     "ename": "MemoryError",
     "evalue": "bad allocation",
     "output_type": "error",
     "traceback": [
      "\u001b[1;31m---------------------------------------------------------------------------\u001b[0m",
      "\u001b[1;31mMemoryError\u001b[0m                               Traceback (most recent call last)",
      "Cell \u001b[1;32mIn[129], line 4\u001b[0m\n\u001b[0;32m      1\u001b[0m \u001b[38;5;28;01mfrom\u001b[39;00m \u001b[38;5;21;01msklearn\u001b[39;00m\u001b[38;5;21;01m.\u001b[39;00m\u001b[38;5;21;01mcluster\u001b[39;00m \u001b[38;5;28;01mimport\u001b[39;00m DBSCAN\n\u001b[0;32m      3\u001b[0m dbscan \u001b[38;5;241m=\u001b[39m DBSCAN(eps\u001b[38;5;241m=\u001b[39m\u001b[38;5;241m0.5\u001b[39m, min_samples\u001b[38;5;241m=\u001b[39m\u001b[38;5;241m5\u001b[39m)\n\u001b[1;32m----> 4\u001b[0m dbscan\u001b[38;5;241m.\u001b[39mfit(rfm_data_scaled)\n\u001b[0;32m      5\u001b[0m \u001b[38;5;66;03m# 클러스터링 결과 시각화\u001b[39;00m\n\u001b[0;32m      7\u001b[0m \u001b[38;5;28mprint\u001b[39m(\u001b[38;5;124m\"\u001b[39m\u001b[38;5;124m클러스터 레이블:\u001b[39m\u001b[38;5;124m\"\u001b[39m, dbscan\u001b[38;5;241m.\u001b[39mlabels_)\n",
      "File \u001b[1;32mc:\\Users\\jeonghwanlee\\miniconda3\\envs\\ds_study\\Lib\\site-packages\\sklearn\\cluster\\_dbscan.py:408\u001b[0m, in \u001b[0;36mDBSCAN.fit\u001b[1;34m(self, X, y, sample_weight)\u001b[0m\n\u001b[0;32m    406\u001b[0m \u001b[38;5;66;03m# A list of all core samples found.\u001b[39;00m\n\u001b[0;32m    407\u001b[0m core_samples \u001b[38;5;241m=\u001b[39m np\u001b[38;5;241m.\u001b[39masarray(n_neighbors \u001b[38;5;241m>\u001b[39m\u001b[38;5;241m=\u001b[39m \u001b[38;5;28mself\u001b[39m\u001b[38;5;241m.\u001b[39mmin_samples, dtype\u001b[38;5;241m=\u001b[39mnp\u001b[38;5;241m.\u001b[39muint8)\n\u001b[1;32m--> 408\u001b[0m dbscan_inner(core_samples, neighborhoods, labels)\n\u001b[0;32m    410\u001b[0m \u001b[38;5;28mself\u001b[39m\u001b[38;5;241m.\u001b[39mcore_sample_indices_ \u001b[38;5;241m=\u001b[39m np\u001b[38;5;241m.\u001b[39mwhere(core_samples)[\u001b[38;5;241m0\u001b[39m]\n\u001b[0;32m    411\u001b[0m \u001b[38;5;28mself\u001b[39m\u001b[38;5;241m.\u001b[39mlabels_ \u001b[38;5;241m=\u001b[39m labels\n",
      "File \u001b[1;32msklearn\\cluster\\_dbscan_inner.pyx:33\u001b[0m, in \u001b[0;36msklearn.cluster._dbscan_inner.dbscan_inner\u001b[1;34m()\u001b[0m\n",
      "\u001b[1;31mMemoryError\u001b[0m: bad allocation"
     ]
    }
   ],
   "source": [
    "from sklearn.cluster import DBSCAN\n",
    "\n",
    "dbscan = DBSCAN(eps=0.5, min_samples=5)\n",
    "dbscan.fit(rfm_data_scaled)\n",
    "# 클러스터링 결과 시각화\n",
    "\n",
    "print(\"클러스터 레이블:\", dbscan.labels_)\n",
    "plt.figure(figsize=(8, 6))\n",
    "plt.scatter(rfm_data_scaled[:, 0], rfm_data_scaled[:, 1], rfm_data_scaled[:, 2], c=dbscan.labels_, cmap='viridis', s=50, alpha=0.7)\n",
    "plt.title('DBSCAN Clustering')\n",
    "plt.xlabel('Feature 1')\n",
    "plt.ylabel('Feature 2')\n",
    "plt.show()"
   ]
  },
  {
   "cell_type": "code",
   "execution_count": null,
   "metadata": {},
   "outputs": [],
   "source": []
  },
  {
   "cell_type": "code",
   "execution_count": null,
   "metadata": {},
   "outputs": [],
   "source": []
  },
  {
   "cell_type": "code",
   "execution_count": null,
   "metadata": {},
   "outputs": [],
   "source": []
  }
 ],
 "metadata": {
  "kernelspec": {
   "display_name": "ds_study",
   "language": "python",
   "name": "python3"
  },
  "language_info": {
   "codemirror_mode": {
    "name": "ipython",
    "version": 3
   },
   "file_extension": ".py",
   "mimetype": "text/x-python",
   "name": "python",
   "nbconvert_exporter": "python",
   "pygments_lexer": "ipython3",
   "version": "3.11.5"
  }
 },
 "nbformat": 4,
 "nbformat_minor": 2
}
