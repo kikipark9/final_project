version https://git-lfs.github.com/spec/v1
oid sha256:c9921b5bb64e8eb26b1d03f79f62bd6224d2b92c9248faa74ebe9c9be024455a
size 115975714
