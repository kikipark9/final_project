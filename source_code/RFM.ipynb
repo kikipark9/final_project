{
 "cells": [
  {
   "cell_type": "code",
   "execution_count": 1,
   "id": "9220389f",
   "metadata": {},
   "outputs": [],
   "source": [
    "# 라이브러리 불러오기\n",
    "import pandas as pd\n",
    "import numpy as np\n",
    "from datetime import datetime, timedelta, time\n",
    "import matplotlib.pyplot as plt\n",
    "from matplotlib import rc, font_manager\n",
    "import seaborn as sns\n",
    "import plotly.express as px\n",
    "import plotly.graph_objs as go\n",
    "from plotly.subplots import make_subplots\n",
    "import warnings\n",
    "warnings.filterwarnings(\"ignore\")\n",
    "\n"
   ]
  },
  {
   "cell_type": "code",
   "execution_count": 2,
   "id": "4f5b0a0c",
   "metadata": {},
   "outputs": [],
   "source": [
    "import matplotlib.pyplot as plt\n",
    "from matplotlib import rc\n",
    "%matplotlib inline\n",
    "rc('font', family='Arial Unicode MS')\n"
   ]
  },
  {
   "cell_type": "code",
   "execution_count": 3,
   "id": "0f4ea9e4",
   "metadata": {},
   "outputs": [],
   "source": [
    "merge = pd.read_csv('./data/df_merged.csv')"
   ]
  },
  {
   "cell_type": "code",
   "execution_count": 4,
   "id": "94365419",
   "metadata": {},
   "outputs": [
    {
     "data": {
      "text/html": [
       "<div>\n",
       "<style scoped>\n",
       "    .dataframe tbody tr th:only-of-type {\n",
       "        vertical-align: middle;\n",
       "    }\n",
       "\n",
       "    .dataframe tbody tr th {\n",
       "        vertical-align: top;\n",
       "    }\n",
       "\n",
       "    .dataframe thead th {\n",
       "        text-align: right;\n",
       "    }\n",
       "</style>\n",
       "<table border=\"1\" class=\"dataframe\">\n",
       "  <thead>\n",
       "    <tr style=\"text-align: right;\">\n",
       "      <th></th>\n",
       "      <th>order_id</th>\n",
       "      <th>customer_id</th>\n",
       "      <th>order_status</th>\n",
       "      <th>order_purchase_timestamp</th>\n",
       "      <th>order_approved_at</th>\n",
       "      <th>order_delivered_carrier_date</th>\n",
       "      <th>order_delivered_customer_date</th>\n",
       "      <th>order_estimated_delivery_date</th>\n",
       "      <th>estimate_delivery_time_diff</th>\n",
       "      <th>delivery_time</th>\n",
       "      <th>...</th>\n",
       "      <th>customer_unique_id</th>\n",
       "      <th>customer_zip_code_prefix</th>\n",
       "      <th>customer_city</th>\n",
       "      <th>customer_state</th>\n",
       "      <th>customer_lat</th>\n",
       "      <th>customer_lng</th>\n",
       "      <th>payment_sequential</th>\n",
       "      <th>payment_type</th>\n",
       "      <th>payment_installments</th>\n",
       "      <th>payment_value</th>\n",
       "    </tr>\n",
       "  </thead>\n",
       "  <tbody>\n",
       "    <tr>\n",
       "      <th>0</th>\n",
       "      <td>e481f51cbdc54678b7cc49136f2d6af7</td>\n",
       "      <td>9ef432eb6251297304e76186b10a928d</td>\n",
       "      <td>delivered</td>\n",
       "      <td>2017-10-02 10:56:33</td>\n",
       "      <td>2017-10-02 11:07:15</td>\n",
       "      <td>2017-10-04 19:55:00</td>\n",
       "      <td>2017-10-10 21:25:13</td>\n",
       "      <td>2017-10-18</td>\n",
       "      <td>7 days 02:34:47</td>\n",
       "      <td>2 days 08:47:45</td>\n",
       "      <td>...</td>\n",
       "      <td>7c396fd4830fd04220f754e42b4e5bff</td>\n",
       "      <td>3149</td>\n",
       "      <td>sao paulo</td>\n",
       "      <td>SP</td>\n",
       "      <td>-23.574809</td>\n",
       "      <td>-46.587471</td>\n",
       "      <td>3</td>\n",
       "      <td>credit_card, voucher</td>\n",
       "      <td>1</td>\n",
       "      <td>38.71</td>\n",
       "    </tr>\n",
       "    <tr>\n",
       "      <th>1</th>\n",
       "      <td>70b35acffdf851e782ebf6fbc35eb620</td>\n",
       "      <td>8e8ee9b08afb49b080d193f98b0505af</td>\n",
       "      <td>delivered</td>\n",
       "      <td>2018-03-22 17:23:21</td>\n",
       "      <td>2018-03-22 18:05:36</td>\n",
       "      <td>2018-03-23 18:03:03</td>\n",
       "      <td>2018-03-25 17:22:41</td>\n",
       "      <td>2018-04-04</td>\n",
       "      <td>9 days 06:37:19</td>\n",
       "      <td>0 days 23:57:27</td>\n",
       "      <td>...</td>\n",
       "      <td>8a4002923e801e3120a11070fd31c9e2</td>\n",
       "      <td>3149</td>\n",
       "      <td>sao paulo</td>\n",
       "      <td>SP</td>\n",
       "      <td>-23.574809</td>\n",
       "      <td>-46.587471</td>\n",
       "      <td>1</td>\n",
       "      <td>credit_card</td>\n",
       "      <td>2</td>\n",
       "      <td>223.38</td>\n",
       "    </tr>\n",
       "    <tr>\n",
       "      <th>2</th>\n",
       "      <td>69923a4e07ce446644394df37a710286</td>\n",
       "      <td>31f31efcb333fcbad2b1371c8cf0fa84</td>\n",
       "      <td>delivered</td>\n",
       "      <td>2017-09-04 11:26:38</td>\n",
       "      <td>2017-09-04 11:43:25</td>\n",
       "      <td>2017-09-04 21:22:15</td>\n",
       "      <td>2017-09-05 19:20:20</td>\n",
       "      <td>2017-09-15</td>\n",
       "      <td>9 days 04:39:40</td>\n",
       "      <td>0 days 09:38:50</td>\n",
       "      <td>...</td>\n",
       "      <td>7c396fd4830fd04220f754e42b4e5bff</td>\n",
       "      <td>3149</td>\n",
       "      <td>sao paulo</td>\n",
       "      <td>SP</td>\n",
       "      <td>-23.574809</td>\n",
       "      <td>-46.587471</td>\n",
       "      <td>1</td>\n",
       "      <td>credit_card</td>\n",
       "      <td>1</td>\n",
       "      <td>44.11</td>\n",
       "    </tr>\n",
       "    <tr>\n",
       "      <th>3</th>\n",
       "      <td>128e10d95713541c87cd1a2e48201934</td>\n",
       "      <td>a20e8105f23924cd00833fd87daa0831</td>\n",
       "      <td>delivered</td>\n",
       "      <td>2017-08-15 18:29:31</td>\n",
       "      <td>2017-08-15 20:05:16</td>\n",
       "      <td>2017-08-17 15:28:33</td>\n",
       "      <td>2017-08-18 14:44:43</td>\n",
       "      <td>2017-08-28</td>\n",
       "      <td>9 days 09:15:17</td>\n",
       "      <td>1 days 19:23:17</td>\n",
       "      <td>...</td>\n",
       "      <td>3a51803cc0d012c3b5dc8b7528cb05f7</td>\n",
       "      <td>3366</td>\n",
       "      <td>sao paulo</td>\n",
       "      <td>SP</td>\n",
       "      <td>-23.565578</td>\n",
       "      <td>-46.534603</td>\n",
       "      <td>1</td>\n",
       "      <td>credit_card</td>\n",
       "      <td>3</td>\n",
       "      <td>37.77</td>\n",
       "    </tr>\n",
       "    <tr>\n",
       "      <th>4</th>\n",
       "      <td>ded23d37cdcc25b37b4473b7be770cb2</td>\n",
       "      <td>f96144f946e8e590fabf60a3a1e3342e</td>\n",
       "      <td>delivered</td>\n",
       "      <td>2018-07-26 18:25:40</td>\n",
       "      <td>2018-07-27 02:10:26</td>\n",
       "      <td>2018-08-02 14:13:00</td>\n",
       "      <td>2018-08-07 12:12:23</td>\n",
       "      <td>2018-08-20</td>\n",
       "      <td>12 days 11:47:37</td>\n",
       "      <td>6 days 12:02:34</td>\n",
       "      <td>...</td>\n",
       "      <td>806ab9e6d7c897da7e3b6104dadadc34</td>\n",
       "      <td>3366</td>\n",
       "      <td>sao paulo</td>\n",
       "      <td>SP</td>\n",
       "      <td>-23.565578</td>\n",
       "      <td>-46.534603</td>\n",
       "      <td>1</td>\n",
       "      <td>boleto</td>\n",
       "      <td>1</td>\n",
       "      <td>102.08</td>\n",
       "    </tr>\n",
       "    <tr>\n",
       "      <th>...</th>\n",
       "      <td>...</td>\n",
       "      <td>...</td>\n",
       "      <td>...</td>\n",
       "      <td>...</td>\n",
       "      <td>...</td>\n",
       "      <td>...</td>\n",
       "      <td>...</td>\n",
       "      <td>...</td>\n",
       "      <td>...</td>\n",
       "      <td>...</td>\n",
       "      <td>...</td>\n",
       "      <td>...</td>\n",
       "      <td>...</td>\n",
       "      <td>...</td>\n",
       "      <td>...</td>\n",
       "      <td>...</td>\n",
       "      <td>...</td>\n",
       "      <td>...</td>\n",
       "      <td>...</td>\n",
       "      <td>...</td>\n",
       "      <td>...</td>\n",
       "    </tr>\n",
       "    <tr>\n",
       "      <th>97075</th>\n",
       "      <td>fc703730f6206ec478cae91c89f7dcb3</td>\n",
       "      <td>d99700792f0811f23d94f2edb64634f8</td>\n",
       "      <td>delivered</td>\n",
       "      <td>2018-07-28 18:01:11</td>\n",
       "      <td>2018-07-28 18:15:14</td>\n",
       "      <td>2018-07-30 14:06:00</td>\n",
       "      <td>2018-08-06 16:41:43</td>\n",
       "      <td>2018-08-15</td>\n",
       "      <td>8 days 07:18:17</td>\n",
       "      <td>1 days 19:50:46</td>\n",
       "      <td>...</td>\n",
       "      <td>8b8c8f067a3faaf116211277147a88de</td>\n",
       "      <td>35494</td>\n",
       "      <td>desterro de entre rios</td>\n",
       "      <td>MG</td>\n",
       "      <td>-20.657355</td>\n",
       "      <td>-44.340017</td>\n",
       "      <td>1</td>\n",
       "      <td>credit_card</td>\n",
       "      <td>1</td>\n",
       "      <td>58.28</td>\n",
       "    </tr>\n",
       "    <tr>\n",
       "      <th>97076</th>\n",
       "      <td>f1a1942c32bd91ad8368164ae571b8f7</td>\n",
       "      <td>9632f1ff07591588a9596b99f8515c03</td>\n",
       "      <td>delivered</td>\n",
       "      <td>2018-04-16 20:51:56</td>\n",
       "      <td>2018-04-17 20:51:45</td>\n",
       "      <td>2018-04-19 19:54:43</td>\n",
       "      <td>2018-04-30 15:43:45</td>\n",
       "      <td>2018-05-16</td>\n",
       "      <td>15 days 08:16:15</td>\n",
       "      <td>1 days 23:02:58</td>\n",
       "      <td>...</td>\n",
       "      <td>1ef6a1d949703afd7a74347aed3b0503</td>\n",
       "      <td>77413</td>\n",
       "      <td>gurupi</td>\n",
       "      <td>TO</td>\n",
       "      <td>-11.743299</td>\n",
       "      <td>-49.048090</td>\n",
       "      <td>1</td>\n",
       "      <td>credit_card</td>\n",
       "      <td>3</td>\n",
       "      <td>59.03</td>\n",
       "    </tr>\n",
       "    <tr>\n",
       "      <th>97077</th>\n",
       "      <td>ff64e0ba4800eb1127ac32aeac2b51f9</td>\n",
       "      <td>16482587049b0c2a607dd532d0653696</td>\n",
       "      <td>delivered</td>\n",
       "      <td>2017-11-20 16:46:51</td>\n",
       "      <td>2017-11-20 16:56:23</td>\n",
       "      <td>2017-11-24 15:39:15</td>\n",
       "      <td>2017-12-05 00:57:57</td>\n",
       "      <td>2017-12-13</td>\n",
       "      <td>7 days 23:02:03</td>\n",
       "      <td>3 days 22:42:52</td>\n",
       "      <td>...</td>\n",
       "      <td>ebc6df639d125e446f07c0e9b1e47b90</td>\n",
       "      <td>32250</td>\n",
       "      <td>contagem</td>\n",
       "      <td>MG</td>\n",
       "      <td>-19.967817</td>\n",
       "      <td>-44.048033</td>\n",
       "      <td>1</td>\n",
       "      <td>credit_card</td>\n",
       "      <td>7</td>\n",
       "      <td>148.47</td>\n",
       "    </tr>\n",
       "    <tr>\n",
       "      <th>97078</th>\n",
       "      <td>ada8de3a9486cea2fce7f4b00319cf3c</td>\n",
       "      <td>9065a96b91a08c08755c4ea2618884f2</td>\n",
       "      <td>delivered</td>\n",
       "      <td>2018-07-09 18:25:16</td>\n",
       "      <td>2018-07-11 03:26:03</td>\n",
       "      <td>2018-07-11 12:12:00</td>\n",
       "      <td>2018-07-24 21:22:15</td>\n",
       "      <td>2018-08-06</td>\n",
       "      <td>12 days 02:37:45</td>\n",
       "      <td>0 days 08:45:57</td>\n",
       "      <td>...</td>\n",
       "      <td>ed81a42bec90c87578108d2e4c742d20</td>\n",
       "      <td>44798</td>\n",
       "      <td>umburanas</td>\n",
       "      <td>BA</td>\n",
       "      <td>-10.728517</td>\n",
       "      <td>-41.324377</td>\n",
       "      <td>1</td>\n",
       "      <td>boleto</td>\n",
       "      <td>1</td>\n",
       "      <td>123.75</td>\n",
       "    </tr>\n",
       "    <tr>\n",
       "      <th>97079</th>\n",
       "      <td>cfa78b997e329a5295b4ee6972c02979</td>\n",
       "      <td>a2f7428f0cafbc8e59f20e1444b67315</td>\n",
       "      <td>delivered</td>\n",
       "      <td>2017-12-20 09:52:41</td>\n",
       "      <td>2017-12-20 10:09:52</td>\n",
       "      <td>2017-12-20 20:25:25</td>\n",
       "      <td>2018-01-26 15:45:14</td>\n",
       "      <td>2018-01-18</td>\n",
       "      <td>-9 days +08:14:46</td>\n",
       "      <td>0 days 10:15:33</td>\n",
       "      <td>...</td>\n",
       "      <td>a49e8e11e850592fe685ae3c64b40eca</td>\n",
       "      <td>83870</td>\n",
       "      <td>campo do tenente</td>\n",
       "      <td>PR</td>\n",
       "      <td>-26.001234</td>\n",
       "      <td>-49.668993</td>\n",
       "      <td>1</td>\n",
       "      <td>credit_card</td>\n",
       "      <td>1</td>\n",
       "      <td>71.04</td>\n",
       "    </tr>\n",
       "  </tbody>\n",
       "</table>\n",
       "<p>97080 rows × 30 columns</p>\n",
       "</div>"
      ],
      "text/plain": [
       "                               order_id                       customer_id  \\\n",
       "0      e481f51cbdc54678b7cc49136f2d6af7  9ef432eb6251297304e76186b10a928d   \n",
       "1      70b35acffdf851e782ebf6fbc35eb620  8e8ee9b08afb49b080d193f98b0505af   \n",
       "2      69923a4e07ce446644394df37a710286  31f31efcb333fcbad2b1371c8cf0fa84   \n",
       "3      128e10d95713541c87cd1a2e48201934  a20e8105f23924cd00833fd87daa0831   \n",
       "4      ded23d37cdcc25b37b4473b7be770cb2  f96144f946e8e590fabf60a3a1e3342e   \n",
       "...                                 ...                               ...   \n",
       "97075  fc703730f6206ec478cae91c89f7dcb3  d99700792f0811f23d94f2edb64634f8   \n",
       "97076  f1a1942c32bd91ad8368164ae571b8f7  9632f1ff07591588a9596b99f8515c03   \n",
       "97077  ff64e0ba4800eb1127ac32aeac2b51f9  16482587049b0c2a607dd532d0653696   \n",
       "97078  ada8de3a9486cea2fce7f4b00319cf3c  9065a96b91a08c08755c4ea2618884f2   \n",
       "97079  cfa78b997e329a5295b4ee6972c02979  a2f7428f0cafbc8e59f20e1444b67315   \n",
       "\n",
       "      order_status order_purchase_timestamp    order_approved_at  \\\n",
       "0        delivered      2017-10-02 10:56:33  2017-10-02 11:07:15   \n",
       "1        delivered      2018-03-22 17:23:21  2018-03-22 18:05:36   \n",
       "2        delivered      2017-09-04 11:26:38  2017-09-04 11:43:25   \n",
       "3        delivered      2017-08-15 18:29:31  2017-08-15 20:05:16   \n",
       "4        delivered      2018-07-26 18:25:40  2018-07-27 02:10:26   \n",
       "...            ...                      ...                  ...   \n",
       "97075    delivered      2018-07-28 18:01:11  2018-07-28 18:15:14   \n",
       "97076    delivered      2018-04-16 20:51:56  2018-04-17 20:51:45   \n",
       "97077    delivered      2017-11-20 16:46:51  2017-11-20 16:56:23   \n",
       "97078    delivered      2018-07-09 18:25:16  2018-07-11 03:26:03   \n",
       "97079    delivered      2017-12-20 09:52:41  2017-12-20 10:09:52   \n",
       "\n",
       "      order_delivered_carrier_date order_delivered_customer_date  \\\n",
       "0              2017-10-04 19:55:00           2017-10-10 21:25:13   \n",
       "1              2018-03-23 18:03:03           2018-03-25 17:22:41   \n",
       "2              2017-09-04 21:22:15           2017-09-05 19:20:20   \n",
       "3              2017-08-17 15:28:33           2017-08-18 14:44:43   \n",
       "4              2018-08-02 14:13:00           2018-08-07 12:12:23   \n",
       "...                            ...                           ...   \n",
       "97075          2018-07-30 14:06:00           2018-08-06 16:41:43   \n",
       "97076          2018-04-19 19:54:43           2018-04-30 15:43:45   \n",
       "97077          2017-11-24 15:39:15           2017-12-05 00:57:57   \n",
       "97078          2018-07-11 12:12:00           2018-07-24 21:22:15   \n",
       "97079          2017-12-20 20:25:25           2018-01-26 15:45:14   \n",
       "\n",
       "      order_estimated_delivery_date estimate_delivery_time_diff  \\\n",
       "0                        2017-10-18             7 days 02:34:47   \n",
       "1                        2018-04-04             9 days 06:37:19   \n",
       "2                        2017-09-15             9 days 04:39:40   \n",
       "3                        2017-08-28             9 days 09:15:17   \n",
       "4                        2018-08-20            12 days 11:47:37   \n",
       "...                             ...                         ...   \n",
       "97075                    2018-08-15             8 days 07:18:17   \n",
       "97076                    2018-05-16            15 days 08:16:15   \n",
       "97077                    2017-12-13             7 days 23:02:03   \n",
       "97078                    2018-08-06            12 days 02:37:45   \n",
       "97079                    2018-01-18           -9 days +08:14:46   \n",
       "\n",
       "         delivery_time  ...                customer_unique_id  \\\n",
       "0      2 days 08:47:45  ...  7c396fd4830fd04220f754e42b4e5bff   \n",
       "1      0 days 23:57:27  ...  8a4002923e801e3120a11070fd31c9e2   \n",
       "2      0 days 09:38:50  ...  7c396fd4830fd04220f754e42b4e5bff   \n",
       "3      1 days 19:23:17  ...  3a51803cc0d012c3b5dc8b7528cb05f7   \n",
       "4      6 days 12:02:34  ...  806ab9e6d7c897da7e3b6104dadadc34   \n",
       "...                ...  ...                               ...   \n",
       "97075  1 days 19:50:46  ...  8b8c8f067a3faaf116211277147a88de   \n",
       "97076  1 days 23:02:58  ...  1ef6a1d949703afd7a74347aed3b0503   \n",
       "97077  3 days 22:42:52  ...  ebc6df639d125e446f07c0e9b1e47b90   \n",
       "97078  0 days 08:45:57  ...  ed81a42bec90c87578108d2e4c742d20   \n",
       "97079  0 days 10:15:33  ...  a49e8e11e850592fe685ae3c64b40eca   \n",
       "\n",
       "      customer_zip_code_prefix           customer_city  customer_state  \\\n",
       "0                         3149               sao paulo              SP   \n",
       "1                         3149               sao paulo              SP   \n",
       "2                         3149               sao paulo              SP   \n",
       "3                         3366               sao paulo              SP   \n",
       "4                         3366               sao paulo              SP   \n",
       "...                        ...                     ...             ...   \n",
       "97075                    35494  desterro de entre rios              MG   \n",
       "97076                    77413                  gurupi              TO   \n",
       "97077                    32250                contagem              MG   \n",
       "97078                    44798               umburanas              BA   \n",
       "97079                    83870        campo do tenente              PR   \n",
       "\n",
       "       customer_lat customer_lng  payment_sequential          payment_type  \\\n",
       "0        -23.574809   -46.587471                   3  credit_card, voucher   \n",
       "1        -23.574809   -46.587471                   1           credit_card   \n",
       "2        -23.574809   -46.587471                   1           credit_card   \n",
       "3        -23.565578   -46.534603                   1           credit_card   \n",
       "4        -23.565578   -46.534603                   1                boleto   \n",
       "...             ...          ...                 ...                   ...   \n",
       "97075    -20.657355   -44.340017                   1           credit_card   \n",
       "97076    -11.743299   -49.048090                   1           credit_card   \n",
       "97077    -19.967817   -44.048033                   1           credit_card   \n",
       "97078    -10.728517   -41.324377                   1                boleto   \n",
       "97079    -26.001234   -49.668993                   1           credit_card   \n",
       "\n",
       "       payment_installments  payment_value  \n",
       "0                         1          38.71  \n",
       "1                         2         223.38  \n",
       "2                         1          44.11  \n",
       "3                         3          37.77  \n",
       "4                         1         102.08  \n",
       "...                     ...            ...  \n",
       "97075                     1          58.28  \n",
       "97076                     3          59.03  \n",
       "97077                     7         148.47  \n",
       "97078                     1         123.75  \n",
       "97079                     1          71.04  \n",
       "\n",
       "[97080 rows x 30 columns]"
      ]
     },
     "execution_count": 4,
     "metadata": {},
     "output_type": "execute_result"
    }
   ],
   "source": [
    "merge"
   ]
  },
  {
   "cell_type": "code",
   "execution_count": 5,
   "id": "64a20507",
   "metadata": {},
   "outputs": [
    {
     "name": "stdout",
     "output_type": "stream",
     "text": [
      "<class 'pandas.core.frame.DataFrame'>\n",
      "RangeIndex: 97080 entries, 0 to 97079\n",
      "Data columns (total 30 columns):\n",
      " #   Column                         Non-Null Count  Dtype  \n",
      "---  ------                         --------------  -----  \n",
      " 0   order_id                       97080 non-null  object \n",
      " 1   customer_id                    97080 non-null  object \n",
      " 2   order_status                   97080 non-null  object \n",
      " 3   order_purchase_timestamp       97080 non-null  object \n",
      " 4   order_approved_at              97080 non-null  object \n",
      " 5   order_delivered_carrier_date   97080 non-null  object \n",
      " 6   order_delivered_customer_date  97080 non-null  object \n",
      " 7   order_estimated_delivery_date  97080 non-null  object \n",
      " 8   estimate_delivery_time_diff    97080 non-null  object \n",
      " 9   delivery_time                  97080 non-null  object \n",
      " 10  product_id                     97080 non-null  object \n",
      " 11  seller_id                      97080 non-null  object \n",
      " 12  price                          97080 non-null  float64\n",
      " 13  freight_value                  97080 non-null  float64\n",
      " 14  order_count                    97080 non-null  int64  \n",
      " 15  product_category_name          97080 non-null  object \n",
      " 16  product_weight_g               97080 non-null  float64\n",
      " 17  product_length_cm              97080 non-null  float64\n",
      " 18  product_height_cm              97080 non-null  float64\n",
      " 19  product_width_cm               97080 non-null  float64\n",
      " 20  customer_unique_id             97080 non-null  object \n",
      " 21  customer_zip_code_prefix       97080 non-null  int64  \n",
      " 22  customer_city                  97080 non-null  object \n",
      " 23  customer_state                 97080 non-null  object \n",
      " 24  customer_lat                   97080 non-null  float64\n",
      " 25  customer_lng                   97080 non-null  float64\n",
      " 26  payment_sequential             97080 non-null  int64  \n",
      " 27  payment_type                   97080 non-null  object \n",
      " 28  payment_installments           97080 non-null  int64  \n",
      " 29  payment_value                  97080 non-null  float64\n",
      "dtypes: float64(9), int64(4), object(17)\n",
      "memory usage: 22.2+ MB\n"
     ]
    }
   ],
   "source": [
    "merge.info()"
   ]
  },
  {
   "cell_type": "code",
   "execution_count": 6,
   "id": "6bea84e4",
   "metadata": {},
   "outputs": [
    {
     "data": {
      "text/plain": [
       "order_id                         93507\n",
       "customer_id                      93507\n",
       "order_status                         1\n",
       "order_purchase_timestamp         93014\n",
       "order_approved_at                85943\n",
       "order_delivered_carrier_date     77876\n",
       "order_delivered_customer_date    92741\n",
       "order_estimated_delivery_date      444\n",
       "estimate_delivery_time_diff      89217\n",
       "delivery_time                    83906\n",
       "product_id                       31253\n",
       "seller_id                         2902\n",
       "price                             5738\n",
       "freight_value                     6859\n",
       "order_count                         16\n",
       "product_category_name               71\n",
       "product_weight_g                  2157\n",
       "product_length_cm                   99\n",
       "product_height_cm                  102\n",
       "product_width_cm                    94\n",
       "customer_unique_id               90528\n",
       "customer_zip_code_prefix         14650\n",
       "customer_city                     4012\n",
       "customer_state                      27\n",
       "customer_lat                     14646\n",
       "customer_lng                     14647\n",
       "payment_sequential                  19\n",
       "payment_type                         7\n",
       "payment_installments                24\n",
       "payment_value                    26776\n",
       "dtype: int64"
      ]
     },
     "execution_count": 6,
     "metadata": {},
     "output_type": "execute_result"
    }
   ],
   "source": [
    "merge.nunique()"
   ]
  },
  {
   "cell_type": "markdown",
   "id": "d7eec37a",
   "metadata": {},
   "source": [
    "# R"
   ]
  },
  {
   "cell_type": "markdown",
   "id": "677b088e",
   "metadata": {},
   "source": [
    "- 가장 최근 일자를 기준으로 하여 각 고객별 r을 구해, 기준일까지 얼마나 지났는가를 구함 "
   ]
  },
  {
   "cell_type": "code",
   "execution_count": 7,
   "id": "ed2d7c7a",
   "metadata": {},
   "outputs": [],
   "source": [
    "recency = merge.groupby('customer_unique_id')['order_purchase_timestamp'].max().reset_index()"
   ]
  },
  {
   "cell_type": "code",
   "execution_count": 8,
   "id": "1375a3f1",
   "metadata": {},
   "outputs": [],
   "source": [
    "recency.rename(columns={'order_purchase_timestamp':'recency'},inplace=True)"
   ]
  },
  {
   "cell_type": "code",
   "execution_count": 9,
   "id": "7147ffc1",
   "metadata": {},
   "outputs": [
    {
     "data": {
      "text/plain": [
       "'2018-08-29 15:00:37'"
      ]
     },
     "execution_count": 9,
     "metadata": {},
     "output_type": "execute_result"
    }
   ],
   "source": [
    "max_date = recency['recency'].max()\n",
    "max_date"
   ]
  },
  {
   "cell_type": "code",
   "execution_count": 10,
   "id": "7514d6ae",
   "metadata": {},
   "outputs": [
    {
     "data": {
      "text/html": [
       "<div>\n",
       "<style scoped>\n",
       "    .dataframe tbody tr th:only-of-type {\n",
       "        vertical-align: middle;\n",
       "    }\n",
       "\n",
       "    .dataframe tbody tr th {\n",
       "        vertical-align: top;\n",
       "    }\n",
       "\n",
       "    .dataframe thead th {\n",
       "        text-align: right;\n",
       "    }\n",
       "</style>\n",
       "<table border=\"1\" class=\"dataframe\">\n",
       "  <thead>\n",
       "    <tr style=\"text-align: right;\">\n",
       "      <th></th>\n",
       "      <th>customer_unique_id</th>\n",
       "      <th>recency</th>\n",
       "    </tr>\n",
       "  </thead>\n",
       "  <tbody>\n",
       "    <tr>\n",
       "      <th>0</th>\n",
       "      <td>0000366f3b9a7992bf8c76cfdf3221e2</td>\n",
       "      <td>2018-05-10 10:56:27</td>\n",
       "    </tr>\n",
       "    <tr>\n",
       "      <th>1</th>\n",
       "      <td>0000b849f77a49e4a4ce2b2a4ca5be3f</td>\n",
       "      <td>2018-05-07 11:11:27</td>\n",
       "    </tr>\n",
       "    <tr>\n",
       "      <th>2</th>\n",
       "      <td>0000f46a3911fa3c0805444483337064</td>\n",
       "      <td>2017-03-10 21:05:03</td>\n",
       "    </tr>\n",
       "    <tr>\n",
       "      <th>3</th>\n",
       "      <td>0000f6ccb0745a6a4b88665a16c9f078</td>\n",
       "      <td>2017-10-12 20:29:41</td>\n",
       "    </tr>\n",
       "    <tr>\n",
       "      <th>4</th>\n",
       "      <td>0004aac84e0df4da2b147fca70cf8255</td>\n",
       "      <td>2017-11-14 19:45:42</td>\n",
       "    </tr>\n",
       "    <tr>\n",
       "      <th>...</th>\n",
       "      <td>...</td>\n",
       "      <td>...</td>\n",
       "    </tr>\n",
       "    <tr>\n",
       "      <th>90523</th>\n",
       "      <td>fffcf5a5ff07b0908bd4e2dbc735a684</td>\n",
       "      <td>2017-06-08 21:00:36</td>\n",
       "    </tr>\n",
       "    <tr>\n",
       "      <th>90524</th>\n",
       "      <td>fffea47cd6d3cc0a88bd621562a9d061</td>\n",
       "      <td>2017-12-10 20:07:56</td>\n",
       "    </tr>\n",
       "    <tr>\n",
       "      <th>90525</th>\n",
       "      <td>ffff371b4d645b6ecea244b27531430a</td>\n",
       "      <td>2017-02-07 15:49:16</td>\n",
       "    </tr>\n",
       "    <tr>\n",
       "      <th>90526</th>\n",
       "      <td>ffff5962728ec6157033ef9805bacc48</td>\n",
       "      <td>2018-05-02 15:17:41</td>\n",
       "    </tr>\n",
       "    <tr>\n",
       "      <th>90527</th>\n",
       "      <td>ffffd2657e2aad2907e67c3e9daecbeb</td>\n",
       "      <td>2017-05-02 20:18:45</td>\n",
       "    </tr>\n",
       "  </tbody>\n",
       "</table>\n",
       "<p>90528 rows × 2 columns</p>\n",
       "</div>"
      ],
      "text/plain": [
       "                     customer_unique_id              recency\n",
       "0      0000366f3b9a7992bf8c76cfdf3221e2  2018-05-10 10:56:27\n",
       "1      0000b849f77a49e4a4ce2b2a4ca5be3f  2018-05-07 11:11:27\n",
       "2      0000f46a3911fa3c0805444483337064  2017-03-10 21:05:03\n",
       "3      0000f6ccb0745a6a4b88665a16c9f078  2017-10-12 20:29:41\n",
       "4      0004aac84e0df4da2b147fca70cf8255  2017-11-14 19:45:42\n",
       "...                                 ...                  ...\n",
       "90523  fffcf5a5ff07b0908bd4e2dbc735a684  2017-06-08 21:00:36\n",
       "90524  fffea47cd6d3cc0a88bd621562a9d061  2017-12-10 20:07:56\n",
       "90525  ffff371b4d645b6ecea244b27531430a  2017-02-07 15:49:16\n",
       "90526  ffff5962728ec6157033ef9805bacc48  2018-05-02 15:17:41\n",
       "90527  ffffd2657e2aad2907e67c3e9daecbeb  2017-05-02 20:18:45\n",
       "\n",
       "[90528 rows x 2 columns]"
      ]
     },
     "execution_count": 10,
     "metadata": {},
     "output_type": "execute_result"
    }
   ],
   "source": [
    "recency "
   ]
  },
  {
   "cell_type": "code",
   "execution_count": 11,
   "id": "030d49ab",
   "metadata": {},
   "outputs": [],
   "source": [
    "recency.recency =pd.to_datetime(recency.recency )"
   ]
  },
  {
   "cell_type": "code",
   "execution_count": 12,
   "id": "b0624948",
   "metadata": {},
   "outputs": [],
   "source": [
    "max_date=pd.to_datetime(max_date)"
   ]
  },
  {
   "cell_type": "code",
   "execution_count": 13,
   "id": "e486bdaf",
   "metadata": {},
   "outputs": [],
   "source": [
    "recency['diff_date'] = (max_date - recency['recency']).dt.days # dt.days : 시간 없이 날짜만 남기기"
   ]
  },
  {
   "cell_type": "code",
   "execution_count": 14,
   "id": "5149718d",
   "metadata": {},
   "outputs": [
    {
     "data": {
      "text/html": [
       "<div>\n",
       "<style scoped>\n",
       "    .dataframe tbody tr th:only-of-type {\n",
       "        vertical-align: middle;\n",
       "    }\n",
       "\n",
       "    .dataframe tbody tr th {\n",
       "        vertical-align: top;\n",
       "    }\n",
       "\n",
       "    .dataframe thead th {\n",
       "        text-align: right;\n",
       "    }\n",
       "</style>\n",
       "<table border=\"1\" class=\"dataframe\">\n",
       "  <thead>\n",
       "    <tr style=\"text-align: right;\">\n",
       "      <th></th>\n",
       "      <th>customer_unique_id</th>\n",
       "      <th>recency</th>\n",
       "      <th>diff_date</th>\n",
       "    </tr>\n",
       "  </thead>\n",
       "  <tbody>\n",
       "    <tr>\n",
       "      <th>0</th>\n",
       "      <td>0000366f3b9a7992bf8c76cfdf3221e2</td>\n",
       "      <td>2018-05-10 10:56:27</td>\n",
       "      <td>111</td>\n",
       "    </tr>\n",
       "    <tr>\n",
       "      <th>1</th>\n",
       "      <td>0000b849f77a49e4a4ce2b2a4ca5be3f</td>\n",
       "      <td>2018-05-07 11:11:27</td>\n",
       "      <td>114</td>\n",
       "    </tr>\n",
       "    <tr>\n",
       "      <th>2</th>\n",
       "      <td>0000f46a3911fa3c0805444483337064</td>\n",
       "      <td>2017-03-10 21:05:03</td>\n",
       "      <td>536</td>\n",
       "    </tr>\n",
       "    <tr>\n",
       "      <th>3</th>\n",
       "      <td>0000f6ccb0745a6a4b88665a16c9f078</td>\n",
       "      <td>2017-10-12 20:29:41</td>\n",
       "      <td>320</td>\n",
       "    </tr>\n",
       "    <tr>\n",
       "      <th>4</th>\n",
       "      <td>0004aac84e0df4da2b147fca70cf8255</td>\n",
       "      <td>2017-11-14 19:45:42</td>\n",
       "      <td>287</td>\n",
       "    </tr>\n",
       "    <tr>\n",
       "      <th>...</th>\n",
       "      <td>...</td>\n",
       "      <td>...</td>\n",
       "      <td>...</td>\n",
       "    </tr>\n",
       "    <tr>\n",
       "      <th>90523</th>\n",
       "      <td>fffcf5a5ff07b0908bd4e2dbc735a684</td>\n",
       "      <td>2017-06-08 21:00:36</td>\n",
       "      <td>446</td>\n",
       "    </tr>\n",
       "    <tr>\n",
       "      <th>90524</th>\n",
       "      <td>fffea47cd6d3cc0a88bd621562a9d061</td>\n",
       "      <td>2017-12-10 20:07:56</td>\n",
       "      <td>261</td>\n",
       "    </tr>\n",
       "    <tr>\n",
       "      <th>90525</th>\n",
       "      <td>ffff371b4d645b6ecea244b27531430a</td>\n",
       "      <td>2017-02-07 15:49:16</td>\n",
       "      <td>567</td>\n",
       "    </tr>\n",
       "    <tr>\n",
       "      <th>90526</th>\n",
       "      <td>ffff5962728ec6157033ef9805bacc48</td>\n",
       "      <td>2018-05-02 15:17:41</td>\n",
       "      <td>118</td>\n",
       "    </tr>\n",
       "    <tr>\n",
       "      <th>90527</th>\n",
       "      <td>ffffd2657e2aad2907e67c3e9daecbeb</td>\n",
       "      <td>2017-05-02 20:18:45</td>\n",
       "      <td>483</td>\n",
       "    </tr>\n",
       "  </tbody>\n",
       "</table>\n",
       "<p>90528 rows × 3 columns</p>\n",
       "</div>"
      ],
      "text/plain": [
       "                     customer_unique_id             recency  diff_date\n",
       "0      0000366f3b9a7992bf8c76cfdf3221e2 2018-05-10 10:56:27        111\n",
       "1      0000b849f77a49e4a4ce2b2a4ca5be3f 2018-05-07 11:11:27        114\n",
       "2      0000f46a3911fa3c0805444483337064 2017-03-10 21:05:03        536\n",
       "3      0000f6ccb0745a6a4b88665a16c9f078 2017-10-12 20:29:41        320\n",
       "4      0004aac84e0df4da2b147fca70cf8255 2017-11-14 19:45:42        287\n",
       "...                                 ...                 ...        ...\n",
       "90523  fffcf5a5ff07b0908bd4e2dbc735a684 2017-06-08 21:00:36        446\n",
       "90524  fffea47cd6d3cc0a88bd621562a9d061 2017-12-10 20:07:56        261\n",
       "90525  ffff371b4d645b6ecea244b27531430a 2017-02-07 15:49:16        567\n",
       "90526  ffff5962728ec6157033ef9805bacc48 2018-05-02 15:17:41        118\n",
       "90527  ffffd2657e2aad2907e67c3e9daecbeb 2017-05-02 20:18:45        483\n",
       "\n",
       "[90528 rows x 3 columns]"
      ]
     },
     "execution_count": 14,
     "metadata": {},
     "output_type": "execute_result"
    }
   ],
   "source": [
    "recency "
   ]
  },
  {
   "cell_type": "code",
   "execution_count": 15,
   "id": "1ec65911",
   "metadata": {},
   "outputs": [
    {
     "data": {
      "text/plain": [
       "count    90528.000000\n",
       "mean       238.218231\n",
       "std        152.388604\n",
       "min          0.000000\n",
       "25%        114.000000\n",
       "50%        220.000000\n",
       "75%        347.000000\n",
       "max        694.000000\n",
       "Name: diff_date, dtype: float64"
      ]
     },
     "execution_count": 15,
     "metadata": {},
     "output_type": "execute_result"
    }
   ],
   "source": [
    "recency['diff_date'].describe()"
   ]
  },
  {
   "cell_type": "code",
   "execution_count": 16,
   "id": "7fbf6d90",
   "metadata": {},
   "outputs": [
    {
     "data": {
      "text/plain": [
       "<seaborn.axisgrid.FacetGrid at 0x7f8c841edac0>"
      ]
     },
     "execution_count": 16,
     "metadata": {},
     "output_type": "execute_result"
    },
    {
     "data": {
      "image/png": "[encoded data removed]",
      "text/plain": [
       "<Figure size 360x360 with 1 Axes>"
      ]
     },
     "metadata": {
      "needs_background": "light"
     },
     "output_type": "display_data"
    }
   ],
   "source": [
    "sns.displot(recency['diff_date'])"
   ]
  },
  {
   "cell_type": "code",
   "execution_count": 17,
   "id": "b250f1cd",
   "metadata": {},
   "outputs": [
    {
     "name": "stdout",
     "output_type": "stream",
     "text": [
      "[  0.  138.8 277.6 416.4 555.2 694. ]\n"
     ]
    }
   ],
   "source": [
    "recency['diff_date']=recency['diff_date'].astype('int')\n",
    "\n",
    "count,bin_divers = np.histogram(recency['diff_date'], bins=5)\n",
    "print(bin_divers)"
   ]
  },
  {
   "cell_type": "code",
   "execution_count": 18,
   "id": "99182b4d",
   "metadata": {},
   "outputs": [
    {
     "name": "stdout",
     "output_type": "stream",
     "text": [
      "   diff_date r_score\n",
      "0        111       5\n",
      "1        114       5\n",
      "2        536       2\n",
      "3        320       3\n",
      "4        287       3\n",
      "5        145       4\n",
      "6        131       5\n",
      "7        182       4\n",
      "8        542       2\n",
      "9        169       4\n"
     ]
    }
   ],
   "source": [
    "bin_names = [5,4,3,2,1]\n",
    "\n",
    "recency['r_score'] = pd.cut (x=recency['diff_date'],\n",
    "                       bins=bin_divers,\n",
    "                        labels = bin_names,\n",
    "                        include_lowest=True\n",
    "                       )\n",
    "\n",
    "print(recency[['diff_date','r_score']].head(10))"
   ]
  },
  {
   "cell_type": "code",
   "execution_count": 19,
   "id": "7de9e7b1",
   "metadata": {},
   "outputs": [
    {
     "data": {
      "text/plain": [
       "<seaborn.axisgrid.FacetGrid at 0x7f8c84293100>"
      ]
     },
     "execution_count": 19,
     "metadata": {},
     "output_type": "execute_result"
    },
    {
     "data": {
      "image/png": "[encoded data removed]",
      "text/plain": [
       "<Figure size 360x360 with 1 Axes>"
      ]
     },
     "metadata": {
      "needs_background": "light"
     },
     "output_type": "display_data"
    }
   ],
   "source": [
    "sns.displot(recency['r_score'])"
   ]
  },
  {
   "cell_type": "markdown",
   "id": "681c1eb6",
   "metadata": {},
   "source": [
    "# F"
   ]
  },
  {
   "cell_type": "markdown",
   "id": "e94c8057",
   "metadata": {},
   "source": [
    "- frequency 점수의 분포를 살펴봤을 때, 1회 또는 2회만 구매한 고객이 너무 많아서 pd.qcut() 함수가 적용이 불가능하다는 것을 알게 되었습니다. 그렇기 때문에 F 점수는 나머지와 다르게 1회 구매했으면 1점, 2회 구매했으면 2점, 3회 구매했으면 3점, 4회 구매했으면 4점, 그 이상 구매했으면 5점을 부여하는 함수를 만들어 적용했습니다."
   ]
  },
  {
   "cell_type": "code",
   "execution_count": 20,
   "id": "182736d2",
   "metadata": {},
   "outputs": [],
   "source": [
    "frequency = merge.groupby('customer_unique_id')['order_purchase_timestamp'].nunique().reset_index()"
   ]
  },
  {
   "cell_type": "code",
   "execution_count": 21,
   "id": "0729b548",
   "metadata": {},
   "outputs": [
    {
     "name": "stdout",
     "output_type": "stream",
     "text": [
      "<class 'pandas.core.frame.DataFrame'>\n",
      "RangeIndex: 90528 entries, 0 to 90527\n",
      "Data columns (total 2 columns):\n",
      " #   Column                    Non-Null Count  Dtype \n",
      "---  ------                    --------------  ----- \n",
      " 0   customer_unique_id        90528 non-null  object\n",
      " 1   order_purchase_timestamp  90528 non-null  int64 \n",
      "dtypes: int64(1), object(1)\n",
      "memory usage: 1.4+ MB\n"
     ]
    }
   ],
   "source": [
    "frequency.info()"
   ]
  },
  {
   "cell_type": "code",
   "execution_count": 22,
   "id": "92276e6a",
   "metadata": {},
   "outputs": [],
   "source": [
    "frequency.rename(columns={'order_purchase_timestamp':'frequency'},inplace=True)"
   ]
  },
  {
   "cell_type": "code",
   "execution_count": 23,
   "id": "82c20d0c",
   "metadata": {},
   "outputs": [
    {
     "data": {
      "text/html": [
       "<div>\n",
       "<style scoped>\n",
       "    .dataframe tbody tr th:only-of-type {\n",
       "        vertical-align: middle;\n",
       "    }\n",
       "\n",
       "    .dataframe tbody tr th {\n",
       "        vertical-align: top;\n",
       "    }\n",
       "\n",
       "    .dataframe thead th {\n",
       "        text-align: right;\n",
       "    }\n",
       "</style>\n",
       "<table border=\"1\" class=\"dataframe\">\n",
       "  <thead>\n",
       "    <tr style=\"text-align: right;\">\n",
       "      <th></th>\n",
       "      <th>customer_unique_id</th>\n",
       "      <th>frequency</th>\n",
       "    </tr>\n",
       "  </thead>\n",
       "  <tbody>\n",
       "    <tr>\n",
       "      <th>0</th>\n",
       "      <td>0000366f3b9a7992bf8c76cfdf3221e2</td>\n",
       "      <td>1</td>\n",
       "    </tr>\n",
       "    <tr>\n",
       "      <th>1</th>\n",
       "      <td>0000b849f77a49e4a4ce2b2a4ca5be3f</td>\n",
       "      <td>1</td>\n",
       "    </tr>\n",
       "    <tr>\n",
       "      <th>2</th>\n",
       "      <td>0000f46a3911fa3c0805444483337064</td>\n",
       "      <td>1</td>\n",
       "    </tr>\n",
       "    <tr>\n",
       "      <th>3</th>\n",
       "      <td>0000f6ccb0745a6a4b88665a16c9f078</td>\n",
       "      <td>1</td>\n",
       "    </tr>\n",
       "    <tr>\n",
       "      <th>4</th>\n",
       "      <td>0004aac84e0df4da2b147fca70cf8255</td>\n",
       "      <td>1</td>\n",
       "    </tr>\n",
       "    <tr>\n",
       "      <th>...</th>\n",
       "      <td>...</td>\n",
       "      <td>...</td>\n",
       "    </tr>\n",
       "    <tr>\n",
       "      <th>90523</th>\n",
       "      <td>fffcf5a5ff07b0908bd4e2dbc735a684</td>\n",
       "      <td>1</td>\n",
       "    </tr>\n",
       "    <tr>\n",
       "      <th>90524</th>\n",
       "      <td>fffea47cd6d3cc0a88bd621562a9d061</td>\n",
       "      <td>1</td>\n",
       "    </tr>\n",
       "    <tr>\n",
       "      <th>90525</th>\n",
       "      <td>ffff371b4d645b6ecea244b27531430a</td>\n",
       "      <td>1</td>\n",
       "    </tr>\n",
       "    <tr>\n",
       "      <th>90526</th>\n",
       "      <td>ffff5962728ec6157033ef9805bacc48</td>\n",
       "      <td>1</td>\n",
       "    </tr>\n",
       "    <tr>\n",
       "      <th>90527</th>\n",
       "      <td>ffffd2657e2aad2907e67c3e9daecbeb</td>\n",
       "      <td>1</td>\n",
       "    </tr>\n",
       "  </tbody>\n",
       "</table>\n",
       "<p>90528 rows × 2 columns</p>\n",
       "</div>"
      ],
      "text/plain": [
       "                     customer_unique_id  frequency\n",
       "0      0000366f3b9a7992bf8c76cfdf3221e2          1\n",
       "1      0000b849f77a49e4a4ce2b2a4ca5be3f          1\n",
       "2      0000f46a3911fa3c0805444483337064          1\n",
       "3      0000f6ccb0745a6a4b88665a16c9f078          1\n",
       "4      0004aac84e0df4da2b147fca70cf8255          1\n",
       "...                                 ...        ...\n",
       "90523  fffcf5a5ff07b0908bd4e2dbc735a684          1\n",
       "90524  fffea47cd6d3cc0a88bd621562a9d061          1\n",
       "90525  ffff371b4d645b6ecea244b27531430a          1\n",
       "90526  ffff5962728ec6157033ef9805bacc48          1\n",
       "90527  ffffd2657e2aad2907e67c3e9daecbeb          1\n",
       "\n",
       "[90528 rows x 2 columns]"
      ]
     },
     "execution_count": 23,
     "metadata": {},
     "output_type": "execute_result"
    }
   ],
   "source": [
    "frequency"
   ]
  },
  {
   "cell_type": "code",
   "execution_count": 24,
   "id": "7983e8df",
   "metadata": {},
   "outputs": [],
   "source": [
    "def parse_values(x):\n",
    "    switch = {\n",
    "        1: 1,\n",
    "        2: 2,\n",
    "        3: 3,\n",
    "        4: 4\n",
    "    }\n",
    "    return switch.get(x, 5)\n",
    "    \n",
    "frequency['f_score'] = frequency['frequency'].apply(parse_values)"
   ]
  },
  {
   "cell_type": "code",
   "execution_count": 25,
   "id": "28d7d50a",
   "metadata": {},
   "outputs": [
    {
     "data": {
      "text/plain": [
       "customer_unique_id    90528\n",
       "frequency                 9\n",
       "f_score                   5\n",
       "dtype: int64"
      ]
     },
     "execution_count": 25,
     "metadata": {},
     "output_type": "execute_result"
    }
   ],
   "source": [
    "frequency.nunique()"
   ]
  },
  {
   "cell_type": "code",
   "execution_count": 26,
   "id": "867a5bd8",
   "metadata": {},
   "outputs": [
    {
     "data": {
      "text/plain": [
       "<seaborn.axisgrid.FacetGrid at 0x7f8c841edf70>"
      ]
     },
     "execution_count": 26,
     "metadata": {},
     "output_type": "execute_result"
    },
    {
     "data": {
      "image/png": "[encoded data removed]",
      "text/plain": [
       "<Figure size 360x360 with 1 Axes>"
      ]
     },
     "metadata": {
      "needs_background": "light"
     },
     "output_type": "display_data"
    }
   ],
   "source": [
    "sns.displot(frequency['f_score'])"
   ]
  },
  {
   "cell_type": "markdown",
   "id": "16f03e23",
   "metadata": {},
   "source": [
    "# M"
   ]
  },
  {
   "cell_type": "code",
   "execution_count": 27,
   "id": "c3549211",
   "metadata": {},
   "outputs": [],
   "source": [
    "monetary = merge.groupby('customer_unique_id')['payment_value'].sum().reset_index()"
   ]
  },
  {
   "cell_type": "code",
   "execution_count": 28,
   "id": "49301ff0",
   "metadata": {},
   "outputs": [],
   "source": [
    "monetary.rename(columns={'payment_value':'monetary'},inplace=True)"
   ]
  },
  {
   "cell_type": "code",
   "execution_count": 29,
   "id": "bbd01831",
   "metadata": {},
   "outputs": [
    {
     "name": "stdout",
     "output_type": "stream",
     "text": [
      "[9.5900000e+00 3.2034020e+03 6.3972140e+03 9.5910260e+03 1.2784838e+04\n",
      " 1.5978650e+04]\n"
     ]
    }
   ],
   "source": [
    "count,bin_divers = np.histogram(monetary['monetary'], bins=5)\n",
    "print(bin_divers)"
   ]
  },
  {
   "cell_type": "code",
   "execution_count": 30,
   "id": "3545b55f",
   "metadata": {},
   "outputs": [
    {
     "name": "stdout",
     "output_type": "stream",
     "text": [
      "  m_score  monetary\n",
      "0       1    141.90\n",
      "1       1     27.19\n",
      "2       1     86.22\n",
      "3       1     43.62\n",
      "4       1    196.89\n",
      "5       1    166.98\n",
      "6       1     35.38\n",
      "7       1    838.36\n",
      "8       1    150.12\n",
      "9       1    129.76\n"
     ]
    }
   ],
   "source": [
    "bin_names = [1,2,3,4,5]\n",
    "\n",
    "monetary ['m_score'] = pd.cut (x=monetary['monetary'],\n",
    "                       bins=bin_divers,\n",
    "                        labels = bin_names,\n",
    "                        include_lowest=True\n",
    "                       )\n",
    "\n",
    "print(monetary [['m_score','monetary']].head(10))"
   ]
  },
  {
   "cell_type": "code",
   "execution_count": 31,
   "id": "3ef78c7e",
   "metadata": {},
   "outputs": [
    {
     "data": {
      "text/plain": [
       "count    90528.000000\n",
       "mean       175.842174\n",
       "std        265.479403\n",
       "min          9.590000\n",
       "25%         63.157500\n",
       "50%        108.810000\n",
       "75%        188.410000\n",
       "max      15978.650000\n",
       "Name: monetary, dtype: float64"
      ]
     },
     "execution_count": 31,
     "metadata": {},
     "output_type": "execute_result"
    }
   ],
   "source": [
    "monetary.monetary.describe()"
   ]
  },
  {
   "cell_type": "code",
   "execution_count": 32,
   "id": "ef0cd14c",
   "metadata": {},
   "outputs": [
    {
     "data": {
      "text/plain": [
       "1    90462\n",
       "2       54\n",
       "3       10\n",
       "5        2\n",
       "4        0\n",
       "Name: m_score, dtype: int64"
      ]
     },
     "execution_count": 32,
     "metadata": {},
     "output_type": "execute_result"
    }
   ],
   "source": [
    "monetary.m_score.value_counts()"
   ]
  },
  {
   "cell_type": "code",
   "execution_count": 33,
   "id": "0a19da5d",
   "metadata": {},
   "outputs": [
    {
     "data": {
      "text/plain": [
       "<seaborn.axisgrid.FacetGrid at 0x7f8c85003490>"
      ]
     },
     "execution_count": 33,
     "metadata": {},
     "output_type": "execute_result"
    },
    {
     "data": {
      "image/png": "[encoded data removed]",
      "text/plain": [
       "<Figure size 360x360 with 1 Axes>"
      ]
     },
     "metadata": {
      "needs_background": "light"
     },
     "output_type": "display_data"
    }
   ],
   "source": [
    "sns.displot(monetary['m_score'] )"
   ]
  },
  {
   "cell_type": "markdown",
   "id": "7ac9ceb1",
   "metadata": {},
   "source": [
    "# RFM merge"
   ]
  },
  {
   "cell_type": "code",
   "execution_count": 34,
   "id": "ab285488",
   "metadata": {},
   "outputs": [],
   "source": [
    "# recency, frequency, monetary 데이터프레임 하나로 합치기\n",
    "rfm_score = recency.merge(frequency, on = 'customer_unique_id')\n",
    "rfm_score = rfm_score.merge(monetary, on = 'customer_unique_id')\n",
    "\n",
    "# rfm_score을 합치기 위해 string으로 형 변환\n",
    "rfm_score['r_score'] = rfm_score['r_score'].astype(str)\n",
    "rfm_score['f_score'] = rfm_score['f_score'].astype(str)\n",
    "rfm_score['m_score'] = rfm_score['m_score'].astype(str)\n",
    "\n",
    "# rfm_score 합치기\n",
    "rfm_score['rfm_score'] = rfm_score['r_score'] + rfm_score['f_score'] + rfm_score['m_score']"
   ]
  },
  {
   "cell_type": "code",
   "execution_count": 35,
   "id": "2c4999f1",
   "metadata": {},
   "outputs": [
    {
     "data": {
      "text/html": [
       "<div>\n",
       "<style scoped>\n",
       "    .dataframe tbody tr th:only-of-type {\n",
       "        vertical-align: middle;\n",
       "    }\n",
       "\n",
       "    .dataframe tbody tr th {\n",
       "        vertical-align: top;\n",
       "    }\n",
       "\n",
       "    .dataframe thead th {\n",
       "        text-align: right;\n",
       "    }\n",
       "</style>\n",
       "<table border=\"1\" class=\"dataframe\">\n",
       "  <thead>\n",
       "    <tr style=\"text-align: right;\">\n",
       "      <th></th>\n",
       "      <th>customer_unique_id</th>\n",
       "      <th>recency</th>\n",
       "      <th>diff_date</th>\n",
       "      <th>r_score</th>\n",
       "      <th>frequency</th>\n",
       "      <th>f_score</th>\n",
       "      <th>monetary</th>\n",
       "      <th>m_score</th>\n",
       "      <th>rfm_score</th>\n",
       "    </tr>\n",
       "  </thead>\n",
       "  <tbody>\n",
       "    <tr>\n",
       "      <th>0</th>\n",
       "      <td>0000366f3b9a7992bf8c76cfdf3221e2</td>\n",
       "      <td>2018-05-10 10:56:27</td>\n",
       "      <td>111</td>\n",
       "      <td>5</td>\n",
       "      <td>1</td>\n",
       "      <td>1</td>\n",
       "      <td>141.90</td>\n",
       "      <td>1</td>\n",
       "      <td>511</td>\n",
       "    </tr>\n",
       "    <tr>\n",
       "      <th>1</th>\n",
       "      <td>0000b849f77a49e4a4ce2b2a4ca5be3f</td>\n",
       "      <td>2018-05-07 11:11:27</td>\n",
       "      <td>114</td>\n",
       "      <td>5</td>\n",
       "      <td>1</td>\n",
       "      <td>1</td>\n",
       "      <td>27.19</td>\n",
       "      <td>1</td>\n",
       "      <td>511</td>\n",
       "    </tr>\n",
       "    <tr>\n",
       "      <th>2</th>\n",
       "      <td>0000f46a3911fa3c0805444483337064</td>\n",
       "      <td>2017-03-10 21:05:03</td>\n",
       "      <td>536</td>\n",
       "      <td>2</td>\n",
       "      <td>1</td>\n",
       "      <td>1</td>\n",
       "      <td>86.22</td>\n",
       "      <td>1</td>\n",
       "      <td>211</td>\n",
       "    </tr>\n",
       "    <tr>\n",
       "      <th>3</th>\n",
       "      <td>0000f6ccb0745a6a4b88665a16c9f078</td>\n",
       "      <td>2017-10-12 20:29:41</td>\n",
       "      <td>320</td>\n",
       "      <td>3</td>\n",
       "      <td>1</td>\n",
       "      <td>1</td>\n",
       "      <td>43.62</td>\n",
       "      <td>1</td>\n",
       "      <td>311</td>\n",
       "    </tr>\n",
       "    <tr>\n",
       "      <th>4</th>\n",
       "      <td>0004aac84e0df4da2b147fca70cf8255</td>\n",
       "      <td>2017-11-14 19:45:42</td>\n",
       "      <td>287</td>\n",
       "      <td>3</td>\n",
       "      <td>1</td>\n",
       "      <td>1</td>\n",
       "      <td>196.89</td>\n",
       "      <td>1</td>\n",
       "      <td>311</td>\n",
       "    </tr>\n",
       "    <tr>\n",
       "      <th>...</th>\n",
       "      <td>...</td>\n",
       "      <td>...</td>\n",
       "      <td>...</td>\n",
       "      <td>...</td>\n",
       "      <td>...</td>\n",
       "      <td>...</td>\n",
       "      <td>...</td>\n",
       "      <td>...</td>\n",
       "      <td>...</td>\n",
       "    </tr>\n",
       "    <tr>\n",
       "      <th>90523</th>\n",
       "      <td>fffcf5a5ff07b0908bd4e2dbc735a684</td>\n",
       "      <td>2017-06-08 21:00:36</td>\n",
       "      <td>446</td>\n",
       "      <td>2</td>\n",
       "      <td>1</td>\n",
       "      <td>1</td>\n",
       "      <td>4134.84</td>\n",
       "      <td>2</td>\n",
       "      <td>212</td>\n",
       "    </tr>\n",
       "    <tr>\n",
       "      <th>90524</th>\n",
       "      <td>fffea47cd6d3cc0a88bd621562a9d061</td>\n",
       "      <td>2017-12-10 20:07:56</td>\n",
       "      <td>261</td>\n",
       "      <td>4</td>\n",
       "      <td>1</td>\n",
       "      <td>1</td>\n",
       "      <td>84.58</td>\n",
       "      <td>1</td>\n",
       "      <td>411</td>\n",
       "    </tr>\n",
       "    <tr>\n",
       "      <th>90525</th>\n",
       "      <td>ffff371b4d645b6ecea244b27531430a</td>\n",
       "      <td>2017-02-07 15:49:16</td>\n",
       "      <td>567</td>\n",
       "      <td>1</td>\n",
       "      <td>1</td>\n",
       "      <td>1</td>\n",
       "      <td>112.46</td>\n",
       "      <td>1</td>\n",
       "      <td>111</td>\n",
       "    </tr>\n",
       "    <tr>\n",
       "      <th>90526</th>\n",
       "      <td>ffff5962728ec6157033ef9805bacc48</td>\n",
       "      <td>2018-05-02 15:17:41</td>\n",
       "      <td>118</td>\n",
       "      <td>5</td>\n",
       "      <td>1</td>\n",
       "      <td>1</td>\n",
       "      <td>133.69</td>\n",
       "      <td>1</td>\n",
       "      <td>511</td>\n",
       "    </tr>\n",
       "    <tr>\n",
       "      <th>90527</th>\n",
       "      <td>ffffd2657e2aad2907e67c3e9daecbeb</td>\n",
       "      <td>2017-05-02 20:18:45</td>\n",
       "      <td>483</td>\n",
       "      <td>2</td>\n",
       "      <td>1</td>\n",
       "      <td>1</td>\n",
       "      <td>71.56</td>\n",
       "      <td>1</td>\n",
       "      <td>211</td>\n",
       "    </tr>\n",
       "  </tbody>\n",
       "</table>\n",
       "<p>90528 rows × 9 columns</p>\n",
       "</div>"
      ],
      "text/plain": [
       "                     customer_unique_id             recency  diff_date  \\\n",
       "0      0000366f3b9a7992bf8c76cfdf3221e2 2018-05-10 10:56:27        111   \n",
       "1      0000b849f77a49e4a4ce2b2a4ca5be3f 2018-05-07 11:11:27        114   \n",
       "2      0000f46a3911fa3c0805444483337064 2017-03-10 21:05:03        536   \n",
       "3      0000f6ccb0745a6a4b88665a16c9f078 2017-10-12 20:29:41        320   \n",
       "4      0004aac84e0df4da2b147fca70cf8255 2017-11-14 19:45:42        287   \n",
       "...                                 ...                 ...        ...   \n",
       "90523  fffcf5a5ff07b0908bd4e2dbc735a684 2017-06-08 21:00:36        446   \n",
       "90524  fffea47cd6d3cc0a88bd621562a9d061 2017-12-10 20:07:56        261   \n",
       "90525  ffff371b4d645b6ecea244b27531430a 2017-02-07 15:49:16        567   \n",
       "90526  ffff5962728ec6157033ef9805bacc48 2018-05-02 15:17:41        118   \n",
       "90527  ffffd2657e2aad2907e67c3e9daecbeb 2017-05-02 20:18:45        483   \n",
       "\n",
       "      r_score  frequency f_score  monetary m_score rfm_score  \n",
       "0           5          1       1    141.90       1       511  \n",
       "1           5          1       1     27.19       1       511  \n",
       "2           2          1       1     86.22       1       211  \n",
       "3           3          1       1     43.62       1       311  \n",
       "4           3          1       1    196.89       1       311  \n",
       "...       ...        ...     ...       ...     ...       ...  \n",
       "90523       2          1       1   4134.84       2       212  \n",
       "90524       4          1       1     84.58       1       411  \n",
       "90525       1          1       1    112.46       1       111  \n",
       "90526       5          1       1    133.69       1       511  \n",
       "90527       2          1       1     71.56       1       211  \n",
       "\n",
       "[90528 rows x 9 columns]"
      ]
     },
     "execution_count": 35,
     "metadata": {},
     "output_type": "execute_result"
    }
   ],
   "source": [
    "rfm_score"
   ]
  },
  {
   "cell_type": "code",
   "execution_count": 36,
   "id": "62267245",
   "metadata": {},
   "outputs": [],
   "source": [
    "segments = {\n",
    "    r'111|112|121|131|141|151' : '이탈 고객',\n",
    "    r'332|322|233|232|223|222|132|123|122|212|211' : '동면 고객', \n",
    "    r'155|154|144|214|215|115|114|113' : '놓치면 안 될 고객',\n",
    "    r'255|254|245|244|253|252|243|242|235|234|225|224|153|152|145|143|142|135|134|133|125|124' : '이탈 우려 고객',\n",
    "    r'331|321|312|221|213|231|241|251' : '휴면 예정 고객',\n",
    "    r'535|534|443|434|343|334|325|324' : '관심 필요 고객',\n",
    "    r'525|524|523|515|514|513|425|424|413|414|415|315|314|313' : '잠재 고객',\n",
    "    r'522|521|512|511|422|421|412|411|311' : '신규 고객',\n",
    "    r'553|551|552|541|542|533|532|531|452|451|442|441|431|453|433|432|423|353|352|351|342|341|333|323' : '잠재 충성 고객',\n",
    "    r'543|444|435|355|354|345|344|335' : '충성 고객',\n",
    "    r'555|554|544|545|454|455|445' : 'VIP 고객'\n",
    "}\n",
    "\n",
    "rfm_score['segment'] = rfm_score['rfm_score'].replace(segments, regex=True)"
   ]
  },
  {
   "cell_type": "code",
   "execution_count": 37,
   "id": "d08014c9",
   "metadata": {},
   "outputs": [
    {
     "data": {
      "text/html": [
       "<div>\n",
       "<style scoped>\n",
       "    .dataframe tbody tr th:only-of-type {\n",
       "        vertical-align: middle;\n",
       "    }\n",
       "\n",
       "    .dataframe tbody tr th {\n",
       "        vertical-align: top;\n",
       "    }\n",
       "\n",
       "    .dataframe thead th {\n",
       "        text-align: right;\n",
       "    }\n",
       "</style>\n",
       "<table border=\"1\" class=\"dataframe\">\n",
       "  <thead>\n",
       "    <tr style=\"text-align: right;\">\n",
       "      <th></th>\n",
       "      <th>customer_unique_id</th>\n",
       "      <th>recency</th>\n",
       "      <th>diff_date</th>\n",
       "      <th>r_score</th>\n",
       "      <th>frequency</th>\n",
       "      <th>f_score</th>\n",
       "      <th>monetary</th>\n",
       "      <th>m_score</th>\n",
       "      <th>rfm_score</th>\n",
       "      <th>segment</th>\n",
       "    </tr>\n",
       "  </thead>\n",
       "  <tbody>\n",
       "    <tr>\n",
       "      <th>0</th>\n",
       "      <td>0000366f3b9a7992bf8c76cfdf3221e2</td>\n",
       "      <td>2018-05-10 10:56:27</td>\n",
       "      <td>111</td>\n",
       "      <td>5</td>\n",
       "      <td>1</td>\n",
       "      <td>1</td>\n",
       "      <td>141.90</td>\n",
       "      <td>1</td>\n",
       "      <td>511</td>\n",
       "      <td>신규 고객</td>\n",
       "    </tr>\n",
       "    <tr>\n",
       "      <th>1</th>\n",
       "      <td>0000b849f77a49e4a4ce2b2a4ca5be3f</td>\n",
       "      <td>2018-05-07 11:11:27</td>\n",
       "      <td>114</td>\n",
       "      <td>5</td>\n",
       "      <td>1</td>\n",
       "      <td>1</td>\n",
       "      <td>27.19</td>\n",
       "      <td>1</td>\n",
       "      <td>511</td>\n",
       "      <td>신규 고객</td>\n",
       "    </tr>\n",
       "    <tr>\n",
       "      <th>2</th>\n",
       "      <td>0000f46a3911fa3c0805444483337064</td>\n",
       "      <td>2017-03-10 21:05:03</td>\n",
       "      <td>536</td>\n",
       "      <td>2</td>\n",
       "      <td>1</td>\n",
       "      <td>1</td>\n",
       "      <td>86.22</td>\n",
       "      <td>1</td>\n",
       "      <td>211</td>\n",
       "      <td>동면 고객</td>\n",
       "    </tr>\n",
       "    <tr>\n",
       "      <th>3</th>\n",
       "      <td>0000f6ccb0745a6a4b88665a16c9f078</td>\n",
       "      <td>2017-10-12 20:29:41</td>\n",
       "      <td>320</td>\n",
       "      <td>3</td>\n",
       "      <td>1</td>\n",
       "      <td>1</td>\n",
       "      <td>43.62</td>\n",
       "      <td>1</td>\n",
       "      <td>311</td>\n",
       "      <td>신규 고객</td>\n",
       "    </tr>\n",
       "    <tr>\n",
       "      <th>4</th>\n",
       "      <td>0004aac84e0df4da2b147fca70cf8255</td>\n",
       "      <td>2017-11-14 19:45:42</td>\n",
       "      <td>287</td>\n",
       "      <td>3</td>\n",
       "      <td>1</td>\n",
       "      <td>1</td>\n",
       "      <td>196.89</td>\n",
       "      <td>1</td>\n",
       "      <td>311</td>\n",
       "      <td>신규 고객</td>\n",
       "    </tr>\n",
       "    <tr>\n",
       "      <th>...</th>\n",
       "      <td>...</td>\n",
       "      <td>...</td>\n",
       "      <td>...</td>\n",
       "      <td>...</td>\n",
       "      <td>...</td>\n",
       "      <td>...</td>\n",
       "      <td>...</td>\n",
       "      <td>...</td>\n",
       "      <td>...</td>\n",
       "      <td>...</td>\n",
       "    </tr>\n",
       "    <tr>\n",
       "      <th>90523</th>\n",
       "      <td>fffcf5a5ff07b0908bd4e2dbc735a684</td>\n",
       "      <td>2017-06-08 21:00:36</td>\n",
       "      <td>446</td>\n",
       "      <td>2</td>\n",
       "      <td>1</td>\n",
       "      <td>1</td>\n",
       "      <td>4134.84</td>\n",
       "      <td>2</td>\n",
       "      <td>212</td>\n",
       "      <td>동면 고객</td>\n",
       "    </tr>\n",
       "    <tr>\n",
       "      <th>90524</th>\n",
       "      <td>fffea47cd6d3cc0a88bd621562a9d061</td>\n",
       "      <td>2017-12-10 20:07:56</td>\n",
       "      <td>261</td>\n",
       "      <td>4</td>\n",
       "      <td>1</td>\n",
       "      <td>1</td>\n",
       "      <td>84.58</td>\n",
       "      <td>1</td>\n",
       "      <td>411</td>\n",
       "      <td>신규 고객</td>\n",
       "    </tr>\n",
       "    <tr>\n",
       "      <th>90525</th>\n",
       "      <td>ffff371b4d645b6ecea244b27531430a</td>\n",
       "      <td>2017-02-07 15:49:16</td>\n",
       "      <td>567</td>\n",
       "      <td>1</td>\n",
       "      <td>1</td>\n",
       "      <td>1</td>\n",
       "      <td>112.46</td>\n",
       "      <td>1</td>\n",
       "      <td>111</td>\n",
       "      <td>이탈 고객</td>\n",
       "    </tr>\n",
       "    <tr>\n",
       "      <th>90526</th>\n",
       "      <td>ffff5962728ec6157033ef9805bacc48</td>\n",
       "      <td>2018-05-02 15:17:41</td>\n",
       "      <td>118</td>\n",
       "      <td>5</td>\n",
       "      <td>1</td>\n",
       "      <td>1</td>\n",
       "      <td>133.69</td>\n",
       "      <td>1</td>\n",
       "      <td>511</td>\n",
       "      <td>신규 고객</td>\n",
       "    </tr>\n",
       "    <tr>\n",
       "      <th>90527</th>\n",
       "      <td>ffffd2657e2aad2907e67c3e9daecbeb</td>\n",
       "      <td>2017-05-02 20:18:45</td>\n",
       "      <td>483</td>\n",
       "      <td>2</td>\n",
       "      <td>1</td>\n",
       "      <td>1</td>\n",
       "      <td>71.56</td>\n",
       "      <td>1</td>\n",
       "      <td>211</td>\n",
       "      <td>동면 고객</td>\n",
       "    </tr>\n",
       "  </tbody>\n",
       "</table>\n",
       "<p>90528 rows × 10 columns</p>\n",
       "</div>"
      ],
      "text/plain": [
       "                     customer_unique_id             recency  diff_date  \\\n",
       "0      0000366f3b9a7992bf8c76cfdf3221e2 2018-05-10 10:56:27        111   \n",
       "1      0000b849f77a49e4a4ce2b2a4ca5be3f 2018-05-07 11:11:27        114   \n",
       "2      0000f46a3911fa3c0805444483337064 2017-03-10 21:05:03        536   \n",
       "3      0000f6ccb0745a6a4b88665a16c9f078 2017-10-12 20:29:41        320   \n",
       "4      0004aac84e0df4da2b147fca70cf8255 2017-11-14 19:45:42        287   \n",
       "...                                 ...                 ...        ...   \n",
       "90523  fffcf5a5ff07b0908bd4e2dbc735a684 2017-06-08 21:00:36        446   \n",
       "90524  fffea47cd6d3cc0a88bd621562a9d061 2017-12-10 20:07:56        261   \n",
       "90525  ffff371b4d645b6ecea244b27531430a 2017-02-07 15:49:16        567   \n",
       "90526  ffff5962728ec6157033ef9805bacc48 2018-05-02 15:17:41        118   \n",
       "90527  ffffd2657e2aad2907e67c3e9daecbeb 2017-05-02 20:18:45        483   \n",
       "\n",
       "      r_score  frequency f_score  monetary m_score rfm_score segment  \n",
       "0           5          1       1    141.90       1       511   신규 고객  \n",
       "1           5          1       1     27.19       1       511   신규 고객  \n",
       "2           2          1       1     86.22       1       211   동면 고객  \n",
       "3           3          1       1     43.62       1       311   신규 고객  \n",
       "4           3          1       1    196.89       1       311   신규 고객  \n",
       "...       ...        ...     ...       ...     ...       ...     ...  \n",
       "90523       2          1       1   4134.84       2       212   동면 고객  \n",
       "90524       4          1       1     84.58       1       411   신규 고객  \n",
       "90525       1          1       1    112.46       1       111   이탈 고객  \n",
       "90526       5          1       1    133.69       1       511   신규 고객  \n",
       "90527       2          1       1     71.56       1       211   동면 고객  \n",
       "\n",
       "[90528 rows x 10 columns]"
      ]
     },
     "execution_count": 37,
     "metadata": {},
     "output_type": "execute_result"
    }
   ],
   "source": [
    "rfm_score"
   ]
  },
  {
   "cell_type": "code",
   "execution_count": 38,
   "id": "bd2896f5",
   "metadata": {},
   "outputs": [],
   "source": [
    "conditions = [\n",
    "    rfm_score[\"segment\"] == \"VIP 고객\",\n",
    "    rfm_score[\"segment\"] == \"충성 고객\",\n",
    "    rfm_score[\"segment\"] == \"잠재 충성 고객\",\n",
    "    rfm_score[\"segment\"] == \"신규 고객\",\n",
    "    rfm_score[\"segment\"] == \"잠재 고객\",\n",
    "    rfm_score[\"segment\"] == \"관심 필요 고객\",\n",
    "    rfm_score[\"segment\"] == \"휴면 예정 고객\",\n",
    "    rfm_score[\"segment\"] == \"이탈 우려 고객\",\n",
    "        rfm_score[\"segment\"] == \"놓치면 안 될 고객\",\n",
    "        rfm_score[\"segment\"] == \"동면 고객\",\n",
    "        rfm_score[\"segment\"] == \"이탈 고객\",\n",
    "]\n",
    "values = [\"다이아몬드\", \"다이아몬드\", \"다이아몬드\", \"골드\", \"골드\", \"골드\", \"실버\", \"실버\", \"실버\", \"브론즈\", \"브론즈\"]\n",
    "\n",
    "rfm_score[\"고객등급\"] = np.select(conditions, values, default=\"\")"
   ]
  },
  {
   "cell_type": "code",
   "execution_count": 39,
   "id": "1a148c45",
   "metadata": {},
   "outputs": [
    {
     "data": {
      "text/html": [
       "<div>\n",
       "<style scoped>\n",
       "    .dataframe tbody tr th:only-of-type {\n",
       "        vertical-align: middle;\n",
       "    }\n",
       "\n",
       "    .dataframe tbody tr th {\n",
       "        vertical-align: top;\n",
       "    }\n",
       "\n",
       "    .dataframe thead th {\n",
       "        text-align: right;\n",
       "    }\n",
       "</style>\n",
       "<table border=\"1\" class=\"dataframe\">\n",
       "  <thead>\n",
       "    <tr style=\"text-align: right;\">\n",
       "      <th></th>\n",
       "      <th>customer_unique_id</th>\n",
       "      <th>recency</th>\n",
       "      <th>diff_date</th>\n",
       "      <th>r_score</th>\n",
       "      <th>frequency</th>\n",
       "      <th>f_score</th>\n",
       "      <th>monetary</th>\n",
       "      <th>m_score</th>\n",
       "      <th>rfm_score</th>\n",
       "      <th>segment</th>\n",
       "      <th>고객등급</th>\n",
       "    </tr>\n",
       "  </thead>\n",
       "  <tbody>\n",
       "    <tr>\n",
       "      <th>0</th>\n",
       "      <td>0000366f3b9a7992bf8c76cfdf3221e2</td>\n",
       "      <td>2018-05-10 10:56:27</td>\n",
       "      <td>111</td>\n",
       "      <td>5</td>\n",
       "      <td>1</td>\n",
       "      <td>1</td>\n",
       "      <td>141.90</td>\n",
       "      <td>1</td>\n",
       "      <td>511</td>\n",
       "      <td>신규 고객</td>\n",
       "      <td>골드</td>\n",
       "    </tr>\n",
       "    <tr>\n",
       "      <th>1</th>\n",
       "      <td>0000b849f77a49e4a4ce2b2a4ca5be3f</td>\n",
       "      <td>2018-05-07 11:11:27</td>\n",
       "      <td>114</td>\n",
       "      <td>5</td>\n",
       "      <td>1</td>\n",
       "      <td>1</td>\n",
       "      <td>27.19</td>\n",
       "      <td>1</td>\n",
       "      <td>511</td>\n",
       "      <td>신규 고객</td>\n",
       "      <td>골드</td>\n",
       "    </tr>\n",
       "    <tr>\n",
       "      <th>2</th>\n",
       "      <td>0000f46a3911fa3c0805444483337064</td>\n",
       "      <td>2017-03-10 21:05:03</td>\n",
       "      <td>536</td>\n",
       "      <td>2</td>\n",
       "      <td>1</td>\n",
       "      <td>1</td>\n",
       "      <td>86.22</td>\n",
       "      <td>1</td>\n",
       "      <td>211</td>\n",
       "      <td>동면 고객</td>\n",
       "      <td>브론즈</td>\n",
       "    </tr>\n",
       "    <tr>\n",
       "      <th>3</th>\n",
       "      <td>0000f6ccb0745a6a4b88665a16c9f078</td>\n",
       "      <td>2017-10-12 20:29:41</td>\n",
       "      <td>320</td>\n",
       "      <td>3</td>\n",
       "      <td>1</td>\n",
       "      <td>1</td>\n",
       "      <td>43.62</td>\n",
       "      <td>1</td>\n",
       "      <td>311</td>\n",
       "      <td>신규 고객</td>\n",
       "      <td>골드</td>\n",
       "    </tr>\n",
       "    <tr>\n",
       "      <th>4</th>\n",
       "      <td>0004aac84e0df4da2b147fca70cf8255</td>\n",
       "      <td>2017-11-14 19:45:42</td>\n",
       "      <td>287</td>\n",
       "      <td>3</td>\n",
       "      <td>1</td>\n",
       "      <td>1</td>\n",
       "      <td>196.89</td>\n",
       "      <td>1</td>\n",
       "      <td>311</td>\n",
       "      <td>신규 고객</td>\n",
       "      <td>골드</td>\n",
       "    </tr>\n",
       "    <tr>\n",
       "      <th>...</th>\n",
       "      <td>...</td>\n",
       "      <td>...</td>\n",
       "      <td>...</td>\n",
       "      <td>...</td>\n",
       "      <td>...</td>\n",
       "      <td>...</td>\n",
       "      <td>...</td>\n",
       "      <td>...</td>\n",
       "      <td>...</td>\n",
       "      <td>...</td>\n",
       "      <td>...</td>\n",
       "    </tr>\n",
       "    <tr>\n",
       "      <th>90523</th>\n",
       "      <td>fffcf5a5ff07b0908bd4e2dbc735a684</td>\n",
       "      <td>2017-06-08 21:00:36</td>\n",
       "      <td>446</td>\n",
       "      <td>2</td>\n",
       "      <td>1</td>\n",
       "      <td>1</td>\n",
       "      <td>4134.84</td>\n",
       "      <td>2</td>\n",
       "      <td>212</td>\n",
       "      <td>동면 고객</td>\n",
       "      <td>브론즈</td>\n",
       "    </tr>\n",
       "    <tr>\n",
       "      <th>90524</th>\n",
       "      <td>fffea47cd6d3cc0a88bd621562a9d061</td>\n",
       "      <td>2017-12-10 20:07:56</td>\n",
       "      <td>261</td>\n",
       "      <td>4</td>\n",
       "      <td>1</td>\n",
       "      <td>1</td>\n",
       "      <td>84.58</td>\n",
       "      <td>1</td>\n",
       "      <td>411</td>\n",
       "      <td>신규 고객</td>\n",
       "      <td>골드</td>\n",
       "    </tr>\n",
       "    <tr>\n",
       "      <th>90525</th>\n",
       "      <td>ffff371b4d645b6ecea244b27531430a</td>\n",
       "      <td>2017-02-07 15:49:16</td>\n",
       "      <td>567</td>\n",
       "      <td>1</td>\n",
       "      <td>1</td>\n",
       "      <td>1</td>\n",
       "      <td>112.46</td>\n",
       "      <td>1</td>\n",
       "      <td>111</td>\n",
       "      <td>이탈 고객</td>\n",
       "      <td>브론즈</td>\n",
       "    </tr>\n",
       "    <tr>\n",
       "      <th>90526</th>\n",
       "      <td>ffff5962728ec6157033ef9805bacc48</td>\n",
       "      <td>2018-05-02 15:17:41</td>\n",
       "      <td>118</td>\n",
       "      <td>5</td>\n",
       "      <td>1</td>\n",
       "      <td>1</td>\n",
       "      <td>133.69</td>\n",
       "      <td>1</td>\n",
       "      <td>511</td>\n",
       "      <td>신규 고객</td>\n",
       "      <td>골드</td>\n",
       "    </tr>\n",
       "    <tr>\n",
       "      <th>90527</th>\n",
       "      <td>ffffd2657e2aad2907e67c3e9daecbeb</td>\n",
       "      <td>2017-05-02 20:18:45</td>\n",
       "      <td>483</td>\n",
       "      <td>2</td>\n",
       "      <td>1</td>\n",
       "      <td>1</td>\n",
       "      <td>71.56</td>\n",
       "      <td>1</td>\n",
       "      <td>211</td>\n",
       "      <td>동면 고객</td>\n",
       "      <td>브론즈</td>\n",
       "    </tr>\n",
       "  </tbody>\n",
       "</table>\n",
       "<p>90528 rows × 11 columns</p>\n",
       "</div>"
      ],
      "text/plain": [
       "                     customer_unique_id             recency  diff_date  \\\n",
       "0      0000366f3b9a7992bf8c76cfdf3221e2 2018-05-10 10:56:27        111   \n",
       "1      0000b849f77a49e4a4ce2b2a4ca5be3f 2018-05-07 11:11:27        114   \n",
       "2      0000f46a3911fa3c0805444483337064 2017-03-10 21:05:03        536   \n",
       "3      0000f6ccb0745a6a4b88665a16c9f078 2017-10-12 20:29:41        320   \n",
       "4      0004aac84e0df4da2b147fca70cf8255 2017-11-14 19:45:42        287   \n",
       "...                                 ...                 ...        ...   \n",
       "90523  fffcf5a5ff07b0908bd4e2dbc735a684 2017-06-08 21:00:36        446   \n",
       "90524  fffea47cd6d3cc0a88bd621562a9d061 2017-12-10 20:07:56        261   \n",
       "90525  ffff371b4d645b6ecea244b27531430a 2017-02-07 15:49:16        567   \n",
       "90526  ffff5962728ec6157033ef9805bacc48 2018-05-02 15:17:41        118   \n",
       "90527  ffffd2657e2aad2907e67c3e9daecbeb 2017-05-02 20:18:45        483   \n",
       "\n",
       "      r_score  frequency f_score  monetary m_score rfm_score segment 고객등급  \n",
       "0           5          1       1    141.90       1       511   신규 고객   골드  \n",
       "1           5          1       1     27.19       1       511   신규 고객   골드  \n",
       "2           2          1       1     86.22       1       211   동면 고객  브론즈  \n",
       "3           3          1       1     43.62       1       311   신규 고객   골드  \n",
       "4           3          1       1    196.89       1       311   신규 고객   골드  \n",
       "...       ...        ...     ...       ...     ...       ...     ...  ...  \n",
       "90523       2          1       1   4134.84       2       212   동면 고객  브론즈  \n",
       "90524       4          1       1     84.58       1       411   신규 고객   골드  \n",
       "90525       1          1       1    112.46       1       111   이탈 고객  브론즈  \n",
       "90526       5          1       1    133.69       1       511   신규 고객   골드  \n",
       "90527       2          1       1     71.56       1       211   동면 고객  브론즈  \n",
       "\n",
       "[90528 rows x 11 columns]"
      ]
     },
     "execution_count": 39,
     "metadata": {},
     "output_type": "execute_result"
    }
   ],
   "source": [
    "rfm_score"
   ]
  },
  {
   "cell_type": "markdown",
   "id": "39c85907",
   "metadata": {},
   "source": [
    "# 시각화"
   ]
  },
  {
   "cell_type": "markdown",
   "id": "4e1287ae",
   "metadata": {},
   "source": [
    "- 각 지표별 갯수 "
   ]
  },
  {
   "cell_type": "code",
   "execution_count": 40,
   "id": "dc195147",
   "metadata": {},
   "outputs": [
    {
     "data": {
      "text/plain": [
       "4    29853\n",
       "5    27699\n",
       "3    19093\n",
       "2    11870\n",
       "1     2013\n",
       "Name: r_score, dtype: int64"
      ]
     },
     "execution_count": 40,
     "metadata": {},
     "output_type": "execute_result"
    }
   ],
   "source": [
    "rfm_score[\"r_score\"].value_counts()"
   ]
  },
  {
   "cell_type": "code",
   "execution_count": 41,
   "id": "d524d294",
   "metadata": {},
   "outputs": [
    {
     "data": {
      "text/plain": [
       "1    90462\n",
       "2       54\n",
       "3       10\n",
       "5        2\n",
       "Name: m_score, dtype: int64"
      ]
     },
     "execution_count": 41,
     "metadata": {},
     "output_type": "execute_result"
    }
   ],
   "source": [
    "rfm_score[\"m_score\"].value_counts()"
   ]
  },
  {
   "cell_type": "code",
   "execution_count": 42,
   "id": "26611f7b",
   "metadata": {},
   "outputs": [
    {
     "data": {
      "text/plain": [
       "1    88076\n",
       "2     2261\n",
       "3      148\n",
       "4       28\n",
       "5       15\n",
       "Name: f_score, dtype: int64"
      ]
     },
     "execution_count": 42,
     "metadata": {},
     "output_type": "execute_result"
    }
   ],
   "source": [
    "rfm_score[\"f_score\"].value_counts()"
   ]
  },
  {
   "cell_type": "code",
   "execution_count": 43,
   "id": "b28e22f7",
   "metadata": {},
   "outputs": [
    {
     "data": {
      "text/plain": [
       "골드       76011\n",
       "브론즈      13649\n",
       "실버         725\n",
       "다이아몬드      143\n",
       "Name: 고객등급, dtype: int64"
      ]
     },
     "execution_count": 43,
     "metadata": {},
     "output_type": "execute_result"
    }
   ],
   "source": [
    "rfm_score[\"고객등급\"].value_counts()"
   ]
  },
  {
   "cell_type": "code",
   "execution_count": 53,
   "id": "1c6d2f79",
   "metadata": {},
   "outputs": [
    {
     "data": {
      "text/plain": [
       "신규 고객         76003\n",
       "동면 고객         11637\n",
       "이탈 고객          2012\n",
       "휴면 예정 고객        724\n",
       "잠재 충성 고객        143\n",
       "잠재 고객             8\n",
       "놓치면 안 될 고객        1\n",
       "Name: segment, dtype: int64"
      ]
     },
     "execution_count": 53,
     "metadata": {},
     "output_type": "execute_result"
    }
   ],
   "source": [
    "rfm_score[\"segment\"].value_counts()"
   ]
  },
  {
   "cell_type": "code",
   "execution_count": 44,
   "id": "d41835c0",
   "metadata": {},
   "outputs": [],
   "source": [
    "a=rfm_score[\"segment\"].value_counts()"
   ]
  },
  {
   "cell_type": "code",
   "execution_count": 45,
   "id": "e9b12342",
   "metadata": {},
   "outputs": [
    {
     "data": {
      "text/plain": [
       "Text(0, 0.5, 'count')"
      ]
     },
     "execution_count": 45,
     "metadata": {},
     "output_type": "execute_result"
    },
    {
     "data": {
      "image/png": "[encoded data removed]",
      "text/plain": [
       "<Figure size 432x288 with 1 Axes>"
      ]
     },
     "metadata": {
      "needs_background": "light"
     },
     "output_type": "display_data"
    }
   ],
   "source": [
    "a.plot(kind='bar')\n",
    "plt.title('고객 세그먼트 별 고객수')\n",
    "plt.ylabel(\"count\")"
   ]
  },
  {
   "cell_type": "markdown",
   "id": "72a176ea",
   "metadata": {},
   "source": [
    "- 신규고객으로 분류된 고객 수가 많다는것을 확인"
   ]
  },
  {
   "cell_type": "code",
   "execution_count": 46,
   "id": "dcbdfcf7",
   "metadata": {},
   "outputs": [],
   "source": [
    "b=rfm_score[\"고객등급\"].value_counts()"
   ]
  },
  {
   "cell_type": "code",
   "execution_count": 47,
   "id": "6ad0065c",
   "metadata": {},
   "outputs": [
    {
     "data": {
      "text/plain": [
       "Text(0, 0.5, 'count')"
      ]
     },
     "execution_count": 47,
     "metadata": {},
     "output_type": "execute_result"
    },
    {
     "data": {
      "image/png": "[encoded data removed]",
      "text/plain": [
       "<Figure size 432x288 with 1 Axes>"
      ]
     },
     "metadata": {
      "needs_background": "light"
     },
     "output_type": "display_data"
    }
   ],
   "source": [
    "rfm_score[\"고객등급\"].value_counts().plot(kind='bar')\n",
    "plt.title('고객 등급 별 고객수')\n",
    "plt.ylabel(\"count\")"
   ]
  },
  {
   "cell_type": "code",
   "execution_count": 48,
   "id": "34649a0d",
   "metadata": {},
   "outputs": [
    {
     "data": {
      "text/plain": [
       "고객등급   segment   \n",
       "골드     신규 고객         76003\n",
       "브론즈    동면 고객         11637\n",
       "       이탈 고객          2012\n",
       "실버     휴면 예정 고객        724\n",
       "다이아몬드  잠재 충성 고객        143\n",
       "골드     잠재 고객             8\n",
       "실버     놓치면 안 될 고객        1\n",
       "dtype: int64"
      ]
     },
     "execution_count": 48,
     "metadata": {},
     "output_type": "execute_result"
    }
   ],
   "source": [
    "rfm_score[[\"고객등급\",\"segment\"]].value_counts()"
   ]
  },
  {
   "cell_type": "code",
   "execution_count": 50,
   "id": "2df77255",
   "metadata": {},
   "outputs": [
    {
     "data": {
      "text/plain": [
       "<AxesSubplot:xlabel='고객등급,segment'>"
      ]
     },
     "execution_count": 50,
     "metadata": {},
     "output_type": "execute_result"
    },
    {
     "data": {
      "image/png": "[encoded data removed]",
      "text/plain": [
       "<Figure size 432x288 with 1 Axes>"
      ]
     },
     "metadata": {
      "needs_background": "light"
     },
     "output_type": "display_data"
    }
   ],
   "source": [
    "rfm_score[[\"고객등급\",\"segment\"]].value_counts().plot(kind='bar',stacked=True)"
   ]
  },
  {
   "cell_type": "code",
   "execution_count": 49,
   "id": "f292b409",
   "metadata": {},
   "outputs": [
    {
     "data": {
      "text/plain": [
       "<AxesSubplot:xlabel='고객등급', ylabel='count'>"
      ]
     },
     "execution_count": 49,
     "metadata": {},
     "output_type": "execute_result"
    },
    {
     "data": {
      "image/png": "[encoded data removed]",
      "text/plain": [
       "<Figure size 1080x720 with 1 Axes>"
      ]
     },
     "metadata": {
      "needs_background": "light"
     },
     "output_type": "display_data"
    }
   ],
   "source": [
    "plt.figure(figsize=(15,10))\n",
    "sns.countplot(x='고객등급',hue='segment',data=rfm_score,dodge=False)"
   ]
  }
 ],
 "metadata": {
  "kernelspec": {
   "display_name": "Python 3 (ipykernel)",
   "language": "python",
   "name": "python3"
  },
  "language_info": {
   "codemirror_mode": {
    "name": "ipython",
    "version": 3
   },
   "file_extension": ".py",
   "mimetype": "text/x-python",
   "name": "python",
   "nbconvert_exporter": "python",
   "pygments_lexer": "ipython3",
   "version": "3.9.12"
  }
 },
 "nbformat": 4,
 "nbformat_minor": 5
}
